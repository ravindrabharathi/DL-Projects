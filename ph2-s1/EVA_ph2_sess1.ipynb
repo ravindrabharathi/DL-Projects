{
  "nbformat": 4,
  "nbformat_minor": 0,
  "metadata": {
    "colab": {
      "name": "EVA-ph2-sess1.ipynb",
      "provenance": [],
      "authorship_tag": "ABX9TyNjmbOLCYmd7ID1m4LqInC3",
      "include_colab_link": true
    },
    "kernelspec": {
      "name": "python3",
      "display_name": "Python 3"
    },
    "accelerator": "GPU"
  },
  "cells": [
    {
      "cell_type": "markdown",
      "metadata": {
        "id": "view-in-github",
        "colab_type": "text"
      },
      "source": [
        "<a href=\"https://colab.research.google.com/github/ravindrabharathi/Project1/blob/master/ph2-s1/EVA_ph2_sess1.ipynb\" target=\"_parent\"><img src=\"https://colab.research.google.com/assets/colab-badge.svg\" alt=\"Open In Colab\"/></a>"
      ]
    },
    {
      "cell_type": "markdown",
      "metadata": {
        "id": "3Rpx01PRquaF",
        "colab_type": "text"
      },
      "source": [
        "#Train a Neural Network to classify IMDB reviews as postive/negative \n",
        "\n",
        "We use the refernce code from François Chollet's Deep Learning with Python book to train a Neural Network to classify IMBD reviews \n",
        "\n",
        "Large Movie Review Dataset(IMDB dataset) is a dataset for binary sentiment classification containing a set of 25,000 highly polar movie reviews for training, and 25,000 for testing. \n",
        "\n",
        "It was first used in the paper 'Learning Word Vectors for Sentiment Analysis' by Andrew L. Maas, Raymond E. Daly, Peter T. Pham, Dan Huang, Andrew Y. Ng, and Christopher Potts. (2011) for The 49th Annual Meeting of the Association for Computational Linguistics (ACL 2011)."
      ]
    },
    {
      "cell_type": "markdown",
      "metadata": {
        "id": "QPmmSYBbrtEa",
        "colab_type": "text"
      },
      "source": [
        "The IMBD data has been downloaded from http://ai.stanford.edu/~amaas/data/sentiment/aclImdb_v1.tar.gz and stored in Google drive. We will mount Google drive and copy the data to current working directory "
      ]
    },
    {
      "cell_type": "code",
      "metadata": {
        "id": "ZZTeEJBt5Q0u",
        "colab_type": "code",
        "outputId": "a145bb50-16ab-4ce7-f82e-14191d93b022",
        "colab": {
          "base_uri": "https://localhost:8080/",
          "height": 122
        }
      },
      "source": [
        "from google.colab import drive\n",
        "drive.mount('/gdrive')"
      ],
      "execution_count": 1,
      "outputs": [
        {
          "output_type": "stream",
          "text": [
            "Go to this URL in a browser: https://accounts.google.com/o/oauth2/auth?client_id=947318989803-6bn6qk8qdgf4n4g3pfee6491hc0brc4i.apps.googleusercontent.com&redirect_uri=urn%3aietf%3awg%3aoauth%3a2.0%3aoob&response_type=code&scope=email%20https%3a%2f%2fwww.googleapis.com%2fauth%2fdocs.test%20https%3a%2f%2fwww.googleapis.com%2fauth%2fdrive%20https%3a%2f%2fwww.googleapis.com%2fauth%2fdrive.photos.readonly%20https%3a%2f%2fwww.googleapis.com%2fauth%2fpeopleapi.readonly\n",
            "\n",
            "Enter your authorization code:\n",
            "··········\n",
            "Mounted at /gdrive\n"
          ],
          "name": "stdout"
        }
      ]
    },
    {
      "cell_type": "code",
      "metadata": {
        "id": "ScedykD05Qz5",
        "colab_type": "code",
        "outputId": "67925f12-054e-4346-92f7-942a207afc8e",
        "colab": {
          "base_uri": "https://localhost:8080/",
          "height": 34
        }
      },
      "source": [
        "!ls '/gdrive/My Drive/EVA/ph2'"
      ],
      "execution_count": 2,
      "outputs": [
        {
          "output_type": "stream",
          "text": [
            "s1\n"
          ],
          "name": "stdout"
        }
      ]
    },
    {
      "cell_type": "code",
      "metadata": {
        "id": "ba6liSbs5FV8",
        "colab_type": "code",
        "colab": {}
      },
      "source": [
        "!cp '/gdrive/My Drive/EVA/ph2/s1/glove.6B.zip' ./"
      ],
      "execution_count": 0,
      "outputs": []
    },
    {
      "cell_type": "code",
      "metadata": {
        "id": "2IHXY2kN6I49",
        "colab_type": "code",
        "colab": {}
      },
      "source": [
        "!cp '/gdrive/My Drive/EVA/ph2/s1/aclImdb_v1.tar.gz' ./"
      ],
      "execution_count": 0,
      "outputs": []
    },
    {
      "cell_type": "code",
      "metadata": {
        "id": "dI603LoznU3n",
        "colab_type": "code",
        "colab": {}
      },
      "source": [
        "#!wget http://ai.stanford.edu/~amaas/data/sentiment/aclImdb_v1.tar.gz"
      ],
      "execution_count": 0,
      "outputs": []
    },
    {
      "cell_type": "markdown",
      "metadata": {
        "id": "ImrKlfhesKxY",
        "colab_type": "text"
      },
      "source": [
        "Create a folder named 'data' and unzip IMBD training and test data into this folder "
      ]
    },
    {
      "cell_type": "code",
      "metadata": {
        "id": "uREMyv5coqyV",
        "colab_type": "code",
        "colab": {}
      },
      "source": [
        "!mkdir 'data'\n"
      ],
      "execution_count": 0,
      "outputs": []
    },
    {
      "cell_type": "code",
      "metadata": {
        "id": "PgASLANrpMNl",
        "colab_type": "code",
        "colab": {}
      },
      "source": [
        "!tar -xf aclImdb_v1.tar.gz -C ./data/"
      ],
      "execution_count": 0,
      "outputs": []
    },
    {
      "cell_type": "markdown",
      "metadata": {
        "id": "QrS6SJ-ZscNa",
        "colab_type": "text"
      },
      "source": [
        "Load training data - all text into a list called 'texts' and all labels into a list called 'labels' "
      ]
    },
    {
      "cell_type": "code",
      "metadata": {
        "id": "twl2UA52wgIi",
        "colab_type": "code",
        "colab": {}
      },
      "source": [
        "import os\n",
        "\n",
        "imdb_dir = '/content/data/aclImdb'\n",
        "train_dir = os.path.join(imdb_dir, 'train')\n",
        "\n",
        "labels = []\n",
        "texts = []\n",
        "\n",
        "for label_type in ['neg', 'pos']:\n",
        "    dir_name = os.path.join(train_dir, label_type)\n",
        "    for fname in os.listdir(dir_name):\n",
        "        if fname[-4:] == '.txt':\n",
        "            f = open(os.path.join(dir_name, fname))\n",
        "            texts.append(f.read())\n",
        "            f.close()\n",
        "            if label_type == 'neg':\n",
        "                labels.append(0)\n",
        "            else:\n",
        "                labels.append(1)"
      ],
      "execution_count": 0,
      "outputs": []
    },
    {
      "cell_type": "code",
      "metadata": {
        "id": "ZB9K4q3mtBOv",
        "colab_type": "code",
        "colab": {
          "base_uri": "https://localhost:8080/",
          "height": 34
        },
        "outputId": "e4202ee1-e0a2-4ef6-fc2b-0994dceb4908"
      },
      "source": [
        "print('Training data has',len(texts),'samples')"
      ],
      "execution_count": 9,
      "outputs": [
        {
          "output_type": "stream",
          "text": [
            "Training data has 25000 samples\n"
          ],
          "name": "stdout"
        }
      ]
    },
    {
      "cell_type": "markdown",
      "metadata": {
        "id": "L-CeUSf7teEj",
        "colab_type": "text"
      },
      "source": [
        "Build train and validation data :\n",
        "\n",
        "We will use the first 100 words of every review to train our network. We will also limit training samples to 8000 and validation samples to 10000. We will also consider only the top 10000 words in the dataset for this training "
      ]
    },
    {
      "cell_type": "code",
      "metadata": {
        "id": "tXyr-kkywwTA",
        "colab_type": "code",
        "colab": {
          "base_uri": "https://localhost:8080/",
          "height": 131
        },
        "outputId": "201a367e-54de-41ac-e38c-2f0053a4897e"
      },
      "source": [
        "from keras.preprocessing.text import Tokenizer\n",
        "from keras.preprocessing.sequence import pad_sequences\n",
        "import numpy as np\n",
        "\n",
        "maxlen = 100  # We will cut reviews after 100 words\n",
        "training_samples = 8000  # We will be training on 8000 samples\n",
        "validation_samples = 10000  # We will be validating on 10000 samples\n",
        "max_words = 10000  # We will only consider the top 10,000 words in the dataset\n",
        "\n",
        "#create tokenizer and sequences\n",
        "tokenizer = Tokenizer(num_words=max_words)\n",
        "tokenizer.fit_on_texts(texts)\n",
        "sequences = tokenizer.texts_to_sequences(texts)\n",
        "\n",
        "#print number of unique tokens\n",
        "word_index = tokenizer.word_index\n",
        "print('Found %s unique tokens.' % len(word_index))\n",
        "\n",
        "# pad sequences to max length of 100 so that all data is of same length\n",
        "data = pad_sequences(sequences, maxlen=maxlen)\n",
        "\n",
        "labels = np.asarray(labels)\n",
        "print('Shape of data tensor:', data.shape)\n",
        "print('Shape of label tensor:', labels.shape)\n",
        "\n",
        "# Split the data into a training set and a validation set\n",
        "# But first, shuffle the data, since we started from data\n",
        "# where sample are ordered (all negative first, then all positive).\n",
        "indices = np.arange(data.shape[0])\n",
        "np.random.shuffle(indices)\n",
        "data = data[indices]\n",
        "labels = labels[indices]\n",
        "\n",
        "x_train = data[:training_samples] #8000 samples for training\n",
        "y_train = labels[:training_samples]\n",
        "x_val = data[training_samples: training_samples + validation_samples] # next 10000 samples for validation\n",
        "y_val = labels[training_samples: training_samples + validation_samples]"
      ],
      "execution_count": 10,
      "outputs": [
        {
          "output_type": "stream",
          "text": [
            "Using TensorFlow backend.\n"
          ],
          "name": "stderr"
        },
        {
          "output_type": "display_data",
          "data": {
            "text/html": [
              "<p style=\"color: red;\">\n",
              "The default version of TensorFlow in Colab will soon switch to TensorFlow 2.x.<br>\n",
              "We recommend you <a href=\"https://www.tensorflow.org/guide/migrate\" target=\"_blank\">upgrade</a> now \n",
              "or ensure your notebook will continue to use TensorFlow 1.x via the <code>%tensorflow_version 1.x</code> magic:\n",
              "<a href=\"https://colab.research.google.com/notebooks/tensorflow_version.ipynb\" target=\"_blank\">more info</a>.</p>\n"
            ],
            "text/plain": [
              "<IPython.core.display.HTML object>"
            ]
          },
          "metadata": {
            "tags": []
          }
        },
        {
          "output_type": "stream",
          "text": [
            "Found 88582 unique tokens.\n",
            "Shape of data tensor: (25000, 100)\n",
            "Shape of label tensor: (25000,)\n"
          ],
          "name": "stdout"
        }
      ]
    },
    {
      "cell_type": "markdown",
      "metadata": {
        "id": "ApwpRS6ky1sN",
        "colab_type": "text"
      },
      "source": [
        "GloVe Embeddings\n",
        "\n",
        "There are various precomputed databases of word embeddings that you can download and use in a Keras Embedding layer. One of them is \n",
        "Global Vectors for Word Representation (GloVe, https://nlp.stanford.edu/projects/glove), which was developed by Stanford researchers in 2014. This\n",
        "embedding technique is based on factorizing a matrix of word co-occurrence statistics. Its developers have made available precomputed embeddings for millions of\n",
        "English tokens, obtained from Wikipedia data and Common Crawl data.\n",
        "\n",
        "GloVe embeddings have been downloaded from  http://nlp.stanford.edu/data/glove.6B.zip and stored in Google drive. We will unzip the embedding files into 'data' folder "
      ]
    },
    {
      "cell_type": "code",
      "metadata": {
        "id": "DhqYAXVLxQ-a",
        "colab_type": "code",
        "colab": {}
      },
      "source": [
        "#!wget http://nlp.stanford.edu/data/glove.6B.zip"
      ],
      "execution_count": 0,
      "outputs": []
    },
    {
      "cell_type": "code",
      "metadata": {
        "id": "do5HQQEcy-bZ",
        "colab_type": "code",
        "colab": {
          "base_uri": "https://localhost:8080/",
          "height": 102
        },
        "outputId": "5a5a005a-95a0-43a7-a94a-15dce0acfb04"
      },
      "source": [
        "!unzip glove.6B.zip -d ./data/"
      ],
      "execution_count": 12,
      "outputs": [
        {
          "output_type": "stream",
          "text": [
            "Archive:  glove.6B.zip\n",
            "  inflating: ./data/glove.6B.50d.txt  \n",
            "  inflating: ./data/glove.6B.100d.txt  \n",
            "  inflating: ./data/glove.6B.200d.txt  \n",
            "  inflating: ./data/glove.6B.300d.txt  \n"
          ],
          "name": "stdout"
        }
      ]
    },
    {
      "cell_type": "markdown",
      "metadata": {
        "id": "v_KYAUg5z4ap",
        "colab_type": "text"
      },
      "source": [
        "Load and parse the word embeddings from GloVe . Use the 100 dimensional embedding vectors found in 'glove.6B.100d.txt'"
      ]
    },
    {
      "cell_type": "code",
      "metadata": {
        "id": "aybedG0wzlzz",
        "colab_type": "code",
        "colab": {
          "base_uri": "https://localhost:8080/",
          "height": 34
        },
        "outputId": "06b5f304-6f7b-4bfa-829a-eeb689aef2cc"
      },
      "source": [
        "glove_dir = '/content/data/'\n",
        "\n",
        "embeddings_index = {}\n",
        "f = open(os.path.join(glove_dir, 'glove.6B.100d.txt')) #use 100 dimensional emdedding vectors \n",
        "for line in f:\n",
        "    values = line.split()\n",
        "    word = values[0]\n",
        "    coefs = np.asarray(values[1:], dtype='float32')\n",
        "    embeddings_index[word] = coefs\n",
        "f.close()\n",
        "\n",
        "print('Found %s word vectors.' % len(embeddings_index))"
      ],
      "execution_count": 13,
      "outputs": [
        {
          "output_type": "stream",
          "text": [
            "Found 400000 word vectors.\n"
          ],
          "name": "stdout"
        }
      ]
    },
    {
      "cell_type": "markdown",
      "metadata": {
        "id": "01ZzhADp0qmT",
        "colab_type": "text"
      },
      "source": [
        "Build an embedding matrix that you can load into an Embedding layer. It\n",
        "must be a matrix of shape (max_words, embedding_dim)"
      ]
    },
    {
      "cell_type": "code",
      "metadata": {
        "id": "qLVjck1Lzuay",
        "colab_type": "code",
        "colab": {}
      },
      "source": [
        "embedding_dim = 100\n",
        "\n",
        "embedding_matrix = np.zeros((max_words, embedding_dim))\n",
        "for word, i in word_index.items():\n",
        "    embedding_vector = embeddings_index.get(word)\n",
        "    if i < max_words:\n",
        "        if embedding_vector is not None:\n",
        "            # Words not found in embedding index will be all-zeros.\n",
        "            embedding_matrix[i] = embedding_vector"
      ],
      "execution_count": 0,
      "outputs": []
    },
    {
      "cell_type": "markdown",
      "metadata": {
        "id": "FYQvRbt31N_3",
        "colab_type": "text"
      },
      "source": [
        "Define the Model "
      ]
    },
    {
      "cell_type": "code",
      "metadata": {
        "id": "z43AY1Qrzzpi",
        "colab_type": "code",
        "colab": {
          "base_uri": "https://localhost:8080/",
          "height": 411
        },
        "outputId": "b71fe01a-9007-4e3b-8298-3c3d24b396a5"
      },
      "source": [
        "from keras.models import Sequential\n",
        "from keras.layers import Embedding, Flatten, Dense\n",
        "\n",
        "model = Sequential()\n",
        "model.add(Embedding(max_words, embedding_dim, input_length=maxlen))\n",
        "model.add(Flatten())\n",
        "model.add(Dense(32, activation='relu'))\n",
        "model.add(Dense(1, activation='sigmoid'))\n",
        "model.summary()"
      ],
      "execution_count": 15,
      "outputs": [
        {
          "output_type": "stream",
          "text": [
            "WARNING:tensorflow:From /usr/local/lib/python3.6/dist-packages/keras/backend/tensorflow_backend.py:66: The name tf.get_default_graph is deprecated. Please use tf.compat.v1.get_default_graph instead.\n",
            "\n",
            "WARNING:tensorflow:From /usr/local/lib/python3.6/dist-packages/keras/backend/tensorflow_backend.py:541: The name tf.placeholder is deprecated. Please use tf.compat.v1.placeholder instead.\n",
            "\n",
            "WARNING:tensorflow:From /usr/local/lib/python3.6/dist-packages/keras/backend/tensorflow_backend.py:4432: The name tf.random_uniform is deprecated. Please use tf.random.uniform instead.\n",
            "\n",
            "Model: \"sequential_1\"\n",
            "_________________________________________________________________\n",
            "Layer (type)                 Output Shape              Param #   \n",
            "=================================================================\n",
            "embedding_1 (Embedding)      (None, 100, 100)          1000000   \n",
            "_________________________________________________________________\n",
            "flatten_1 (Flatten)          (None, 10000)             0         \n",
            "_________________________________________________________________\n",
            "dense_1 (Dense)              (None, 32)                320032    \n",
            "_________________________________________________________________\n",
            "dense_2 (Dense)              (None, 1)                 33        \n",
            "=================================================================\n",
            "Total params: 1,320,065\n",
            "Trainable params: 1,320,065\n",
            "Non-trainable params: 0\n",
            "_________________________________________________________________\n"
          ],
          "name": "stdout"
        }
      ]
    },
    {
      "cell_type": "markdown",
      "metadata": {
        "id": "wu0WJOUI1cTF",
        "colab_type": "text"
      },
      "source": [
        "Load pretrained word embeddings into the Embedding layer and freeze the embedding layer so that the pretrained parts aren’t\n",
        "updated during training, to avoid forgetting what they already know."
      ]
    },
    {
      "cell_type": "code",
      "metadata": {
        "id": "gzTmo4x2z9AM",
        "colab_type": "code",
        "colab": {
          "base_uri": "https://localhost:8080/",
          "height": 241
        },
        "outputId": "ccbc9612-2b17-4e10-8f79-c1f507c04641"
      },
      "source": [
        "model.layers[0].set_weights([embedding_matrix])\n",
        "model.layers[0].trainable = False"
      ],
      "execution_count": 16,
      "outputs": [
        {
          "output_type": "stream",
          "text": [
            "WARNING:tensorflow:From /usr/local/lib/python3.6/dist-packages/keras/backend/tensorflow_backend.py:190: The name tf.get_default_session is deprecated. Please use tf.compat.v1.get_default_session instead.\n",
            "\n",
            "WARNING:tensorflow:From /usr/local/lib/python3.6/dist-packages/keras/backend/tensorflow_backend.py:197: The name tf.ConfigProto is deprecated. Please use tf.compat.v1.ConfigProto instead.\n",
            "\n",
            "WARNING:tensorflow:From /usr/local/lib/python3.6/dist-packages/keras/backend/tensorflow_backend.py:203: The name tf.Session is deprecated. Please use tf.compat.v1.Session instead.\n",
            "\n",
            "WARNING:tensorflow:From /usr/local/lib/python3.6/dist-packages/keras/backend/tensorflow_backend.py:207: The name tf.global_variables is deprecated. Please use tf.compat.v1.global_variables instead.\n",
            "\n",
            "WARNING:tensorflow:From /usr/local/lib/python3.6/dist-packages/keras/backend/tensorflow_backend.py:216: The name tf.is_variable_initialized is deprecated. Please use tf.compat.v1.is_variable_initialized instead.\n",
            "\n",
            "WARNING:tensorflow:From /usr/local/lib/python3.6/dist-packages/keras/backend/tensorflow_backend.py:223: The name tf.variables_initializer is deprecated. Please use tf.compat.v1.variables_initializer instead.\n",
            "\n"
          ],
          "name": "stdout"
        }
      ]
    },
    {
      "cell_type": "markdown",
      "metadata": {
        "id": "Bf8yMs1DBDdG",
        "colab_type": "text"
      },
      "source": [
        "Compile the model and train for 10 epochs. Use rmsprop optimizer with binary crossentropy loss function to train the model \n",
        "\n",
        "Save the model weights to file 'pre_trained_glove_model.h5'"
      ]
    },
    {
      "cell_type": "code",
      "metadata": {
        "id": "EqTCR1lj0CCj",
        "colab_type": "code",
        "colab": {
          "base_uri": "https://localhost:8080/",
          "height": 581
        },
        "outputId": "c6c45112-8474-4245-8b8b-c554d600d1d1"
      },
      "source": [
        "model.compile(optimizer='rmsprop',\n",
        "              loss='binary_crossentropy',\n",
        "              metrics=['acc'])\n",
        "history = model.fit(x_train, y_train,\n",
        "                    epochs=10,\n",
        "                    batch_size=32,\n",
        "                    validation_data=(x_val, y_val))\n",
        "model.save_weights('pre_trained_glove_model.h5')"
      ],
      "execution_count": 17,
      "outputs": [
        {
          "output_type": "stream",
          "text": [
            "WARNING:tensorflow:From /usr/local/lib/python3.6/dist-packages/keras/optimizers.py:793: The name tf.train.Optimizer is deprecated. Please use tf.compat.v1.train.Optimizer instead.\n",
            "\n",
            "WARNING:tensorflow:From /usr/local/lib/python3.6/dist-packages/keras/backend/tensorflow_backend.py:3657: The name tf.log is deprecated. Please use tf.math.log instead.\n",
            "\n",
            "WARNING:tensorflow:From /usr/local/lib/python3.6/dist-packages/tensorflow_core/python/ops/nn_impl.py:183: where (from tensorflow.python.ops.array_ops) is deprecated and will be removed in a future version.\n",
            "Instructions for updating:\n",
            "Use tf.where in 2.0, which has the same broadcast rule as np.where\n",
            "WARNING:tensorflow:From /usr/local/lib/python3.6/dist-packages/keras/backend/tensorflow_backend.py:1033: The name tf.assign_add is deprecated. Please use tf.compat.v1.assign_add instead.\n",
            "\n",
            "WARNING:tensorflow:From /usr/local/lib/python3.6/dist-packages/keras/backend/tensorflow_backend.py:1020: The name tf.assign is deprecated. Please use tf.compat.v1.assign instead.\n",
            "\n",
            "Train on 8000 samples, validate on 10000 samples\n",
            "Epoch 1/10\n",
            "8000/8000 [==============================] - 3s 374us/step - loss: 0.7093 - acc: 0.5770 - val_loss: 0.6540 - val_acc: 0.6510\n",
            "Epoch 2/10\n",
            "8000/8000 [==============================] - 1s 143us/step - loss: 0.6179 - acc: 0.6738 - val_loss: 0.7411 - val_acc: 0.5728\n",
            "Epoch 3/10\n",
            "8000/8000 [==============================] - 1s 139us/step - loss: 0.5268 - acc: 0.7370 - val_loss: 0.5747 - val_acc: 0.7024\n",
            "Epoch 4/10\n",
            "8000/8000 [==============================] - 1s 143us/step - loss: 0.4616 - acc: 0.7844 - val_loss: 0.5839 - val_acc: 0.7051\n",
            "Epoch 5/10\n",
            "8000/8000 [==============================] - 1s 139us/step - loss: 0.3696 - acc: 0.8340 - val_loss: 0.5906 - val_acc: 0.6993\n",
            "Epoch 6/10\n",
            "8000/8000 [==============================] - 1s 138us/step - loss: 0.3139 - acc: 0.8698 - val_loss: 0.6545 - val_acc: 0.6926\n",
            "Epoch 7/10\n",
            "8000/8000 [==============================] - 1s 139us/step - loss: 0.2599 - acc: 0.8928 - val_loss: 0.7268 - val_acc: 0.6875\n",
            "Epoch 8/10\n",
            "8000/8000 [==============================] - 1s 139us/step - loss: 0.2032 - acc: 0.9230 - val_loss: 0.7760 - val_acc: 0.6905\n",
            "Epoch 9/10\n",
            "8000/8000 [==============================] - 1s 134us/step - loss: 0.1654 - acc: 0.9363 - val_loss: 1.1522 - val_acc: 0.6390\n",
            "Epoch 10/10\n",
            "8000/8000 [==============================] - 1s 133us/step - loss: 0.1280 - acc: 0.9545 - val_loss: 0.8864 - val_acc: 0.6916\n"
          ],
          "name": "stdout"
        }
      ]
    },
    {
      "cell_type": "markdown",
      "metadata": {
        "id": "UOKWkQ80Bect",
        "colab_type": "text"
      },
      "source": [
        "plot the model accuracy and loss values "
      ]
    },
    {
      "cell_type": "code",
      "metadata": {
        "id": "WcQdrGJW0KNI",
        "colab_type": "code",
        "colab": {
          "base_uri": "https://localhost:8080/",
          "height": 545
        },
        "outputId": "44282674-fbc1-4553-b6f0-aa9a460feeae"
      },
      "source": [
        "import matplotlib.pyplot as plt\n",
        "\n",
        "acc = history.history['acc']\n",
        "val_acc = history.history['val_acc']\n",
        "loss = history.history['loss']\n",
        "val_loss = history.history['val_loss']\n",
        "\n",
        "epochs = range(1, len(acc) + 1)\n",
        "\n",
        "plt.plot(epochs, acc, 'b', label='Training acc')\n",
        "plt.plot(epochs, val_acc, 'r', label='Validation acc')\n",
        "plt.title('Training and validation accuracy')\n",
        "plt.legend()\n",
        "\n",
        "plt.figure()\n",
        "\n",
        "plt.plot(epochs, loss, 'b', label='Training loss')\n",
        "plt.plot(epochs, val_loss, 'r', label='Validation loss')\n",
        "plt.title('Training and validation loss')\n",
        "plt.legend()\n",
        "\n",
        "plt.show()"
      ],
      "execution_count": 18,
      "outputs": [
        {
          "output_type": "display_data",
          "data": {
            "image/png": "[encoded data removed]",
            "text/plain": [
              "<Figure size 432x288 with 1 Axes>"
            ]
          },
          "metadata": {
            "tags": []
          }
        },
        {
          "output_type": "display_data",
          "data": {
            "image/png": "[encoded data removed]",
            "text/plain": [
              "<Figure size 432x288 with 1 Axes>"
            ]
          },
          "metadata": {
            "tags": []
          }
        }
      ]
    },
    {
      "cell_type": "markdown",
      "metadata": {
        "id": "1Rr7fpPQBlNg",
        "colab_type": "text"
      },
      "source": [
        "The model reaches a validation accuracy of around 70%"
      ]
    },
    {
      "cell_type": "markdown",
      "metadata": {
        "colab_type": "text",
        "id": "kub7FTgRDkXt"
      },
      "source": [
        "Model Evaluation \n",
        "\n",
        "Load the test data and evaluate model performance "
      ]
    },
    {
      "cell_type": "code",
      "metadata": {
        "colab_type": "code",
        "id": "N90jpxGdDkXz",
        "colab": {}
      },
      "source": [
        "test_dir = os.path.join(imdb_dir, 'test')\n",
        "\n",
        "labels = []\n",
        "texts = []\n",
        "\n",
        "for label_type in ['neg', 'pos']:\n",
        "    dir_name = os.path.join(test_dir, label_type)\n",
        "    for fname in sorted(os.listdir(dir_name)):\n",
        "        if fname[-4:] == '.txt':\n",
        "            f = open(os.path.join(dir_name, fname))\n",
        "            texts.append(f.read())\n",
        "            f.close()\n",
        "            if label_type == 'neg':\n",
        "                labels.append(0)\n",
        "            else:\n",
        "                labels.append(1)\n",
        "\n",
        "sequences = tokenizer.texts_to_sequences(texts)\n",
        "x_test = pad_sequences(sequences, maxlen=maxlen)\n",
        "y_test = np.asarray(labels)"
      ],
      "execution_count": 0,
      "outputs": []
    },
    {
      "cell_type": "code",
      "metadata": {
        "colab_type": "code",
        "outputId": "d279cb15-3486-4897-9f2d-e2b82c0c90f8",
        "id": "qxgPMfcnDkX2",
        "colab": {
          "base_uri": "https://localhost:8080/",
          "height": 51
        }
      },
      "source": [
        "model.load_weights('pre_trained_glove_model.h5')\n",
        "model.evaluate(x_test, y_test)"
      ],
      "execution_count": 20,
      "outputs": [
        {
          "output_type": "stream",
          "text": [
            "25000/25000 [==============================] - 1s 40us/step\n"
          ],
          "name": "stdout"
        },
        {
          "output_type": "execute_result",
          "data": {
            "text/plain": [
              "[0.8920598086166381, 0.68976]"
            ]
          },
          "metadata": {
            "tags": []
          },
          "execution_count": 20
        }
      ]
    },
    {
      "cell_type": "markdown",
      "metadata": {
        "id": "V-hpTkrSCFH2",
        "colab_type": "text"
      },
      "source": [
        "Training the model wthout pretrained word embeddings :\n",
        "\n",
        "Now let us train the same model without loading the pretrained word embeddings and without freezing the embedding layer. In this case, model will learn a taskspecific embedding of the input tokens, which is generally more powerful than\n",
        "pretrained word embeddings when lots of data is available. "
      ]
    },
    {
      "cell_type": "code",
      "metadata": {
        "id": "U1d6HF_R0UhA",
        "colab_type": "code",
        "colab": {
          "base_uri": "https://localhost:8080/",
          "height": 646
        },
        "outputId": "d3559e56-12e9-449e-d872-d0dbbffd216f"
      },
      "source": [
        "from keras.models import Sequential\n",
        "from keras.layers import Embedding, Flatten, Dense\n",
        "\n",
        "model = Sequential()\n",
        "model.add(Embedding(max_words, embedding_dim, input_length=maxlen))\n",
        "model.add(Flatten())\n",
        "model.add(Dense(32, activation='relu'))\n",
        "model.add(Dense(1, activation='sigmoid'))\n",
        "model.summary()\n",
        "\n",
        "model.compile(optimizer='rmsprop',\n",
        "              loss='binary_crossentropy',\n",
        "              metrics=['acc'])\n",
        "history = model.fit(x_train, y_train,\n",
        "                    epochs=10,\n",
        "                    batch_size=32,\n",
        "                    validation_data=(x_val, y_val))"
      ],
      "execution_count": 21,
      "outputs": [
        {
          "output_type": "stream",
          "text": [
            "Model: \"sequential_2\"\n",
            "_________________________________________________________________\n",
            "Layer (type)                 Output Shape              Param #   \n",
            "=================================================================\n",
            "embedding_2 (Embedding)      (None, 100, 100)          1000000   \n",
            "_________________________________________________________________\n",
            "flatten_2 (Flatten)          (None, 10000)             0         \n",
            "_________________________________________________________________\n",
            "dense_3 (Dense)              (None, 32)                320032    \n",
            "_________________________________________________________________\n",
            "dense_4 (Dense)              (None, 1)                 33        \n",
            "=================================================================\n",
            "Total params: 1,320,065\n",
            "Trainable params: 1,320,065\n",
            "Non-trainable params: 0\n",
            "_________________________________________________________________\n",
            "Train on 8000 samples, validate on 10000 samples\n",
            "Epoch 1/10\n",
            "8000/8000 [==============================] - 2s 199us/step - loss: 0.5462 - acc: 0.7031 - val_loss: 0.3948 - val_acc: 0.8217\n",
            "Epoch 2/10\n",
            "8000/8000 [==============================] - 1s 169us/step - loss: 0.1467 - acc: 0.9504 - val_loss: 0.4517 - val_acc: 0.8066\n",
            "Epoch 3/10\n",
            "8000/8000 [==============================] - 1s 170us/step - loss: 0.0120 - acc: 0.9978 - val_loss: 0.5590 - val_acc: 0.8107\n",
            "Epoch 4/10\n",
            "8000/8000 [==============================] - 1s 167us/step - loss: 3.9681e-04 - acc: 1.0000 - val_loss: 0.7148 - val_acc: 0.8107\n",
            "Epoch 5/10\n",
            "8000/8000 [==============================] - 1s 168us/step - loss: 3.2841e-05 - acc: 1.0000 - val_loss: 0.8356 - val_acc: 0.8163\n",
            "Epoch 6/10\n",
            "8000/8000 [==============================] - 1s 164us/step - loss: 4.4998e-07 - acc: 1.0000 - val_loss: 0.9594 - val_acc: 0.8119\n",
            "Epoch 7/10\n",
            "8000/8000 [==============================] - 1s 161us/step - loss: 1.5914e-07 - acc: 1.0000 - val_loss: 0.9716 - val_acc: 0.8156\n",
            "Epoch 8/10\n",
            "8000/8000 [==============================] - 1s 163us/step - loss: 1.1124e-07 - acc: 1.0000 - val_loss: 0.9836 - val_acc: 0.8152\n",
            "Epoch 9/10\n",
            "8000/8000 [==============================] - 1s 163us/step - loss: 1.1024e-07 - acc: 1.0000 - val_loss: 1.0097 - val_acc: 0.8133\n",
            "Epoch 10/10\n",
            "8000/8000 [==============================] - 1s 165us/step - loss: 1.1020e-07 - acc: 1.0000 - val_loss: 1.0084 - val_acc: 0.8138\n"
          ],
          "name": "stdout"
        }
      ]
    },
    {
      "cell_type": "markdown",
      "metadata": {
        "id": "X8YeC89eC4Qz",
        "colab_type": "text"
      },
      "source": [
        "Plot the training /validation accuracy and loss values "
      ]
    },
    {
      "cell_type": "code",
      "metadata": {
        "id": "TLHIwukm0Z_o",
        "colab_type": "code",
        "colab": {
          "base_uri": "https://localhost:8080/",
          "height": 545
        },
        "outputId": "513f8f49-5cad-43dc-f31c-910cd8c59982"
      },
      "source": [
        "val_acc = history.history['val_acc']\n",
        "loss = history.history['loss']\n",
        "val_loss = history.history['val_loss']\n",
        "\n",
        "epochs = range(1, len(acc) + 1)\n",
        "\n",
        "plt.plot(epochs, acc, 'b', label='Training acc')\n",
        "plt.plot(epochs, val_acc, 'r', label='Validation acc')\n",
        "plt.title('Training and validation accuracy')\n",
        "plt.legend()\n",
        "\n",
        "plt.figure()\n",
        "\n",
        "plt.plot(epochs, loss, 'b', label='Training loss')\n",
        "plt.plot(epochs, val_loss, 'r', label='Validation loss')\n",
        "plt.title('Training and validation loss')\n",
        "plt.legend()\n",
        "\n",
        "plt.show()"
      ],
      "execution_count": 22,
      "outputs": [
        {
          "output_type": "display_data",
          "data": {
            "image/png": "[encoded data removed]",
            "text/plain": [
              "<Figure size 432x288 with 1 Axes>"
            ]
          },
          "metadata": {
            "tags": []
          }
        },
        {
          "output_type": "display_data",
          "data": {
            "image/png": "[encoded data removed]",
            "text/plain": [
              "<Figure size 432x288 with 1 Axes>"
            ]
          },
          "metadata": {
            "tags": []
          }
        }
      ]
    },
    {
      "cell_type": "markdown",
      "metadata": {
        "id": "C6SywbYPEBAc",
        "colab_type": "text"
      },
      "source": [
        "In this case the model reaches a validation accuracy of around 81"
      ]
    },
    {
      "cell_type": "markdown",
      "metadata": {
        "id": "svVNNoAiDDpO",
        "colab_type": "text"
      },
      "source": [
        "Model Evaluation \n",
        "\n",
        "Evaluate model performance on Test data that we have already loaded"
      ]
    },
    {
      "cell_type": "code",
      "metadata": {
        "id": "5tAKeN870nDD",
        "colab_type": "code",
        "colab": {
          "base_uri": "https://localhost:8080/",
          "height": 51
        },
        "outputId": "d8eebe99-9c8a-4dc4-ed90-1286ba891775"
      },
      "source": [
        "\n",
        "model.evaluate(x_test, y_test)"
      ],
      "execution_count": 23,
      "outputs": [
        {
          "output_type": "stream",
          "text": [
            "25000/25000 [==============================] - 1s 48us/step\n"
          ],
          "name": "stdout"
        },
        {
          "output_type": "execute_result",
          "data": {
            "text/plain": [
              "[0.9959731257635355, 0.81008]"
            ]
          },
          "metadata": {
            "tags": []
          },
          "execution_count": 23
        }
      ]
    },
    {
      "cell_type": "markdown",
      "metadata": {
        "id": "l0sdV7NgGAb6",
        "colab_type": "text"
      },
      "source": [
        "We trained a model to classify IMBD reviews \n",
        "1. using pretrained GloVe word embeddings with 8000 training samples and reached a test accuracy of about 69% \n",
        "2. Without pretrained GloVe word embeddings using 8000 training samples and reached a test accuracy of about 81% \n",
        "\n",
        "In the original example from the book using 200 samples, the accuracy reached was around 50-55% and pretrained word embeddings seemed to perform slightly better. But with a larger data size of 8000 samples we find that te model performed better when it learns task-specific embedding of input tokens without using the pre-trained embeddings ."
      ]
    }
  ]
}