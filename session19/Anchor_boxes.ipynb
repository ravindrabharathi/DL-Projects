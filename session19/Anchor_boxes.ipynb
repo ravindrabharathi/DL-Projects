{
  "nbformat": 4,
  "nbformat_minor": 0,
  "metadata": {
    "colab": {
      "name": "Anchor-boxes.ipynb",
      "provenance": [],
      "collapsed_sections": [],
      "include_colab_link": true
    },
    "kernelspec": {
      "name": "python3",
      "display_name": "Python 3"
    },
    "accelerator": "GPU"
  },
  "cells": [
    {
      "cell_type": "markdown",
      "metadata": {
        "id": "view-in-github",
        "colab_type": "text"
      },
      "source": [
        "<a href=\"https://colab.research.google.com/github/ravindrabharathi/Project1/blob/master/session19/Anchor_boxes.ipynb\" target=\"_parent\"><img src=\"https://colab.research.google.com/assets/colab-badge.svg\" alt=\"Open In Colab\"/></a>"
      ]
    },
    {
      "cell_type": "markdown",
      "metadata": {
        "id": "19lHHlCEnMOk",
        "colab_type": "text"
      },
      "source": [
        "## Cluster bounding boxes using K-Means clustering and find the top 4 anchor box sizes "
      ]
    },
    {
      "cell_type": "markdown",
      "metadata": {
        "id": "MNtU1VGLo2uH",
        "colab_type": "text"
      },
      "source": [
        "### mount google drive and copy the vgg annotated file for face dataset images "
      ]
    },
    {
      "cell_type": "code",
      "metadata": {
        "id": "XWoTSZMHV2et",
        "colab_type": "code",
        "outputId": "60b0431d-159b-4911-fc4c-a6970e682e1b",
        "colab": {
          "base_uri": "https://localhost:8080/",
          "height": 122
        }
      },
      "source": [
        "from google.colab import drive\n",
        "drive.mount('/gdrive')"
      ],
      "execution_count": 2,
      "outputs": [
        {
          "output_type": "stream",
          "text": [
            "Go to this URL in a browser: https://accounts.google.com/o/oauth2/auth?client_id=947318989803-6bn6qk8qdgf4n4g3pfee6491hc0brc4i.apps.googleusercontent.com&redirect_uri=urn%3Aietf%3Awg%3Aoauth%3A2.0%3Aoob&scope=email%20https%3A%2F%2Fwww.googleapis.com%2Fauth%2Fdocs.test%20https%3A%2F%2Fwww.googleapis.com%2Fauth%2Fdrive%20https%3A%2F%2Fwww.googleapis.com%2Fauth%2Fdrive.photos.readonly%20https%3A%2F%2Fwww.googleapis.com%2Fauth%2Fpeopleapi.readonly&response_type=code\n",
            "\n",
            "Enter your authorization code:\n",
            "··········\n",
            "Mounted at /gdrive\n"
          ],
          "name": "stdout"
        }
      ]
    },
    {
      "cell_type": "code",
      "metadata": {
        "id": "6qpJIlDwXxEg",
        "colab_type": "code",
        "outputId": "be66d5d2-0f75-473c-f409-3d2b3a9a1e99",
        "colab": {
          "base_uri": "https://localhost:8080/",
          "height": 34
        }
      },
      "source": [
        "!ls '/gdrive/My Drive/EVA/session19'"
      ],
      "execution_count": 3,
      "outputs": [
        {
          "output_type": "stream",
          "text": [
            "faces.json\n"
          ],
          "name": "stdout"
        }
      ]
    },
    {
      "cell_type": "code",
      "metadata": {
        "id": "1jXEQmu6V2d7",
        "colab_type": "code",
        "colab": {}
      },
      "source": [
        "data_file='/gdrive/My Drive/EVA/session19/faces.json'"
      ],
      "execution_count": 0,
      "outputs": []
    },
    {
      "cell_type": "code",
      "metadata": {
        "id": "-jX4WYDdXYkm",
        "colab_type": "code",
        "colab": {}
      },
      "source": [
        "!cp '/gdrive/My Drive/EVA/session19/faces.json' './'"
      ],
      "execution_count": 0,
      "outputs": []
    },
    {
      "cell_type": "markdown",
      "metadata": {
        "id": "u3KN1UMXpHnE",
        "colab_type": "text"
      },
      "source": [
        "### import json lib for parsing json data"
      ]
    },
    {
      "cell_type": "code",
      "metadata": {
        "id": "HnWtYBrDYUeW",
        "colab_type": "code",
        "colab": {}
      },
      "source": [
        "import json \n",
        "\n",
        "import os\n",
        "\n",
        "with open('./faces.json') as f:\n",
        "  faces_json=json.load(f)\n",
        "\n"
      ],
      "execution_count": 0,
      "outputs": []
    },
    {
      "cell_type": "markdown",
      "metadata": {
        "id": "I7KxW9nhpmWX",
        "colab_type": "text"
      },
      "source": [
        "### parse the via project settings file 'faces.json' and get the width and heigt of each region marked in the json "
      ]
    },
    {
      "cell_type": "code",
      "metadata": {
        "id": "h5v5DqmaaAcA",
        "colab_type": "code",
        "outputId": "75f8c094-37ad-4dde-8f40-093efabba169",
        "colab": {
          "base_uri": "https://localhost:8080/",
          "height": 34
        }
      },
      "source": [
        "faces_json.keys()"
      ],
      "execution_count": 7,
      "outputs": [
        {
          "output_type": "execute_result",
          "data": {
            "text/plain": [
              "dict_keys(['_via_settings', '_via_img_metadata', '_via_attributes'])"
            ]
          },
          "metadata": {
            "tags": []
          },
          "execution_count": 7
        }
      ]
    },
    {
      "cell_type": "code",
      "metadata": {
        "id": "HUBao330bS5a",
        "colab_type": "code",
        "colab": {}
      },
      "source": [
        " faces_img=faces_json['_via_img_metadata']"
      ],
      "execution_count": 0,
      "outputs": []
    },
    {
      "cell_type": "code",
      "metadata": {
        "id": "lVAa7nPqakgF",
        "colab_type": "code",
        "colab": {}
      },
      "source": [
        "img_list=[]\n",
        "for img in faces_img:\n",
        "  img_list.append(faces_img[img])"
      ],
      "execution_count": 0,
      "outputs": []
    },
    {
      "cell_type": "markdown",
      "metadata": {
        "id": "JABMXGD2p8v9",
        "colab_type": "text"
      },
      "source": [
        "### get each width , height pair and add it to a list called bbox"
      ]
    },
    {
      "cell_type": "code",
      "metadata": {
        "id": "eks1xT5JdpyQ",
        "colab_type": "code",
        "colab": {}
      },
      "source": [
        "width_list=[]\n",
        "height_list=[]\n",
        "bbox=[]\n",
        "\n",
        "for img in img_list:\n",
        "  for region in img['regions']:\n",
        "    width_list.append(region['shape_attributes']['width'])\n",
        "    height_list.append(region['shape_attributes']['height'])\n",
        "    bbox.append([region['shape_attributes']['width'],region['shape_attributes']['height']])"
      ],
      "execution_count": 0,
      "outputs": []
    },
    {
      "cell_type": "markdown",
      "metadata": {
        "id": "7UNQXktnqD7s",
        "colab_type": "text"
      },
      "source": [
        "### convert bbox to a numpy array"
      ]
    },
    {
      "cell_type": "code",
      "metadata": {
        "id": "v8Ab7TaN708Y",
        "colab_type": "code",
        "colab": {}
      },
      "source": [
        "\n",
        "import numpy as np\n",
        "\n",
        "\n",
        "bbox=np.array(bbox)"
      ],
      "execution_count": 0,
      "outputs": []
    },
    {
      "cell_type": "markdown",
      "metadata": {
        "id": "hQ9dOhAJqMcY",
        "colab_type": "text"
      },
      "source": [
        "### import matplotlib for plotting the data and KMeans module from scikit learn for clustering "
      ]
    },
    {
      "cell_type": "code",
      "metadata": {
        "id": "sp5F1LT09yRZ",
        "colab_type": "code",
        "colab": {}
      },
      "source": [
        "\n",
        "import matplotlib.pyplot as plt\n",
        "from sklearn.cluster import KMeans\n",
        "%matplotlib inline"
      ],
      "execution_count": 0,
      "outputs": []
    },
    {
      "cell_type": "markdown",
      "metadata": {
        "id": "r7wsBBB-qYf8",
        "colab_type": "text"
      },
      "source": [
        "### plot the data (width on x axis and height on y axis ) "
      ]
    },
    {
      "cell_type": "code",
      "metadata": {
        "id": "-RYZE7Tysw_z",
        "colab_type": "code",
        "colab": {
          "base_uri": "https://localhost:8080/",
          "height": 265
        },
        "outputId": "297cf9cb-70e5-4f41-afb6-7210ef2cca5e"
      },
      "source": [
        "plt.scatter(bbox[:,0],bbox[:,1])\n",
        "plt.show()"
      ],
      "execution_count": 13,
      "outputs": [
        {
          "output_type": "display_data",
          "data": {
            "image/png": "[encoded data removed]",
            "text/plain": [
              "<Figure size 432x288 with 1 Axes>"
            ]
          },
          "metadata": {
            "tags": []
          }
        }
      ]
    },
    {
      "cell_type": "markdown",
      "metadata": {
        "id": "XhN7YZYJqgtD",
        "colab_type": "text"
      },
      "source": [
        "### run K-Means clustering on bbox and plot the 4 clusters and their centroids "
      ]
    },
    {
      "cell_type": "code",
      "metadata": {
        "id": "VyCBHOq_-HBj",
        "colab_type": "code",
        "colab": {
          "base_uri": "https://localhost:8080/",
          "height": 483
        },
        "outputId": "853e44d0-e870-46f9-d41d-ec7e43c4e375"
      },
      "source": [
        "from sklearn.cluster import KMeans\n",
        "km_model = KMeans(n_clusters=4,random_state=2019).fit(bbox)\n",
        "centroids=km_model.cluster_centers_\n",
        "\n",
        "plt.figure(figsize=(10, 8))\n",
        "plt.scatter(bbox[:,0], bbox[:,1], c=km_model.labels_.astype(float),alpha=0.6)\n",
        "plt.scatter(centroids[0,0],centroids[0,1],s=150,c='b', marker='v')\n",
        "plt.text(centroids[0,0]-15,centroids[0,1]-8, '('+str(int(centroids[0,0]))+','+str(int(centroids[0,1]))+')', c='b',fontsize=12)\n",
        "\n",
        "plt.scatter(centroids[1,0],centroids[1,1],s=150,c='orange', marker='v')\n",
        "plt.text(centroids[1,0]-15,centroids[1,1]-8, '('+str(int(centroids[1,0]))+','+str(int(centroids[1,1]))+')',c='orange', fontsize=12)\n",
        "\n",
        "plt.scatter(centroids[2,0],centroids[2,1],s=150,c='r', marker='v')\n",
        "plt.text(centroids[2,0]-15,centroids[2,1]-8, '('+str(int(centroids[2,0]))+','+str(int(centroids[2,1]))+')',c='r', fontsize=12)\n",
        "\n",
        "plt.scatter(centroids[3,0],centroids[3,1],s=150,c='g', marker='v')\n",
        "plt.text(centroids[3,0]-15,centroids[3,1]-8, '('+str(int(centroids[3,0]))+','+str(int(centroids[3,1]))+')',c='g', fontsize=12)\n",
        "\n",
        "plt.show()"
      ],
      "execution_count": 14,
      "outputs": [
        {
          "output_type": "display_data",
          "data": {
            "image/png": "[encoded data removed]",
            "text/plain": [
              "<Figure size 720x576 with 1 Axes>"
            ]
          },
          "metadata": {
            "tags": []
          }
        }
      ]
    },
    {
      "cell_type": "markdown",
      "metadata": {
        "id": "pGQxUq1MqwYO",
        "colab_type": "text"
      },
      "source": [
        "### print the width and height corresponding to the centroids of the 4 clusters . These will be the 4 anchor box sizes."
      ]
    },
    {
      "cell_type": "code",
      "metadata": {
        "id": "MYpObWFUuX05",
        "colab_type": "code",
        "colab": {
          "base_uri": "https://localhost:8080/",
          "height": 85
        },
        "outputId": "eabdaba1-6017-446c-ddb2-1038c6d43692"
      },
      "source": [
        "for cx,cy in centroids:\n",
        "  print(int(cx),',',int(cy))"
      ],
      "execution_count": 15,
      "outputs": [
        {
          "output_type": "stream",
          "text": [
            "124 , 183\n",
            "54 , 70\n",
            "196 , 252\n",
            "86 , 114\n"
          ],
          "name": "stdout"
        }
      ]
    },
    {
      "cell_type": "markdown",
      "metadata": {
        "id": "4hh0yu8lq_cJ",
        "colab_type": "text"
      },
      "source": [
        "### The four anchor box sizes found using KMeans clustering are (124 x 183) , (54 x 70) , (196 x 252) and (86 x 114)"
      ]
    }
  ]
}