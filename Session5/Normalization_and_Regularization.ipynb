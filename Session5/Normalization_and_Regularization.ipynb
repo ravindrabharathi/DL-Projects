{
  "nbformat": 4,
  "nbformat_minor": 0,
  "metadata": {
    "colab": {
      "name": "Normalization_and_Regularization.ipynb",
      "version": "0.3.2",
      "provenance": [],
      "collapsed_sections": [],
      "include_colab_link": true
    },
    "kernelspec": {
      "name": "python3",
      "display_name": "Python 3"
    },
    "accelerator": "GPU"
  },
  "cells": [
    {
      "cell_type": "markdown",
      "metadata": {
        "id": "view-in-github",
        "colab_type": "text"
      },
      "source": [
        "<a href=\"https://colab.research.google.com/github/ravindrabharathi/Project1/blob/master/Session5/Normalization_and_Regularization.ipynb\" target=\"_parent\"><img src=\"https://colab.research.google.com/assets/colab-badge.svg\" alt=\"Open In Colab\"/></a>"
      ]
    },
    {
      "cell_type": "markdown",
      "metadata": {
        "id": "eBzDI9HEsAmu",
        "colab_type": "text"
      },
      "source": [
        "# Image Normalization and Regularization in Convolution Neural Networks \n",
        "\n",
        "\n",
        "We are now building on top of the our last exercise where we built a CNN with less than 15K parameters in 4 steps ([Step 1](https://github.com/ravindrabharathi/Project1/blob/master/Session4/First_DNN.ipynb) , [Step 2](https://github.com/ravindrabharathi/Project1/blob/master/Session4/Second_DNN.ipynb) , [Step 3](https://github.com/ravindrabharathi/Project1/blob/master/Session4/Third_DNN.ipynb) , [Step 4](https://github.com/ravindrabharathi/Project1/blob/master/Session4/Fourth_DNN.ipynb) and reached an accuracy of 99.52 in about 60 epochs .\n",
        "\n",
        "We will use the model from our 4th iteration as the starting point and add the following \n",
        "\n",
        "1. Image Normalization \n",
        "2. L2 Regularization to the Cost function (applied to kernel weights )\n",
        "3. Additional experiment of what happens when Batch Normalization is added before and after the ReLU activation \n"
      ]
    },
    {
      "cell_type": "markdown",
      "metadata": {
        "id": "O0uvqzIGp5zc",
        "colab_type": "text"
      },
      "source": [
        "###Import necessary libraries / modules\n",
        "Import numpy library for array/ matrix operations\n",
        "\n",
        "Import Sequential Model from keras/models for building the model\n",
        "\n",
        "Import Conv2D , Activation , Flatten , BatchNormalization, MaxPooling2D from keras/layers \n",
        "\n",
        "Import np_utils module from keras/utils for numpy related helper functions\n",
        "\n",
        "Import mnist dataset containing hand-written digits images from keras.datasets"
      ]
    },
    {
      "cell_type": "code",
      "metadata": {
        "id": "Eso6UHE080D4",
        "colab_type": "code",
        "outputId": "a2b573f8-87df-4dfe-b381-f68542fbca94",
        "colab": {
          "base_uri": "https://localhost:8080/",
          "height": 34
        }
      },
      "source": [
        "import numpy as np\n",
        "\n",
        "from keras.models import Sequential,load_model\n",
        "from keras.layers import Dropout, Activation, Flatten\n",
        "from keras.layers import Conv2D, MaxPooling2D, BatchNormalization, Dropout\n",
        "from keras.utils import np_utils\n",
        "\n",
        "from keras.datasets import mnist"
      ],
      "execution_count": 1,
      "outputs": [
        {
          "output_type": "stream",
          "text": [
            "Using TensorFlow backend.\n"
          ],
          "name": "stderr"
        }
      ]
    },
    {
      "cell_type": "markdown",
      "metadata": {
        "id": "zByEi95J86RD",
        "colab_type": "text"
      },
      "source": [
        "### Load pre-shuffled MNIST data into train and test sets"
      ]
    },
    {
      "cell_type": "code",
      "metadata": {
        "id": "7eRM0QWN83PV",
        "colab_type": "code",
        "colab": {
          "base_uri": "https://localhost:8080/",
          "height": 51
        },
        "outputId": "b123cd2d-885c-4158-be13-25c0b33f1a26"
      },
      "source": [
        "(X_train, y_train), (X_test, y_test) = mnist.load_data()"
      ],
      "execution_count": 2,
      "outputs": [
        {
          "output_type": "stream",
          "text": [
            "Downloading data from https://s3.amazonaws.com/img-datasets/mnist.npz\n",
            "11493376/11490434 [==============================] - 2s 0us/step\n"
          ],
          "name": "stdout"
        }
      ]
    },
    {
      "cell_type": "markdown",
      "metadata": {
        "id": "db3hDvFDqpS9",
        "colab_type": "text"
      },
      "source": [
        "###print the shape of training data and also inspect the first image using matplotlib"
      ]
    },
    {
      "cell_type": "code",
      "metadata": {
        "id": "4a4Be72j8-ZC",
        "colab_type": "code",
        "outputId": "4d7847cf-cf1a-4ed1-e3c5-98899fd24c26",
        "colab": {
          "base_uri": "https://localhost:8080/",
          "height": 303
        }
      },
      "source": [
        "print (X_train.shape)\n",
        "from matplotlib import pyplot as plt\n",
        "%matplotlib inline\n",
        "plt.imshow(X_train[0])"
      ],
      "execution_count": 3,
      "outputs": [
        {
          "output_type": "stream",
          "text": [
            "(60000, 28, 28)\n"
          ],
          "name": "stdout"
        },
        {
          "output_type": "execute_result",
          "data": {
            "text/plain": [
              "<matplotlib.image.AxesImage at 0x7f82e6633198>"
            ]
          },
          "metadata": {
            "tags": []
          },
          "execution_count": 3
        },
        {
          "output_type": "display_data",
          "data": {
            "image/png": "[encoded data removed]",
            "text/plain": [
              "<Figure size 432x288 with 1 Axes>"
            ]
          },
          "metadata": {
            "tags": []
          }
        }
      ]
    },
    {
      "cell_type": "markdown",
      "metadata": {
        "id": "y7BHSzLjq6nT",
        "colab_type": "text"
      },
      "source": [
        "####Reshape the training and test dataset to include the channel information.In this case it is a greyscale image and so there is 1 channel . the image data was read in as a 28x28 numpy array and is now reshaped to 28x28x1"
      ]
    },
    {
      "cell_type": "code",
      "metadata": {
        "id": "dkmprriw9AnZ",
        "colab_type": "code",
        "colab": {}
      },
      "source": [
        "X_train = X_train.reshape(X_train.shape[0], 28, 28,1)\n",
        "X_test = X_test.reshape(X_test.shape[0], 28, 28,1)"
      ],
      "execution_count": 0,
      "outputs": []
    },
    {
      "cell_type": "markdown",
      "metadata": {
        "id": "L3aPHupgrF5a",
        "colab_type": "text"
      },
      "source": [
        "###Cast training data as float32 and normalize/re-scale the values such that they are between 0 and 1 instead of 0 and 255"
      ]
    },
    {
      "cell_type": "code",
      "metadata": {
        "id": "X2m4YS4E9CRh",
        "colab_type": "code",
        "colab": {}
      },
      "source": [
        "X_train = X_train.astype('float32')\n",
        "X_test = X_test.astype('float32')\n",
        "X_train /= 255\n",
        "X_test /= 255"
      ],
      "execution_count": 0,
      "outputs": []
    },
    {
      "cell_type": "markdown",
      "metadata": {
        "id": "jmUE1nCXrMua",
        "colab_type": "text"
      },
      "source": [
        "###inspect the first 10 training class labels . They will be some number between 0 and 9 representing the hand-written digit in the corresponding Training data. Each of 0 to 9 represents a class"
      ]
    },
    {
      "cell_type": "code",
      "metadata": {
        "id": "0Mn0vAYD9DvB",
        "colab_type": "code",
        "outputId": "1887ed52-f349-4489-afce-c3ebbed1a496",
        "colab": {
          "base_uri": "https://localhost:8080/",
          "height": 34
        }
      },
      "source": [
        "y_train[:10]"
      ],
      "execution_count": 6,
      "outputs": [
        {
          "output_type": "execute_result",
          "data": {
            "text/plain": [
              "array([5, 0, 4, 1, 9, 2, 1, 3, 1, 4], dtype=uint8)"
            ]
          },
          "metadata": {
            "tags": []
          },
          "execution_count": 6
        }
      ]
    },
    {
      "cell_type": "markdown",
      "metadata": {
        "id": "-dld_th_rU9s",
        "colab_type": "text"
      },
      "source": [
        "####One hot encoding of training and test class labels : Convert 1-dimensional class arrays to 10-dimensional class matrices"
      ]
    },
    {
      "cell_type": "code",
      "metadata": {
        "id": "ZG8JiXR39FHC",
        "colab_type": "code",
        "colab": {}
      },
      "source": [
        "# Convert 1-dimensional class arrays to 10-dimensional class matrices\n",
        "Y_train = np_utils.to_categorical(y_train, 10)\n",
        "Y_test = np_utils.to_categorical(y_test, 10)"
      ],
      "execution_count": 0,
      "outputs": []
    },
    {
      "cell_type": "code",
      "metadata": {
        "id": "fYlFRvKS9HMB",
        "colab_type": "code",
        "outputId": "d82bce82-ddf8-4d4b-c490-59706306f72e",
        "colab": {
          "base_uri": "https://localhost:8080/",
          "height": 187
        }
      },
      "source": [
        "Y_train[:10]\n"
      ],
      "execution_count": 8,
      "outputs": [
        {
          "output_type": "execute_result",
          "data": {
            "text/plain": [
              "array([[0., 0., 0., 0., 0., 1., 0., 0., 0., 0.],\n",
              "       [1., 0., 0., 0., 0., 0., 0., 0., 0., 0.],\n",
              "       [0., 0., 0., 0., 1., 0., 0., 0., 0., 0.],\n",
              "       [0., 1., 0., 0., 0., 0., 0., 0., 0., 0.],\n",
              "       [0., 0., 0., 0., 0., 0., 0., 0., 0., 1.],\n",
              "       [0., 0., 1., 0., 0., 0., 0., 0., 0., 0.],\n",
              "       [0., 1., 0., 0., 0., 0., 0., 0., 0., 0.],\n",
              "       [0., 0., 0., 1., 0., 0., 0., 0., 0., 0.],\n",
              "       [0., 1., 0., 0., 0., 0., 0., 0., 0., 0.],\n",
              "       [0., 0., 0., 0., 1., 0., 0., 0., 0., 0.]], dtype=float32)"
            ]
          },
          "metadata": {
            "tags": []
          },
          "execution_count": 8
        }
      ]
    },
    {
      "cell_type": "markdown",
      "metadata": {
        "id": "GTtRAeaWTjnQ",
        "colab_type": "text"
      },
      "source": [
        "####Model with BatchNormalization after ReLU "
      ]
    },
    {
      "cell_type": "code",
      "metadata": {
        "colab_type": "code",
        "outputId": "1ede4e32-54ba-4017-fa1d-44860b0ae182",
        "id": "dNf11H-ctcFw",
        "colab": {
          "base_uri": "https://localhost:8080/",
          "height": 139
        }
      },
      "source": [
        "# to get a certain degeree of predictability when generating random numbers,\n",
        "# set a random seed to initialize the pseudo-random number generator \n",
        "np.random.seed(seed=42)  \n",
        "\n",
        "# instantiate a sequential model\n",
        "model = Sequential()\n",
        "\n",
        "# add the first convolution layer - 10 numbers of 3x3 filters , \n",
        "#This layer sees the input image of 28x28 x 1 channel . \n",
        "\n",
        "model.add(Conv2D(10, (3, 3), input_shape=(28,28,1), use_bias=False))  # remove bias param by setting it to false \n",
        " \n",
        "model.add(Activation('relu'))    # use ReLU activation function .\n",
        "model.add(BatchNormalization())  #add Batch normalization \n",
        "model.add(Dropout(0.1))  #add dropout\n",
        "\n",
        "# Now the global receptive field is 3 x 3 \n",
        "\n",
        "# First Convolution Block\n",
        "# Block1 conv layer 1 - 12 filters of shape  3x3x10 \n",
        "# input from previous layer is 26 x 26 x 10 . \n",
        "\n",
        "## Block 1\n",
        "\n",
        "model.add(Conv2D(12, 3, use_bias=False))  # remove bias param by setting it to false \n",
        "model.add(Activation('relu'))    # use ReLU activation function .\n",
        "model.add(BatchNormalization())  #add Batch normalization \n",
        "model.add(Dropout(0.1))   #add dropout\n",
        "\n",
        "#Global receptive field is 5x5\n",
        "\n",
        "# Add convolution layer - 16 filters of shape  3x3x12 \n",
        "#input from previous layer is 24 x 24 x 12 . \n",
        "\n",
        "model.add(Conv2D(16, 3, use_bias=False))  # remove bias param by setting it to false \n",
        "model.add(Activation('relu'))    # use ReLU activation function .\n",
        "model.add(BatchNormalization())  #add Batch normalization \n",
        "model.add(Dropout(0.1))    #add dropout\n",
        "\n",
        "#Global receptive field is 7x7\n",
        "\n",
        "##  Transition block \n",
        "\n",
        "# Perform 2x2 max pooling  . \n",
        "#Input from previous layer is 22 x 22 X 16 \n",
        "\n",
        "model.add(MaxPooling2D(2,2))\n",
        "\n",
        "\n",
        "# After max pooling , 2D spatial dimension reduces by half , i.e it becomes 11 x 11 . \n",
        "# Maxpooling (withpool size 2 and stride 1) doubles receptive field . \n",
        "# So global receptive field after max pooling is 14 x 14\n",
        "\n",
        "# add 1x1 convolution to reduce the channel numbers to 10 \n",
        "\n",
        "model.add(Conv2D(10, 1, use_bias=False))  # remove bias param by setting it to false \n",
        "model.add(Activation('relu'))    # use ReLU activation function .\n",
        "model.add(BatchNormalization())  #add Batch normalization \n",
        "\n",
        "\n",
        "#Convolution Block 2\n",
        "\n",
        "# Add convolution layer - 12 filters of shape 3x3x10\n",
        "#input from transition layer is 11 x 11 x 10 .  \n",
        "\n",
        "model.add(Conv2D(12, 3,  use_bias=False))  # remove bias param by setting it to false \n",
        "model.add(Activation('relu'))    # use ReLU activation function .\n",
        "model.add(BatchNormalization())  #add Batch normalization \n",
        "model.add(Dropout(0.1))   #add dropout\n",
        "\n",
        "#Global receptive field is now 16 x 16 \n",
        "\n",
        "# Add convolution layer - 16 filters of shape 3x3x12 \n",
        "#input coming from previous layer is 9 x 9 x 12 . \n",
        "\n",
        "model.add(Conv2D(16, 3,  use_bias=False)) # remove bias param by setting it to false \n",
        "model.add(Activation('relu'))    # use ReLU activation function .\n",
        "model.add(BatchNormalization())  #add Batch normalization \n",
        "model.add(Dropout(0.1))\n",
        "\n",
        "#  Global receptive field is now 18 x 18 \n",
        "\n",
        "\n",
        "# Add 1x1 convolution to reduce number of channels to 10  \n",
        "#input coming from previous layer is 7 x 7 x 16 .\n",
        "\n",
        "model.add(Conv2D(10, 1,  use_bias=False))  # remove bias param by setting it to false \n",
        "model.add(Activation('relu'))    # use ReLU activation function .\n",
        "model.add(BatchNormalization())  #add Batch normalization \n",
        "\n",
        "\n",
        "#Global receptive field is now 18 x 18 \n",
        "\n",
        "# Last layer :  Add convolution layer - 10 filters of shape 7x7x10 \n",
        "#input coming from previous layer is 7 x 7 x 10 .\n",
        "\n",
        "model.add(Conv2D(10, 7,  use_bias=False))  # remove bias param by setting it to false \n",
        "#No Batch normalization before prediction \n",
        "# Note absence of ReLU activation here \n",
        "\n",
        "\n",
        "model.add(Flatten())  # Flatten the 2d array to 1d input for the softmax activation \n",
        "model.add(Activation('softmax'))   # Softmax activation to out class probabilities "
      ],
      "execution_count": 9,
      "outputs": [
        {
          "output_type": "stream",
          "text": [
            "WARNING:tensorflow:From /usr/local/lib/python3.6/dist-packages/tensorflow/python/framework/op_def_library.py:263: colocate_with (from tensorflow.python.framework.ops) is deprecated and will be removed in a future version.\n",
            "Instructions for updating:\n",
            "Colocations handled automatically by placer.\n",
            "WARNING:tensorflow:From /usr/local/lib/python3.6/dist-packages/keras/backend/tensorflow_backend.py:3445: calling dropout (from tensorflow.python.ops.nn_ops) with keep_prob is deprecated and will be removed in a future version.\n",
            "Instructions for updating:\n",
            "Please use `rate` instead of `keep_prob`. Rate should be set to `rate = 1 - keep_prob`.\n"
          ],
          "name": "stdout"
        }
      ]
    },
    {
      "cell_type": "code",
      "metadata": {
        "colab_type": "code",
        "outputId": "ba5ad8bc-180e-4c3c-8085-7e155cf3a396",
        "id": "zLeXZp_jtcFz",
        "colab": {
          "base_uri": "https://localhost:8080/",
          "height": 1156
        }
      },
      "source": [
        "model.summary()"
      ],
      "execution_count": 10,
      "outputs": [
        {
          "output_type": "stream",
          "text": [
            "_________________________________________________________________\n",
            "Layer (type)                 Output Shape              Param #   \n",
            "=================================================================\n",
            "conv2d_1 (Conv2D)            (None, 26, 26, 10)        90        \n",
            "_________________________________________________________________\n",
            "activation_1 (Activation)    (None, 26, 26, 10)        0         \n",
            "_________________________________________________________________\n",
            "batch_normalization_1 (Batch (None, 26, 26, 10)        40        \n",
            "_________________________________________________________________\n",
            "dropout_1 (Dropout)          (None, 26, 26, 10)        0         \n",
            "_________________________________________________________________\n",
            "conv2d_2 (Conv2D)            (None, 24, 24, 12)        1080      \n",
            "_________________________________________________________________\n",
            "activation_2 (Activation)    (None, 24, 24, 12)        0         \n",
            "_________________________________________________________________\n",
            "batch_normalization_2 (Batch (None, 24, 24, 12)        48        \n",
            "_________________________________________________________________\n",
            "dropout_2 (Dropout)          (None, 24, 24, 12)        0         \n",
            "_________________________________________________________________\n",
            "conv2d_3 (Conv2D)            (None, 22, 22, 16)        1728      \n",
            "_________________________________________________________________\n",
            "activation_3 (Activation)    (None, 22, 22, 16)        0         \n",
            "_________________________________________________________________\n",
            "batch_normalization_3 (Batch (None, 22, 22, 16)        64        \n",
            "_________________________________________________________________\n",
            "dropout_3 (Dropout)          (None, 22, 22, 16)        0         \n",
            "_________________________________________________________________\n",
            "max_pooling2d_1 (MaxPooling2 (None, 11, 11, 16)        0         \n",
            "_________________________________________________________________\n",
            "conv2d_4 (Conv2D)            (None, 11, 11, 10)        160       \n",
            "_________________________________________________________________\n",
            "activation_4 (Activation)    (None, 11, 11, 10)        0         \n",
            "_________________________________________________________________\n",
            "batch_normalization_4 (Batch (None, 11, 11, 10)        40        \n",
            "_________________________________________________________________\n",
            "conv2d_5 (Conv2D)            (None, 9, 9, 12)          1080      \n",
            "_________________________________________________________________\n",
            "activation_5 (Activation)    (None, 9, 9, 12)          0         \n",
            "_________________________________________________________________\n",
            "batch_normalization_5 (Batch (None, 9, 9, 12)          48        \n",
            "_________________________________________________________________\n",
            "dropout_4 (Dropout)          (None, 9, 9, 12)          0         \n",
            "_________________________________________________________________\n",
            "conv2d_6 (Conv2D)            (None, 7, 7, 16)          1728      \n",
            "_________________________________________________________________\n",
            "activation_6 (Activation)    (None, 7, 7, 16)          0         \n",
            "_________________________________________________________________\n",
            "batch_normalization_6 (Batch (None, 7, 7, 16)          64        \n",
            "_________________________________________________________________\n",
            "dropout_5 (Dropout)          (None, 7, 7, 16)          0         \n",
            "_________________________________________________________________\n",
            "conv2d_7 (Conv2D)            (None, 7, 7, 10)          160       \n",
            "_________________________________________________________________\n",
            "activation_7 (Activation)    (None, 7, 7, 10)          0         \n",
            "_________________________________________________________________\n",
            "batch_normalization_7 (Batch (None, 7, 7, 10)          40        \n",
            "_________________________________________________________________\n",
            "conv2d_8 (Conv2D)            (None, 1, 1, 10)          4900      \n",
            "_________________________________________________________________\n",
            "flatten_1 (Flatten)          (None, 10)                0         \n",
            "_________________________________________________________________\n",
            "activation_8 (Activation)    (None, 10)                0         \n",
            "=================================================================\n",
            "Total params: 11,270\n",
            "Trainable params: 11,098\n",
            "Non-trainable params: 172\n",
            "_________________________________________________________________\n"
          ],
          "name": "stdout"
        }
      ]
    },
    {
      "cell_type": "code",
      "metadata": {
        "colab_type": "code",
        "id": "KVxgzGEItcF1",
        "colab": {}
      },
      "source": [
        "# define a learning rate scheduler . We will use a simple scheduler that reduces the lr by 10% every 3 epochs subject to a minimum lr of 0.0005 \n",
        "from keras.optimizers import Adam\n",
        "from keras.callbacks import LearningRateScheduler\n",
        "def scheduler(epoch, lr):\n",
        "  if (epoch%3==0 and epoch):\n",
        "    new_lr = max(0.9*lr,0.0005) \n",
        "  else:\n",
        "    new_lr=lr\n",
        "  \n",
        "  return round(new_lr, 10)\n",
        "  \n",
        " \n",
        "\n"
      ],
      "execution_count": 0,
      "outputs": []
    },
    {
      "cell_type": "code",
      "metadata": {
        "colab_type": "code",
        "id": "RFpdzh6CtcF3",
        "colab": {}
      },
      "source": [
        "#start with a higher lr of 0.003 \n",
        "model.compile(loss='categorical_crossentropy', optimizer=Adam(lr=0.003), metrics=['accuracy'])"
      ],
      "execution_count": 0,
      "outputs": []
    },
    {
      "cell_type": "markdown",
      "metadata": {
        "id": "ZNM1NgZdtQm8",
        "colab_type": "text"
      },
      "source": [
        "###Define a ModelCheckPoint callback which will be called at the end of every training epoch . We will use this callback function to save the model whenever validation accuracy improves . We do this so that we can load and use the best model for further predictions after training "
      ]
    },
    {
      "cell_type": "code",
      "metadata": {
        "colab_type": "code",
        "id": "g05RhnRUtcFr",
        "colab": {}
      },
      "source": [
        "from keras.callbacks import ModelCheckpoint\n",
        "\n",
        "chkpoint_model=ModelCheckpoint(\"model_custom_v1_mnist_best.h5\", monitor='val_acc', verbose=1, save_best_only=True, save_weights_only=False, mode='max') \n",
        "\n"
      ],
      "execution_count": 0,
      "outputs": []
    },
    {
      "cell_type": "code",
      "metadata": {
        "colab_type": "code",
        "id": "QNCgsndstcF5",
        "colab": {}
      },
      "source": [
        " callback_list=[chkpoint_model,LearningRateScheduler(scheduler, verbose=1)]"
      ],
      "execution_count": 0,
      "outputs": []
    },
    {
      "cell_type": "markdown",
      "metadata": {
        "id": "7GnmzsbMYvvj",
        "colab_type": "text"
      },
      "source": [
        "# Image Normalization \n",
        "\n",
        "\n",
        "Image Normalization is done so that the input data /pixel values are in a similar data distribution . We subtract the mean from each pixel value and divide by the standard deviation to get a zero centered and normally distributed data. Typically the data is scaled such that min pixel intensity is set to 0 and max pixel intensity of the input is at 1. \n",
        "![Data distribution - Image Normalization](https://raw.githubusercontent.com/ravindrabharathi/eip3/master/images/image-normalization1.png)\n",
        "\n",
        "By doing this , we ensure that weight updates are in a similar range thus resulting in a faster convergence. In the below image weight updates for w1 and w2 will progress at different speed towards a minima\n",
        "\n",
        "![un-normalized](https://raw.githubusercontent.com/ravindrabharathi/eip3/master/images/weights-unnormalized.png)\n",
        "\n",
        "Whereas in the case of a normalized data , the weight updates will be in similar range \n",
        "\n",
        "![normalized data](https://raw.githubusercontent.com/ravindrabharathi/eip3/master/images/normalized-weights.png)\n",
        "\n",
        "\n",
        "In keras we perform image normalization by using an imagedatagenerator and setting its featurewise_center and featurewise_std_normalization to True "
      ]
    },
    {
      "cell_type": "code",
      "metadata": {
        "id": "d3Dk6B6ZYs_Q",
        "colab_type": "code",
        "colab": {}
      },
      "source": [
        "from keras.preprocessing.image import ImageDataGenerator\n",
        "\n",
        "batch_size=128\n",
        "\n",
        "train_datagen=ImageDataGenerator(\n",
        "        featurewise_center=True,  # set input mean to 0 over the dataset\n",
        "        #samplewise_center=False,  # set each sample mean to 0\n",
        "        featurewise_std_normalization=True,  # divide inputs by std of the dataset\n",
        "        #samplewise_std_normalization=False,  # divide each input by its std\n",
        ")\n",
        "\n",
        "val_datagen= ImageDataGenerator(\n",
        "        featurewise_center=True,  # set input mean to 0 over the dataset\n",
        "        \n",
        "        featurewise_std_normalization=True,  # divide inputs by std of the dataset\n",
        "        \n",
        ")\n",
        "\n",
        "\n",
        "train_datagen.fit(X_train)\n",
        "\n",
        "val_datagen.fit(X_test)\n",
        "\n",
        "training_generator=train_datagen.flow(X_train,Y_train, batch_size=batch_size,shuffle=True,seed=42)\n",
        "\n",
        "validation_generator=val_datagen.flow(X_test,Y_test, batch_size=batch_size,shuffle=True,seed=42)\n",
        "\n"
      ],
      "execution_count": 0,
      "outputs": []
    },
    {
      "cell_type": "code",
      "metadata": {
        "id": "Zr4kNmqGpD_5",
        "colab_type": "code",
        "colab": {
          "base_uri": "https://localhost:8080/",
          "height": 4185
        },
        "outputId": "49aa050c-23b3-460f-8ef7-e4a027c02ae0"
      },
      "source": [
        "model.fit_generator(training_generator, epochs=40, \n",
        "                        steps_per_epoch=60000//batch_size, \n",
        "                    validation_steps=10000//batch_size, \n",
        "                    validation_data=validation_generator,shuffle=True,callbacks=callback_list,verbose=1)"
      ],
      "execution_count": 16,
      "outputs": [
        {
          "output_type": "stream",
          "text": [
            "WARNING:tensorflow:From /usr/local/lib/python3.6/dist-packages/tensorflow/python/ops/math_ops.py:3066: to_int32 (from tensorflow.python.ops.math_ops) is deprecated and will be removed in a future version.\n",
            "Instructions for updating:\n",
            "Use tf.cast instead.\n",
            "Epoch 1/40\n",
            "\n",
            "Epoch 00001: LearningRateScheduler setting learning rate to 0.003.\n",
            "468/468 [==============================] - 10s 22ms/step - loss: 0.1883 - acc: 0.9405 - val_loss: 0.0579 - val_acc: 0.9815\n",
            "\n",
            "Epoch 00001: val_acc improved from -inf to 0.98147, saving model to model_custom_v1_mnist_best.h5\n",
            "Epoch 2/40\n",
            "\n",
            "Epoch 00002: LearningRateScheduler setting learning rate to 0.003.\n",
            "468/468 [==============================] - 7s 14ms/step - loss: 0.0646 - acc: 0.9800 - val_loss: 0.0463 - val_acc: 0.9849\n",
            "\n",
            "Epoch 00002: val_acc improved from 0.98147 to 0.98491, saving model to model_custom_v1_mnist_best.h5\n",
            "Epoch 3/40\n",
            "\n",
            "Epoch 00003: LearningRateScheduler setting learning rate to 0.003.\n",
            "468/468 [==============================] - 7s 14ms/step - loss: 0.0518 - acc: 0.9833 - val_loss: 0.0456 - val_acc: 0.9854\n",
            "\n",
            "Epoch 00003: val_acc improved from 0.98491 to 0.98541, saving model to model_custom_v1_mnist_best.h5\n",
            "Epoch 4/40\n",
            "\n",
            "Epoch 00004: LearningRateScheduler setting learning rate to 0.0027.\n",
            "468/468 [==============================] - 7s 14ms/step - loss: 0.0429 - acc: 0.9862 - val_loss: 0.0395 - val_acc: 0.9874\n",
            "\n",
            "Epoch 00004: val_acc improved from 0.98541 to 0.98744, saving model to model_custom_v1_mnist_best.h5\n",
            "Epoch 5/40\n",
            "\n",
            "Epoch 00005: LearningRateScheduler setting learning rate to 0.0027000001.\n",
            "468/468 [==============================] - 7s 14ms/step - loss: 0.0371 - acc: 0.9884 - val_loss: 0.0310 - val_acc: 0.9904\n",
            "\n",
            "Epoch 00005: val_acc improved from 0.98744 to 0.99038, saving model to model_custom_v1_mnist_best.h5\n",
            "Epoch 6/40\n",
            "\n",
            "Epoch 00006: LearningRateScheduler setting learning rate to 0.0027000001.\n",
            "468/468 [==============================] - 7s 14ms/step - loss: 0.0359 - acc: 0.9889 - val_loss: 0.0344 - val_acc: 0.9900\n",
            "\n",
            "Epoch 00006: val_acc did not improve from 0.99038\n",
            "Epoch 7/40\n",
            "\n",
            "Epoch 00007: LearningRateScheduler setting learning rate to 0.0024300001.\n",
            "468/468 [==============================] - 7s 14ms/step - loss: 0.0307 - acc: 0.9901 - val_loss: 0.0252 - val_acc: 0.9918\n",
            "\n",
            "Epoch 00007: val_acc improved from 0.99038 to 0.99179, saving model to model_custom_v1_mnist_best.h5\n",
            "Epoch 8/40\n",
            "\n",
            "Epoch 00008: LearningRateScheduler setting learning rate to 0.0024300001.\n",
            "468/468 [==============================] - 7s 15ms/step - loss: 0.0294 - acc: 0.9906 - val_loss: 0.0277 - val_acc: 0.9909\n",
            "\n",
            "Epoch 00008: val_acc did not improve from 0.99179\n",
            "Epoch 9/40\n",
            "\n",
            "Epoch 00009: LearningRateScheduler setting learning rate to 0.0024300001.\n",
            "468/468 [==============================] - 7s 15ms/step - loss: 0.0282 - acc: 0.9907 - val_loss: 0.0342 - val_acc: 0.9900\n",
            "\n",
            "Epoch 00009: val_acc did not improve from 0.99179\n",
            "Epoch 10/40\n",
            "\n",
            "Epoch 00010: LearningRateScheduler setting learning rate to 0.0021870001.\n",
            "468/468 [==============================] - 7s 14ms/step - loss: 0.0266 - acc: 0.9914 - val_loss: 0.0232 - val_acc: 0.9930\n",
            "\n",
            "Epoch 00010: val_acc improved from 0.99179 to 0.99301, saving model to model_custom_v1_mnist_best.h5\n",
            "Epoch 11/40\n",
            "\n",
            "Epoch 00011: LearningRateScheduler setting learning rate to 0.0021870001.\n",
            "468/468 [==============================] - 7s 14ms/step - loss: 0.0256 - acc: 0.9916 - val_loss: 0.0285 - val_acc: 0.9902\n",
            "\n",
            "Epoch 00011: val_acc did not improve from 0.99301\n",
            "Epoch 12/40\n",
            "\n",
            "Epoch 00012: LearningRateScheduler setting learning rate to 0.0021870001.\n",
            "468/468 [==============================] - 7s 14ms/step - loss: 0.0243 - acc: 0.9921 - val_loss: 0.0269 - val_acc: 0.9918\n",
            "\n",
            "Epoch 00012: val_acc did not improve from 0.99301\n",
            "Epoch 13/40\n",
            "\n",
            "Epoch 00013: LearningRateScheduler setting learning rate to 0.0019683001.\n",
            "468/468 [==============================] - 7s 14ms/step - loss: 0.0209 - acc: 0.9933 - val_loss: 0.0246 - val_acc: 0.9926\n",
            "\n",
            "Epoch 00013: val_acc did not improve from 0.99301\n",
            "Epoch 14/40\n",
            "\n",
            "Epoch 00014: LearningRateScheduler setting learning rate to 0.0019683002.\n",
            "468/468 [==============================] - 7s 14ms/step - loss: 0.0207 - acc: 0.9933 - val_loss: 0.0234 - val_acc: 0.9926\n",
            "\n",
            "Epoch 00014: val_acc did not improve from 0.99301\n",
            "Epoch 15/40\n",
            "\n",
            "Epoch 00015: LearningRateScheduler setting learning rate to 0.0019683002.\n",
            "468/468 [==============================] - 7s 14ms/step - loss: 0.0213 - acc: 0.9932 - val_loss: 0.0257 - val_acc: 0.9918\n",
            "\n",
            "Epoch 00015: val_acc did not improve from 0.99301\n",
            "Epoch 16/40\n",
            "\n",
            "Epoch 00016: LearningRateScheduler setting learning rate to 0.0017714702.\n",
            "468/468 [==============================] - 7s 14ms/step - loss: 0.0190 - acc: 0.9942 - val_loss: 0.0310 - val_acc: 0.9906\n",
            "\n",
            "Epoch 00016: val_acc did not improve from 0.99301\n",
            "Epoch 17/40\n",
            "\n",
            "Epoch 00017: LearningRateScheduler setting learning rate to 0.0017714702.\n",
            "468/468 [==============================] - 7s 14ms/step - loss: 0.0184 - acc: 0.9940 - val_loss: 0.0281 - val_acc: 0.9916\n",
            "\n",
            "Epoch 00017: val_acc did not improve from 0.99301\n",
            "Epoch 18/40\n",
            "\n",
            "Epoch 00018: LearningRateScheduler setting learning rate to 0.0017714702.\n",
            "468/468 [==============================] - 7s 14ms/step - loss: 0.0180 - acc: 0.9938 - val_loss: 0.0210 - val_acc: 0.9931\n",
            "\n",
            "Epoch 00018: val_acc improved from 0.99301 to 0.99311, saving model to model_custom_v1_mnist_best.h5\n",
            "Epoch 19/40\n",
            "\n",
            "Epoch 00019: LearningRateScheduler setting learning rate to 0.0015943232.\n",
            "468/468 [==============================] - 7s 14ms/step - loss: 0.0161 - acc: 0.9946 - val_loss: 0.0260 - val_acc: 0.9919\n",
            "\n",
            "Epoch 00019: val_acc did not improve from 0.99311\n",
            "Epoch 20/40\n",
            "\n",
            "Epoch 00020: LearningRateScheduler setting learning rate to 0.0015943232.\n",
            "468/468 [==============================] - 7s 15ms/step - loss: 0.0155 - acc: 0.9945 - val_loss: 0.0301 - val_acc: 0.9919\n",
            "\n",
            "Epoch 00020: val_acc did not improve from 0.99311\n",
            "Epoch 21/40\n",
            "\n",
            "Epoch 00021: LearningRateScheduler setting learning rate to 0.0015943232.\n",
            "468/468 [==============================] - 7s 15ms/step - loss: 0.0169 - acc: 0.9943 - val_loss: 0.0301 - val_acc: 0.9917\n",
            "\n",
            "Epoch 00021: val_acc did not improve from 0.99311\n",
            "Epoch 22/40\n",
            "\n",
            "Epoch 00022: LearningRateScheduler setting learning rate to 0.0014348909.\n",
            "468/468 [==============================] - 7s 14ms/step - loss: 0.0140 - acc: 0.9953 - val_loss: 0.0251 - val_acc: 0.9923\n",
            "\n",
            "Epoch 00022: val_acc did not improve from 0.99311\n",
            "Epoch 23/40\n",
            "\n",
            "Epoch 00023: LearningRateScheduler setting learning rate to 0.0014348909.\n",
            "468/468 [==============================] - 7s 14ms/step - loss: 0.0134 - acc: 0.9954 - val_loss: 0.0266 - val_acc: 0.9913\n",
            "\n",
            "Epoch 00023: val_acc did not improve from 0.99311\n",
            "Epoch 24/40\n",
            "\n",
            "Epoch 00024: LearningRateScheduler setting learning rate to 0.0014348909.\n",
            "468/468 [==============================] - 7s 14ms/step - loss: 0.0142 - acc: 0.9950 - val_loss: 0.0311 - val_acc: 0.9910\n",
            "\n",
            "Epoch 00024: val_acc did not improve from 0.99311\n",
            "Epoch 25/40\n",
            "\n",
            "Epoch 00025: LearningRateScheduler setting learning rate to 0.0012914018.\n",
            "468/468 [==============================] - 7s 14ms/step - loss: 0.0127 - acc: 0.9955 - val_loss: 0.0262 - val_acc: 0.9929\n",
            "\n",
            "Epoch 00025: val_acc did not improve from 0.99311\n",
            "Epoch 26/40\n",
            "\n",
            "Epoch 00026: LearningRateScheduler setting learning rate to 0.0012914018.\n",
            "468/468 [==============================] - 7s 14ms/step - loss: 0.0144 - acc: 0.9949 - val_loss: 0.0257 - val_acc: 0.9910\n",
            "\n",
            "Epoch 00026: val_acc did not improve from 0.99311\n",
            "Epoch 27/40\n",
            "\n",
            "Epoch 00027: LearningRateScheduler setting learning rate to 0.0012914018.\n",
            "468/468 [==============================] - 7s 14ms/step - loss: 0.0132 - acc: 0.9957 - val_loss: 0.0249 - val_acc: 0.9929\n",
            "\n",
            "Epoch 00027: val_acc did not improve from 0.99311\n",
            "Epoch 28/40\n",
            "\n",
            "Epoch 00028: LearningRateScheduler setting learning rate to 0.0011622616.\n",
            "468/468 [==============================] - 7s 14ms/step - loss: 0.0125 - acc: 0.9958 - val_loss: 0.0248 - val_acc: 0.9933\n",
            "\n",
            "Epoch 00028: val_acc improved from 0.99311 to 0.99331, saving model to model_custom_v1_mnist_best.h5\n",
            "Epoch 29/40\n",
            "\n",
            "Epoch 00029: LearningRateScheduler setting learning rate to 0.0011622616.\n",
            "468/468 [==============================] - 7s 14ms/step - loss: 0.0114 - acc: 0.9960 - val_loss: 0.0240 - val_acc: 0.9929\n",
            "\n",
            "Epoch 00029: val_acc did not improve from 0.99331\n",
            "Epoch 30/40\n",
            "\n",
            "Epoch 00030: LearningRateScheduler setting learning rate to 0.0011622616.\n",
            "468/468 [==============================] - 7s 14ms/step - loss: 0.0115 - acc: 0.9963 - val_loss: 0.0265 - val_acc: 0.9925\n",
            "\n",
            "Epoch 00030: val_acc did not improve from 0.99331\n",
            "Epoch 31/40\n",
            "\n",
            "Epoch 00031: LearningRateScheduler setting learning rate to 0.0010460354.\n",
            "468/468 [==============================] - 7s 14ms/step - loss: 0.0103 - acc: 0.9965 - val_loss: 0.0228 - val_acc: 0.9943\n",
            "\n",
            "Epoch 00031: val_acc improved from 0.99331 to 0.99433, saving model to model_custom_v1_mnist_best.h5\n",
            "Epoch 32/40\n",
            "\n",
            "Epoch 00032: LearningRateScheduler setting learning rate to 0.0010460354.\n",
            "468/468 [==============================] - 7s 15ms/step - loss: 0.0104 - acc: 0.9960 - val_loss: 0.0245 - val_acc: 0.9929\n",
            "\n",
            "Epoch 00032: val_acc did not improve from 0.99433\n",
            "Epoch 33/40\n",
            "\n",
            "Epoch 00033: LearningRateScheduler setting learning rate to 0.0010460354.\n",
            "468/468 [==============================] - 7s 15ms/step - loss: 0.0098 - acc: 0.9968 - val_loss: 0.0285 - val_acc: 0.9927\n",
            "\n",
            "Epoch 00033: val_acc did not improve from 0.99433\n",
            "Epoch 34/40\n",
            "\n",
            "Epoch 00034: LearningRateScheduler setting learning rate to 0.0009414319.\n",
            "468/468 [==============================] - 7s 14ms/step - loss: 0.0100 - acc: 0.9967 - val_loss: 0.0223 - val_acc: 0.9936\n",
            "\n",
            "Epoch 00034: val_acc did not improve from 0.99433\n",
            "Epoch 35/40\n",
            "\n",
            "Epoch 00035: LearningRateScheduler setting learning rate to 0.0009414319.\n",
            "468/468 [==============================] - 7s 14ms/step - loss: 0.0097 - acc: 0.9968 - val_loss: 0.0241 - val_acc: 0.9945\n",
            "\n",
            "Epoch 00035: val_acc improved from 0.99433 to 0.99453, saving model to model_custom_v1_mnist_best.h5\n",
            "Epoch 36/40\n",
            "\n",
            "Epoch 00036: LearningRateScheduler setting learning rate to 0.0009414319.\n",
            "468/468 [==============================] - 7s 14ms/step - loss: 0.0099 - acc: 0.9968 - val_loss: 0.0268 - val_acc: 0.9928\n",
            "\n",
            "Epoch 00036: val_acc did not improve from 0.99453\n",
            "Epoch 37/40\n",
            "\n",
            "Epoch 00037: LearningRateScheduler setting learning rate to 0.0008472887.\n",
            "468/468 [==============================] - 7s 14ms/step - loss: 0.0094 - acc: 0.9967 - val_loss: 0.0247 - val_acc: 0.9940\n",
            "\n",
            "Epoch 00037: val_acc did not improve from 0.99453\n",
            "Epoch 38/40\n",
            "\n",
            "Epoch 00038: LearningRateScheduler setting learning rate to 0.0008472887.\n",
            "468/468 [==============================] - 7s 14ms/step - loss: 0.0089 - acc: 0.9971 - val_loss: 0.0234 - val_acc: 0.9937\n",
            "\n",
            "Epoch 00038: val_acc did not improve from 0.99453\n",
            "Epoch 39/40\n",
            "\n",
            "Epoch 00039: LearningRateScheduler setting learning rate to 0.0008472887.\n",
            "468/468 [==============================] - 7s 15ms/step - loss: 0.0089 - acc: 0.9971 - val_loss: 0.0297 - val_acc: 0.9924\n",
            "\n",
            "Epoch 00039: val_acc did not improve from 0.99453\n",
            "Epoch 40/40\n",
            "\n",
            "Epoch 00040: LearningRateScheduler setting learning rate to 0.0007625598.\n",
            "468/468 [==============================] - 7s 15ms/step - loss: 0.0092 - acc: 0.9970 - val_loss: 0.0236 - val_acc: 0.9939\n",
            "\n",
            "Epoch 00040: val_acc did not improve from 0.99453\n"
          ],
          "name": "stdout"
        },
        {
          "output_type": "execute_result",
          "data": {
            "text/plain": [
              "<keras.callbacks.History at 0x7f82d0ccec50>"
            ]
          },
          "metadata": {
            "tags": []
          },
          "execution_count": 16
        }
      ]
    },
    {
      "cell_type": "markdown",
      "metadata": {
        "id": "6lbjVtIgc_sY",
        "colab_type": "text"
      },
      "source": [
        "### With Image Normalization added , we trained for 40 epochs and the max validation accuracy is 99.453 "
      ]
    },
    {
      "cell_type": "markdown",
      "metadata": {
        "id": "dlpQp7lskjwS",
        "colab_type": "text"
      },
      "source": [
        "#Add Weight Regularization \n",
        "\n",
        "L1 and L2 weight decay are a way to regularize the cost function and in the process help overcome overfitting \n",
        "\n",
        "L1 weight regularization ![L1](https://raw.githubusercontent.com/ravindrabharathi/eip3/master/images/L1-weight-decay.png)\n",
        "\n",
        "\n",
        "L2 weight regularization ![L2](https://raw.githubusercontent.com/ravindrabharathi/eip3/master/images/L2-weight-decay.png)\n",
        "\n",
        "\n",
        "Typically L2 regularization is used  and this is what we will use in for this model . \n"
      ]
    },
    {
      "cell_type": "code",
      "metadata": {
        "id": "Ck3qn081lHF-",
        "colab_type": "code",
        "colab": {}
      },
      "source": [
        "from keras import regularizers\n",
        "\n",
        "reg=regularizers.l2(0.001)"
      ],
      "execution_count": 0,
      "outputs": []
    },
    {
      "cell_type": "code",
      "metadata": {
        "colab_type": "code",
        "id": "NO6CNA9ykh9J",
        "colab": {}
      },
      "source": [
        "# to get a certain degeree of predictability when generating random numbers,\n",
        "# set a random seed to initialize the pseudo-random number generator \n",
        "np.random.seed(seed=42)  \n",
        "\n",
        "# instantiate a sequential model\n",
        "model = Sequential()\n",
        "\n",
        "# add the first convolution layer - 10 numbers of 3x3 filters , \n",
        "#This layer sees the input image of 28x28 x 1 channel . \n",
        "\n",
        "model.add(Conv2D(10, (3, 3), input_shape=(28,28,1), use_bias=False, kernel_regularizer=reg))  # remove bias param by setting it to false \n",
        " \n",
        "model.add(Activation('relu'))    # use ReLU activation function .\n",
        "model.add(BatchNormalization())  #add Batch normalization \n",
        "model.add(Dropout(0.1))  #add dropout\n",
        "\n",
        "# Now the global receptive field is 3 x 3 \n",
        "\n",
        "# First Convolution Block\n",
        "# Block1 conv layer 1 - 12 filters of shape  3x3x10 \n",
        "# input from previous layer is 26 x 26 x 10 . \n",
        "\n",
        "## Block 1\n",
        "\n",
        "model.add(Conv2D(12, 3, use_bias=False, kernel_regularizer=reg))  # remove bias param by setting it to false \n",
        "model.add(Activation('relu'))    # use ReLU activation function .\n",
        "model.add(BatchNormalization())  #add Batch normalization \n",
        "model.add(Dropout(0.1))   #add dropout\n",
        "\n",
        "#Global receptive field is 5x5\n",
        "\n",
        "# Add convolution layer - 16 filters of shape  3x3x12 \n",
        "#input from previous layer is 24 x 24 x 12 . \n",
        "\n",
        "model.add(Conv2D(16, 3, use_bias=False, kernel_regularizer=reg))  # remove bias param by setting it to false \n",
        "model.add(Activation('relu'))    # use ReLU activation function .\n",
        "model.add(BatchNormalization())  #add Batch normalization \n",
        "model.add(Dropout(0.1))    #add dropout\n",
        "\n",
        "#Global receptive field is 7x7\n",
        "\n",
        "##  Transition block \n",
        "\n",
        "# Perform 2x2 max pooling  . \n",
        "#Input from previous layer is 22 x 22 X 16 \n",
        "\n",
        "model.add(MaxPooling2D(2,2))\n",
        "\n",
        "\n",
        "# After max pooling , 2D spatial dimension reduces by half , i.e it becomes 11 x 11 . \n",
        "# Maxpooling (withpool size 2 and stride 1) doubles receptive field . \n",
        "# So global receptive field after max pooling is 14 x 14\n",
        "\n",
        "# add 1x1 convolution to reduce the channel numbers to 10 \n",
        "\n",
        "model.add(Conv2D(10, 1, use_bias=False, kernel_regularizer=reg))  # remove bias param by setting it to false \n",
        "model.add(Activation('relu'))    # use ReLU activation function .\n",
        "model.add(BatchNormalization())  #add Batch normalization \n",
        "\n",
        "\n",
        "#Convolution Block 2\n",
        "\n",
        "# Add convolution layer - 12 filters of shape 3x3x10\n",
        "#input from transition layer is 11 x 11 x 10 .  \n",
        "\n",
        "model.add(Conv2D(12, 3,  use_bias=False, kernel_regularizer=reg))  # remove bias param by setting it to false \n",
        "model.add(Activation('relu'))    # use ReLU activation function .\n",
        "model.add(BatchNormalization())  #add Batch normalization \n",
        "model.add(Dropout(0.1))   #add dropout\n",
        "\n",
        "#Global receptive field is now 16 x 16 \n",
        "\n",
        "# Add convolution layer - 16 filters of shape 3x3x12 \n",
        "#input coming from previous layer is 9 x 9 x 12 . \n",
        "\n",
        "model.add(Conv2D(16, 3,  use_bias=False, kernel_regularizer=reg)) # remove bias param by setting it to false \n",
        "model.add(Activation('relu'))    # use ReLU activation function .\n",
        "model.add(BatchNormalization())  #add Batch normalization \n",
        "model.add(Dropout(0.1))\n",
        "\n",
        "#  Global receptive field is now 18 x 18 \n",
        "\n",
        "\n",
        "# Add 1x1 convolution to reduce number of channels to 10  \n",
        "#input coming from previous layer is 7 x 7 x 16 .\n",
        "\n",
        "model.add(Conv2D(10, 1,  use_bias=False, kernel_regularizer=reg))  # remove bias param by setting it to false \n",
        "model.add(Activation('relu'))    # use ReLU activation function .\n",
        "model.add(BatchNormalization())  #add Batch normalization \n",
        "\n",
        "\n",
        "#Global receptive field is now 18 x 18 \n",
        "\n",
        "# Last layer :  Add convolution layer - 10 filters of shape 7x7x10 \n",
        "#input coming from previous layer is 7 x 7 x 10 .\n",
        "\n",
        "model.add(Conv2D(10, 7,  use_bias=False,kernel_regularizer=reg))  # remove bias param by setting it to false \n",
        "#No Batch normalization before prediction \n",
        "# Note absence of ReLU activation here \n",
        "\n",
        "\n",
        "model.add(Flatten())  # Flatten the 2d array to 1d input for the softmax activation \n",
        "model.add(Activation('softmax'))   # Softmax activation to out class probabilities "
      ],
      "execution_count": 0,
      "outputs": []
    },
    {
      "cell_type": "code",
      "metadata": {
        "colab_type": "code",
        "outputId": "a59ec09e-8d1c-4ebc-b43b-5fac74c1b7ea",
        "id": "uWwsauvRluD4",
        "colab": {
          "base_uri": "https://localhost:8080/",
          "height": 1156
        }
      },
      "source": [
        "model.summary()"
      ],
      "execution_count": 19,
      "outputs": [
        {
          "output_type": "stream",
          "text": [
            "_________________________________________________________________\n",
            "Layer (type)                 Output Shape              Param #   \n",
            "=================================================================\n",
            "conv2d_9 (Conv2D)            (None, 26, 26, 10)        90        \n",
            "_________________________________________________________________\n",
            "activation_9 (Activation)    (None, 26, 26, 10)        0         \n",
            "_________________________________________________________________\n",
            "batch_normalization_8 (Batch (None, 26, 26, 10)        40        \n",
            "_________________________________________________________________\n",
            "dropout_6 (Dropout)          (None, 26, 26, 10)        0         \n",
            "_________________________________________________________________\n",
            "conv2d_10 (Conv2D)           (None, 24, 24, 12)        1080      \n",
            "_________________________________________________________________\n",
            "activation_10 (Activation)   (None, 24, 24, 12)        0         \n",
            "_________________________________________________________________\n",
            "batch_normalization_9 (Batch (None, 24, 24, 12)        48        \n",
            "_________________________________________________________________\n",
            "dropout_7 (Dropout)          (None, 24, 24, 12)        0         \n",
            "_________________________________________________________________\n",
            "conv2d_11 (Conv2D)           (None, 22, 22, 16)        1728      \n",
            "_________________________________________________________________\n",
            "activation_11 (Activation)   (None, 22, 22, 16)        0         \n",
            "_________________________________________________________________\n",
            "batch_normalization_10 (Batc (None, 22, 22, 16)        64        \n",
            "_________________________________________________________________\n",
            "dropout_8 (Dropout)          (None, 22, 22, 16)        0         \n",
            "_________________________________________________________________\n",
            "max_pooling2d_2 (MaxPooling2 (None, 11, 11, 16)        0         \n",
            "_________________________________________________________________\n",
            "conv2d_12 (Conv2D)           (None, 11, 11, 10)        160       \n",
            "_________________________________________________________________\n",
            "activation_12 (Activation)   (None, 11, 11, 10)        0         \n",
            "_________________________________________________________________\n",
            "batch_normalization_11 (Batc (None, 11, 11, 10)        40        \n",
            "_________________________________________________________________\n",
            "conv2d_13 (Conv2D)           (None, 9, 9, 12)          1080      \n",
            "_________________________________________________________________\n",
            "activation_13 (Activation)   (None, 9, 9, 12)          0         \n",
            "_________________________________________________________________\n",
            "batch_normalization_12 (Batc (None, 9, 9, 12)          48        \n",
            "_________________________________________________________________\n",
            "dropout_9 (Dropout)          (None, 9, 9, 12)          0         \n",
            "_________________________________________________________________\n",
            "conv2d_14 (Conv2D)           (None, 7, 7, 16)          1728      \n",
            "_________________________________________________________________\n",
            "activation_14 (Activation)   (None, 7, 7, 16)          0         \n",
            "_________________________________________________________________\n",
            "batch_normalization_13 (Batc (None, 7, 7, 16)          64        \n",
            "_________________________________________________________________\n",
            "dropout_10 (Dropout)         (None, 7, 7, 16)          0         \n",
            "_________________________________________________________________\n",
            "conv2d_15 (Conv2D)           (None, 7, 7, 10)          160       \n",
            "_________________________________________________________________\n",
            "activation_15 (Activation)   (None, 7, 7, 10)          0         \n",
            "_________________________________________________________________\n",
            "batch_normalization_14 (Batc (None, 7, 7, 10)          40        \n",
            "_________________________________________________________________\n",
            "conv2d_16 (Conv2D)           (None, 1, 1, 10)          4900      \n",
            "_________________________________________________________________\n",
            "flatten_2 (Flatten)          (None, 10)                0         \n",
            "_________________________________________________________________\n",
            "activation_16 (Activation)   (None, 10)                0         \n",
            "=================================================================\n",
            "Total params: 11,270\n",
            "Trainable params: 11,098\n",
            "Non-trainable params: 172\n",
            "_________________________________________________________________\n"
          ],
          "name": "stdout"
        }
      ]
    },
    {
      "cell_type": "code",
      "metadata": {
        "colab_type": "code",
        "id": "lWJS1PavluD7",
        "colab": {}
      },
      "source": [
        "# define a learning rate scheduler . We will use a simple scheduler that reduces the lr by 10% every 3 epochs subject to a minimum lr of 0.0005 \n",
        "from keras.optimizers import Adam\n",
        "from keras.callbacks import LearningRateScheduler\n",
        "def scheduler(epoch, lr):\n",
        "  if (epoch%3==0 and epoch):\n",
        "    new_lr = max(0.9*lr,0.0005) \n",
        "  else:\n",
        "    new_lr=lr\n",
        "  \n",
        "  return round(new_lr, 10)\n",
        "  \n",
        " \n",
        "\n"
      ],
      "execution_count": 0,
      "outputs": []
    },
    {
      "cell_type": "code",
      "metadata": {
        "colab_type": "code",
        "id": "mfnIi3GuluD8",
        "colab": {}
      },
      "source": [
        "#start with a higher lr of 0.003 \n",
        "model.compile(loss='categorical_crossentropy', optimizer=Adam(lr=0.003), metrics=['accuracy'])"
      ],
      "execution_count": 0,
      "outputs": []
    },
    {
      "cell_type": "code",
      "metadata": {
        "colab_type": "code",
        "id": "TuqMGqBYoCj-",
        "colab": {}
      },
      "source": [
        "\n",
        "\n",
        "chkpoint_model=ModelCheckpoint(\"model_custom_v2_mnist_best.h5\", monitor='val_acc', verbose=1, save_best_only=True, save_weights_only=False, mode='max') \n",
        "\n"
      ],
      "execution_count": 0,
      "outputs": []
    },
    {
      "cell_type": "code",
      "metadata": {
        "colab_type": "code",
        "id": "wOXwJrW2oCj_",
        "colab": {}
      },
      "source": [
        " callback_list=[chkpoint_model,LearningRateScheduler(scheduler, verbose=1)]"
      ],
      "execution_count": 0,
      "outputs": []
    },
    {
      "cell_type": "code",
      "metadata": {
        "id": "jvCaTdWBnEpU",
        "colab_type": "code",
        "colab": {
          "base_uri": "https://localhost:8080/",
          "height": 4114
        },
        "outputId": "a2d663bf-c30a-48b1-a52d-1caebe04b000"
      },
      "source": [
        "batch_size=128\n",
        "\n",
        "train_datagen=ImageDataGenerator(\n",
        "        featurewise_center=True,  # set input mean to 0 over the dataset\n",
        "        #samplewise_center=False,  # set each sample mean to 0\n",
        "        featurewise_std_normalization=True,  # divide inputs by std of the dataset\n",
        "        #samplewise_std_normalization=False,  # divide each input by its std\n",
        ")\n",
        "\n",
        "val_datagen= ImageDataGenerator(\n",
        "        featurewise_center=True,  # set input mean to 0 over the dataset\n",
        "        \n",
        "        featurewise_std_normalization=True,  # divide inputs by std of the dataset\n",
        "        \n",
        ")\n",
        "\n",
        "\n",
        "train_datagen.fit(X_train)\n",
        "\n",
        "val_datagen.fit(X_test)\n",
        "\n",
        "training_generator=train_datagen.flow(X_train,Y_train, batch_size=batch_size,shuffle=True,seed=42)\n",
        "\n",
        "validation_generator=val_datagen.flow(X_test,Y_test, batch_size=batch_size,shuffle=True,seed=42)\n",
        "\n",
        "\n",
        "\n",
        "model.fit_generator(training_generator, epochs=40, \n",
        "                        steps_per_epoch=60000//batch_size, \n",
        "                    validation_steps=10000//batch_size, \n",
        "                    validation_data=validation_generator,shuffle=True,callbacks=callback_list,verbose=1)"
      ],
      "execution_count": 24,
      "outputs": [
        {
          "output_type": "stream",
          "text": [
            "Epoch 1/40\n",
            "\n",
            "Epoch 00001: LearningRateScheduler setting learning rate to 0.003.\n",
            "468/468 [==============================] - 9s 20ms/step - loss: 0.2742 - acc: 0.9405 - val_loss: 0.1286 - val_acc: 0.9828\n",
            "\n",
            "Epoch 00001: val_acc improved from -inf to 0.98277, saving model to model_custom_v2_mnist_best.h5\n",
            "Epoch 2/40\n",
            "\n",
            "Epoch 00002: LearningRateScheduler setting learning rate to 0.003.\n",
            "468/468 [==============================] - 7s 15ms/step - loss: 0.1331 - acc: 0.9799 - val_loss: 0.1128 - val_acc: 0.9827\n",
            "\n",
            "Epoch 00002: val_acc did not improve from 0.98277\n",
            "Epoch 3/40\n",
            "\n",
            "Epoch 00003: LearningRateScheduler setting learning rate to 0.003.\n",
            "468/468 [==============================] - 8s 16ms/step - loss: 0.1107 - acc: 0.9826 - val_loss: 0.0970 - val_acc: 0.9852\n",
            "\n",
            "Epoch 00003: val_acc improved from 0.98277 to 0.98521, saving model to model_custom_v2_mnist_best.h5\n",
            "Epoch 4/40\n",
            "\n",
            "Epoch 00004: LearningRateScheduler setting learning rate to 0.0027.\n",
            "468/468 [==============================] - 7s 15ms/step - loss: 0.0971 - acc: 0.9845 - val_loss: 0.0985 - val_acc: 0.9846\n",
            "\n",
            "Epoch 00004: val_acc did not improve from 0.98521\n",
            "Epoch 5/40\n",
            "\n",
            "Epoch 00005: LearningRateScheduler setting learning rate to 0.0027000001.\n",
            "468/468 [==============================] - 7s 15ms/step - loss: 0.0947 - acc: 0.9844 - val_loss: 0.0911 - val_acc: 0.9853\n",
            "\n",
            "Epoch 00005: val_acc improved from 0.98521 to 0.98531, saving model to model_custom_v2_mnist_best.h5\n",
            "Epoch 6/40\n",
            "\n",
            "Epoch 00006: LearningRateScheduler setting learning rate to 0.0027000001.\n",
            "468/468 [==============================] - 7s 15ms/step - loss: 0.0911 - acc: 0.9851 - val_loss: 0.0802 - val_acc: 0.9888\n",
            "\n",
            "Epoch 00006: val_acc improved from 0.98531 to 0.98876, saving model to model_custom_v2_mnist_best.h5\n",
            "Epoch 7/40\n",
            "\n",
            "Epoch 00007: LearningRateScheduler setting learning rate to 0.0024300001.\n",
            "468/468 [==============================] - 7s 15ms/step - loss: 0.0838 - acc: 0.9868 - val_loss: 0.0706 - val_acc: 0.9897\n",
            "\n",
            "Epoch 00007: val_acc improved from 0.98876 to 0.98967, saving model to model_custom_v2_mnist_best.h5\n",
            "Epoch 8/40\n",
            "\n",
            "Epoch 00008: LearningRateScheduler setting learning rate to 0.0024300001.\n",
            "468/468 [==============================] - 7s 15ms/step - loss: 0.0844 - acc: 0.9859 - val_loss: 0.0748 - val_acc: 0.9884\n",
            "\n",
            "Epoch 00008: val_acc did not improve from 0.98967\n",
            "Epoch 9/40\n",
            "\n",
            "Epoch 00009: LearningRateScheduler setting learning rate to 0.0024300001.\n",
            "468/468 [==============================] - 7s 15ms/step - loss: 0.0822 - acc: 0.9861 - val_loss: 0.0740 - val_acc: 0.9879\n",
            "\n",
            "Epoch 00009: val_acc did not improve from 0.98967\n",
            "Epoch 10/40\n",
            "\n",
            "Epoch 00010: LearningRateScheduler setting learning rate to 0.0021870001.\n",
            "468/468 [==============================] - 7s 15ms/step - loss: 0.0794 - acc: 0.9862 - val_loss: 0.0714 - val_acc: 0.9892\n",
            "\n",
            "Epoch 00010: val_acc did not improve from 0.98967\n",
            "Epoch 11/40\n",
            "\n",
            "Epoch 00011: LearningRateScheduler setting learning rate to 0.0021870001.\n",
            "468/468 [==============================] - 7s 15ms/step - loss: 0.0769 - acc: 0.9869 - val_loss: 0.0700 - val_acc: 0.9897\n",
            "\n",
            "Epoch 00011: val_acc did not improve from 0.98967\n",
            "Epoch 12/40\n",
            "\n",
            "Epoch 00012: LearningRateScheduler setting learning rate to 0.0021870001.\n",
            "468/468 [==============================] - 7s 15ms/step - loss: 0.0770 - acc: 0.9867 - val_loss: 0.0709 - val_acc: 0.9888\n",
            "\n",
            "Epoch 00012: val_acc did not improve from 0.98967\n",
            "Epoch 13/40\n",
            "\n",
            "Epoch 00013: LearningRateScheduler setting learning rate to 0.0019683001.\n",
            "468/468 [==============================] - 7s 15ms/step - loss: 0.0720 - acc: 0.9884 - val_loss: 0.0661 - val_acc: 0.9890\n",
            "\n",
            "Epoch 00013: val_acc did not improve from 0.98967\n",
            "Epoch 14/40\n",
            "\n",
            "Epoch 00014: LearningRateScheduler setting learning rate to 0.0019683002.\n",
            "468/468 [==============================] - 7s 15ms/step - loss: 0.0707 - acc: 0.9882 - val_loss: 0.0688 - val_acc: 0.9871\n",
            "\n",
            "Epoch 00014: val_acc did not improve from 0.98967\n",
            "Epoch 15/40\n",
            "\n",
            "Epoch 00015: LearningRateScheduler setting learning rate to 0.0019683002.\n",
            "468/468 [==============================] - 8s 16ms/step - loss: 0.0716 - acc: 0.9874 - val_loss: 0.0602 - val_acc: 0.9896\n",
            "\n",
            "Epoch 00015: val_acc did not improve from 0.98967\n",
            "Epoch 16/40\n",
            "\n",
            "Epoch 00016: LearningRateScheduler setting learning rate to 0.0017714702.\n",
            "468/468 [==============================] - 7s 15ms/step - loss: 0.0674 - acc: 0.9889 - val_loss: 0.0615 - val_acc: 0.9894\n",
            "\n",
            "Epoch 00016: val_acc did not improve from 0.98967\n",
            "Epoch 17/40\n",
            "\n",
            "Epoch 00017: LearningRateScheduler setting learning rate to 0.0017714702.\n",
            "468/468 [==============================] - 7s 15ms/step - loss: 0.0692 - acc: 0.9881 - val_loss: 0.0701 - val_acc: 0.9884\n",
            "\n",
            "Epoch 00017: val_acc did not improve from 0.98967\n",
            "Epoch 18/40\n",
            "\n",
            "Epoch 00018: LearningRateScheduler setting learning rate to 0.0017714702.\n",
            "468/468 [==============================] - 7s 15ms/step - loss: 0.0662 - acc: 0.9889 - val_loss: 0.0599 - val_acc: 0.9913\n",
            "\n",
            "Epoch 00018: val_acc improved from 0.98967 to 0.99129, saving model to model_custom_v2_mnist_best.h5\n",
            "Epoch 19/40\n",
            "\n",
            "Epoch 00019: LearningRateScheduler setting learning rate to 0.0015943232.\n",
            "468/468 [==============================] - 7s 15ms/step - loss: 0.0624 - acc: 0.9899 - val_loss: 0.0563 - val_acc: 0.9914\n",
            "\n",
            "Epoch 00019: val_acc improved from 0.99129 to 0.99139, saving model to model_custom_v2_mnist_best.h5\n",
            "Epoch 20/40\n",
            "\n",
            "Epoch 00020: LearningRateScheduler setting learning rate to 0.0015943232.\n",
            "468/468 [==============================] - 7s 15ms/step - loss: 0.0602 - acc: 0.9902 - val_loss: 0.0593 - val_acc: 0.9891\n",
            "\n",
            "Epoch 00020: val_acc did not improve from 0.99139\n",
            "Epoch 21/40\n",
            "\n",
            "Epoch 00021: LearningRateScheduler setting learning rate to 0.0015943232.\n",
            "468/468 [==============================] - 7s 15ms/step - loss: 0.0610 - acc: 0.9901 - val_loss: 0.0586 - val_acc: 0.9907\n",
            "\n",
            "Epoch 00021: val_acc did not improve from 0.99139\n",
            "Epoch 22/40\n",
            "\n",
            "Epoch 00022: LearningRateScheduler setting learning rate to 0.0014348909.\n",
            "468/468 [==============================] - 7s 15ms/step - loss: 0.0594 - acc: 0.9899 - val_loss: 0.0628 - val_acc: 0.9886\n",
            "\n",
            "Epoch 00022: val_acc did not improve from 0.99139\n",
            "Epoch 23/40\n",
            "\n",
            "Epoch 00023: LearningRateScheduler setting learning rate to 0.0014348909.\n",
            "468/468 [==============================] - 7s 15ms/step - loss: 0.0583 - acc: 0.9900 - val_loss: 0.0614 - val_acc: 0.9882\n",
            "\n",
            "Epoch 00023: val_acc did not improve from 0.99139\n",
            "Epoch 24/40\n",
            "\n",
            "Epoch 00024: LearningRateScheduler setting learning rate to 0.0014348909.\n",
            "468/468 [==============================] - 7s 15ms/step - loss: 0.0589 - acc: 0.9897 - val_loss: 0.0596 - val_acc: 0.9891\n",
            "\n",
            "Epoch 00024: val_acc did not improve from 0.99139\n",
            "Epoch 25/40\n",
            "\n",
            "Epoch 00025: LearningRateScheduler setting learning rate to 0.0012914018.\n",
            "468/468 [==============================] - 7s 15ms/step - loss: 0.0563 - acc: 0.9905 - val_loss: 0.0547 - val_acc: 0.9917\n",
            "\n",
            "Epoch 00025: val_acc improved from 0.99139 to 0.99169, saving model to model_custom_v2_mnist_best.h5\n",
            "Epoch 26/40\n",
            "\n",
            "Epoch 00026: LearningRateScheduler setting learning rate to 0.0012914018.\n",
            "468/468 [==============================] - 7s 16ms/step - loss: 0.0544 - acc: 0.9909 - val_loss: 0.0522 - val_acc: 0.9908\n",
            "\n",
            "Epoch 00026: val_acc did not improve from 0.99169\n",
            "Epoch 27/40\n",
            "\n",
            "Epoch 00027: LearningRateScheduler setting learning rate to 0.0012914018.\n",
            "468/468 [==============================] - 7s 16ms/step - loss: 0.0544 - acc: 0.9910 - val_loss: 0.0574 - val_acc: 0.9903\n",
            "\n",
            "Epoch 00027: val_acc did not improve from 0.99169\n",
            "Epoch 28/40\n",
            "\n",
            "Epoch 00028: LearningRateScheduler setting learning rate to 0.0011622616.\n",
            "468/468 [==============================] - 7s 15ms/step - loss: 0.0503 - acc: 0.9921 - val_loss: 0.0502 - val_acc: 0.9919\n",
            "\n",
            "Epoch 00028: val_acc improved from 0.99169 to 0.99190, saving model to model_custom_v2_mnist_best.h5\n",
            "Epoch 29/40\n",
            "\n",
            "Epoch 00029: LearningRateScheduler setting learning rate to 0.0011622616.\n",
            "468/468 [==============================] - 7s 15ms/step - loss: 0.0501 - acc: 0.9916 - val_loss: 0.0496 - val_acc: 0.9922\n",
            "\n",
            "Epoch 00029: val_acc improved from 0.99190 to 0.99220, saving model to model_custom_v2_mnist_best.h5\n",
            "Epoch 30/40\n",
            "\n",
            "Epoch 00030: LearningRateScheduler setting learning rate to 0.0011622616.\n",
            "468/468 [==============================] - 7s 15ms/step - loss: 0.0521 - acc: 0.9911 - val_loss: 0.0584 - val_acc: 0.9897\n",
            "\n",
            "Epoch 00030: val_acc did not improve from 0.99220\n",
            "Epoch 31/40\n",
            "\n",
            "Epoch 00031: LearningRateScheduler setting learning rate to 0.0010460354.\n",
            "468/468 [==============================] - 7s 15ms/step - loss: 0.0480 - acc: 0.9921 - val_loss: 0.0471 - val_acc: 0.9919\n",
            "\n",
            "Epoch 00031: val_acc did not improve from 0.99220\n",
            "Epoch 32/40\n",
            "\n",
            "Epoch 00032: LearningRateScheduler setting learning rate to 0.0010460354.\n",
            "468/468 [==============================] - 7s 15ms/step - loss: 0.0492 - acc: 0.9916 - val_loss: 0.0501 - val_acc: 0.9912\n",
            "\n",
            "Epoch 00032: val_acc did not improve from 0.99220\n",
            "Epoch 33/40\n",
            "\n",
            "Epoch 00033: LearningRateScheduler setting learning rate to 0.0010460354.\n",
            "468/468 [==============================] - 7s 15ms/step - loss: 0.0474 - acc: 0.9915 - val_loss: 0.0476 - val_acc: 0.9914\n",
            "\n",
            "Epoch 00033: val_acc did not improve from 0.99220\n",
            "Epoch 34/40\n",
            "\n",
            "Epoch 00034: LearningRateScheduler setting learning rate to 0.0009414319.\n",
            "468/468 [==============================] - 7s 15ms/step - loss: 0.0463 - acc: 0.9924 - val_loss: 0.0463 - val_acc: 0.9914\n",
            "\n",
            "Epoch 00034: val_acc did not improve from 0.99220\n",
            "Epoch 35/40\n",
            "\n",
            "Epoch 00035: LearningRateScheduler setting learning rate to 0.0009414319.\n",
            "468/468 [==============================] - 7s 15ms/step - loss: 0.0464 - acc: 0.9923 - val_loss: 0.0530 - val_acc: 0.9898\n",
            "\n",
            "Epoch 00035: val_acc did not improve from 0.99220\n",
            "Epoch 36/40\n",
            "\n",
            "Epoch 00036: LearningRateScheduler setting learning rate to 0.0009414319.\n",
            "468/468 [==============================] - 7s 15ms/step - loss: 0.0448 - acc: 0.9926 - val_loss: 0.0441 - val_acc: 0.9930\n",
            "\n",
            "Epoch 00036: val_acc improved from 0.99220 to 0.99301, saving model to model_custom_v2_mnist_best.h5\n",
            "Epoch 37/40\n",
            "\n",
            "Epoch 00037: LearningRateScheduler setting learning rate to 0.0008472887.\n",
            "468/468 [==============================] - 7s 15ms/step - loss: 0.0434 - acc: 0.9926 - val_loss: 0.0431 - val_acc: 0.9938\n",
            "\n",
            "Epoch 00037: val_acc improved from 0.99301 to 0.99382, saving model to model_custom_v2_mnist_best.h5\n",
            "Epoch 38/40\n",
            "\n",
            "Epoch 00038: LearningRateScheduler setting learning rate to 0.0008472887.\n",
            "468/468 [==============================] - 8s 16ms/step - loss: 0.0421 - acc: 0.9928 - val_loss: 0.0428 - val_acc: 0.9929\n",
            "\n",
            "Epoch 00038: val_acc did not improve from 0.99382\n",
            "Epoch 39/40\n",
            "\n",
            "Epoch 00039: LearningRateScheduler setting learning rate to 0.0008472887.\n",
            "468/468 [==============================] - 7s 15ms/step - loss: 0.0417 - acc: 0.9928 - val_loss: 0.0443 - val_acc: 0.9921\n",
            "\n",
            "Epoch 00039: val_acc did not improve from 0.99382\n",
            "Epoch 40/40\n",
            "\n",
            "Epoch 00040: LearningRateScheduler setting learning rate to 0.0007625598.\n",
            "468/468 [==============================] - 7s 15ms/step - loss: 0.0404 - acc: 0.9932 - val_loss: 0.0476 - val_acc: 0.9912\n",
            "\n",
            "Epoch 00040: val_acc did not improve from 0.99382\n"
          ],
          "name": "stdout"
        },
        {
          "output_type": "execute_result",
          "data": {
            "text/plain": [
              "<keras.callbacks.History at 0x7f82b1693908>"
            ]
          },
          "metadata": {
            "tags": []
          },
          "execution_count": 24
        }
      ]
    },
    {
      "cell_type": "markdown",
      "metadata": {
        "id": "jB2DVcEHciNS",
        "colab_type": "text"
      },
      "source": [
        "####We added L2 regularization , trained for 40 epochs and reached a max validation accuracy of 99.382 . The effect of regularization is to prevent overfitting and reduxe the gap between training and validation accuracies "
      ]
    },
    {
      "cell_type": "markdown",
      "metadata": {
        "id": "YmyGmS8oy2qE",
        "colab_type": "text"
      },
      "source": [
        "#Model with BatchNormalization placed before ReLU activation \n",
        "\n",
        "Let us try experiment with the placement of BatchNormalization before ReLU activation to see if it makes any diference \n",
        "\n",
        "\n",
        "\n"
      ]
    },
    {
      "cell_type": "code",
      "metadata": {
        "id": "Rdn9MvWmVOtA",
        "colab_type": "code",
        "colab": {}
      },
      "source": [
        "# to get a certain degeree of predictability when generating random numbers,\n",
        "# set a random seed to initialize the pseudo-random number generator \n",
        "np.random.seed(seed=42)  \n",
        "\n",
        "# instantiate a sequential model\n",
        "model = Sequential()\n",
        "\n",
        "# add the first convolution layer - 10 numbers of 3x3 filters , \n",
        "#This layer sees the input image of 28x28 x 1 channel . \n",
        "\n",
        "model.add(Conv2D(10, (3, 3), input_shape=(28,28,1), use_bias=False,kernel_regularizer=reg))  # remove bias param by setting it to false \n",
        "model.add(BatchNormalization())  #add Batch normalization  \n",
        "model.add(Activation('relu'))    # use ReLU activation function .\n",
        "model.add(Dropout(0.1))  #add dropout\n",
        "\n",
        "# Now the global receptive field is 3 x 3 \n",
        "\n",
        "# First Convolution Block\n",
        "# Block1 conv layer 1 - 12 filters of shape  3x3x10 \n",
        "# input from previous layer is 26 x 26 x 10 . \n",
        "\n",
        "## Block 1\n",
        "\n",
        "model.add(Conv2D(12, 3, use_bias=False,kernel_regularizer=reg))  # remove bias param by setting it to false \n",
        "model.add(BatchNormalization())  #add Batch normalization \n",
        "model.add(Activation('relu'))    # use ReLU activation function .\n",
        "model.add(Dropout(0.1))   #add dropout\n",
        "\n",
        "#Global receptive field is 5x5\n",
        "\n",
        "# Add convolution layer - 16 filters of shape  3x3x12 \n",
        "#input from previous layer is 24 x 24 x 12 . \n",
        "\n",
        "model.add(Conv2D(16, 3, use_bias=False,kernel_regularizer=reg))  # remove bias param by setting it to false \n",
        "model.add(BatchNormalization())  #add Batch normalization\n",
        "model.add(Activation('relu'))    # use ReLU activation function .\n",
        "model.add(Dropout(0.1))    #add dropout\n",
        "\n",
        "#Global receptive field is 7x7\n",
        "\n",
        "##  Transition block \n",
        "\n",
        "# Perform 2x2 max pooling  . \n",
        "#Input from previous layer is 22 x 22 X 16 \n",
        "\n",
        "model.add(MaxPooling2D(2,2))\n",
        "\n",
        "\n",
        "# After max pooling , 2D spatial dimension reduces by half , i.e it becomes 11 x 11 . \n",
        "# Maxpooling (withpool size 2 and stride 1) doubles receptive field . \n",
        "# So global receptive field after max pooling is 14 x 14\n",
        "\n",
        "# add 1x1 convolution to reduce the channel numbers to 10 \n",
        "\n",
        "model.add(Conv2D(10, 1, use_bias=False,kernel_regularizer=reg))  # remove bias param by setting it to false \n",
        "model.add(BatchNormalization())  #add Batch normalization \n",
        "model.add(Activation('relu'))    # use ReLU activation function .\n",
        "\n",
        "\n",
        "#Convolution Block 2\n",
        "\n",
        "# Add convolution layer - 12 filters of shape 3x3x10\n",
        "#input from transition layer is 11 x 11 x 10 .  \n",
        "\n",
        "model.add(Conv2D(12, 3,  use_bias=False,kernel_regularizer=reg))  # remove bias param by setting it to false \n",
        "model.add(BatchNormalization())  #add Batch normalization\n",
        "model.add(Activation('relu'))    # use ReLU activation function .\n",
        "model.add(Dropout(0.1))   #add dropout\n",
        "\n",
        "#Global receptive field is now 16 x 16 \n",
        "\n",
        "# Add convolution layer - 16 filters of shape 3x3x12 \n",
        "#input coming from previous layer is 9 x 9 x 12 . \n",
        "\n",
        "model.add(Conv2D(16, 3,  use_bias=False,kernel_regularizer=reg)) # remove bias param by setting it to false \n",
        "model.add(BatchNormalization())  #add Batch normalization \n",
        "model.add(Activation('relu'))    # use ReLU activation function .\n",
        "model.add(Dropout(0.1))\n",
        "\n",
        "#  Global receptive field is now 18 x 18 \n",
        "\n",
        "\n",
        "# Add 1x1 convolution to reduce number of channels to 10  \n",
        "#input coming from previous layer is 7 x 7 x 16 .\n",
        "\n",
        "model.add(Conv2D(10, 1,  use_bias=False,kernel_regularizer=reg))  # remove bias param by setting it to false \n",
        "model.add(BatchNormalization())  #add Batch normalization \n",
        "model.add(Activation('relu'))    # use ReLU activation function .\n",
        "\n",
        "\n",
        "#Global receptive field is now 18 x 18 \n",
        "\n",
        "# Last layer :  Add convolution layer - 10 filters of shape 7x7x10 \n",
        "#input coming from previous layer is 7 x 7 x 10 .\n",
        "\n",
        "model.add(Conv2D(10, 7,  use_bias=False,kernel_regularizer=reg))  # remove bias param by setting it to false \n",
        "#No Batch normalization before prediction \n",
        "# Note absence of ReLU activation here \n",
        "\n",
        "\n",
        "model.add(Flatten())  # Flatten the 2d array to 1d input for the softmax activation \n",
        "model.add(Activation('softmax'))   # Softmax activation to out class probabilities "
      ],
      "execution_count": 0,
      "outputs": []
    },
    {
      "cell_type": "code",
      "metadata": {
        "id": "BTdVH726xhN3",
        "colab_type": "code",
        "outputId": "a9715a65-839f-498c-bfb8-7476c916b456",
        "colab": {
          "base_uri": "https://localhost:8080/",
          "height": 1156
        }
      },
      "source": [
        "model.summary()"
      ],
      "execution_count": 26,
      "outputs": [
        {
          "output_type": "stream",
          "text": [
            "_________________________________________________________________\n",
            "Layer (type)                 Output Shape              Param #   \n",
            "=================================================================\n",
            "conv2d_17 (Conv2D)           (None, 26, 26, 10)        90        \n",
            "_________________________________________________________________\n",
            "batch_normalization_15 (Batc (None, 26, 26, 10)        40        \n",
            "_________________________________________________________________\n",
            "activation_17 (Activation)   (None, 26, 26, 10)        0         \n",
            "_________________________________________________________________\n",
            "dropout_11 (Dropout)         (None, 26, 26, 10)        0         \n",
            "_________________________________________________________________\n",
            "conv2d_18 (Conv2D)           (None, 24, 24, 12)        1080      \n",
            "_________________________________________________________________\n",
            "batch_normalization_16 (Batc (None, 24, 24, 12)        48        \n",
            "_________________________________________________________________\n",
            "activation_18 (Activation)   (None, 24, 24, 12)        0         \n",
            "_________________________________________________________________\n",
            "dropout_12 (Dropout)         (None, 24, 24, 12)        0         \n",
            "_________________________________________________________________\n",
            "conv2d_19 (Conv2D)           (None, 22, 22, 16)        1728      \n",
            "_________________________________________________________________\n",
            "batch_normalization_17 (Batc (None, 22, 22, 16)        64        \n",
            "_________________________________________________________________\n",
            "activation_19 (Activation)   (None, 22, 22, 16)        0         \n",
            "_________________________________________________________________\n",
            "dropout_13 (Dropout)         (None, 22, 22, 16)        0         \n",
            "_________________________________________________________________\n",
            "max_pooling2d_3 (MaxPooling2 (None, 11, 11, 16)        0         \n",
            "_________________________________________________________________\n",
            "conv2d_20 (Conv2D)           (None, 11, 11, 10)        160       \n",
            "_________________________________________________________________\n",
            "batch_normalization_18 (Batc (None, 11, 11, 10)        40        \n",
            "_________________________________________________________________\n",
            "activation_20 (Activation)   (None, 11, 11, 10)        0         \n",
            "_________________________________________________________________\n",
            "conv2d_21 (Conv2D)           (None, 9, 9, 12)          1080      \n",
            "_________________________________________________________________\n",
            "batch_normalization_19 (Batc (None, 9, 9, 12)          48        \n",
            "_________________________________________________________________\n",
            "activation_21 (Activation)   (None, 9, 9, 12)          0         \n",
            "_________________________________________________________________\n",
            "dropout_14 (Dropout)         (None, 9, 9, 12)          0         \n",
            "_________________________________________________________________\n",
            "conv2d_22 (Conv2D)           (None, 7, 7, 16)          1728      \n",
            "_________________________________________________________________\n",
            "batch_normalization_20 (Batc (None, 7, 7, 16)          64        \n",
            "_________________________________________________________________\n",
            "activation_22 (Activation)   (None, 7, 7, 16)          0         \n",
            "_________________________________________________________________\n",
            "dropout_15 (Dropout)         (None, 7, 7, 16)          0         \n",
            "_________________________________________________________________\n",
            "conv2d_23 (Conv2D)           (None, 7, 7, 10)          160       \n",
            "_________________________________________________________________\n",
            "batch_normalization_21 (Batc (None, 7, 7, 10)          40        \n",
            "_________________________________________________________________\n",
            "activation_23 (Activation)   (None, 7, 7, 10)          0         \n",
            "_________________________________________________________________\n",
            "conv2d_24 (Conv2D)           (None, 1, 1, 10)          4900      \n",
            "_________________________________________________________________\n",
            "flatten_3 (Flatten)          (None, 10)                0         \n",
            "_________________________________________________________________\n",
            "activation_24 (Activation)   (None, 10)                0         \n",
            "=================================================================\n",
            "Total params: 11,270\n",
            "Trainable params: 11,098\n",
            "Non-trainable params: 172\n",
            "_________________________________________________________________\n"
          ],
          "name": "stdout"
        }
      ]
    },
    {
      "cell_type": "code",
      "metadata": {
        "colab_type": "code",
        "id": "STjmgKadoO7F",
        "colab": {}
      },
      "source": [
        "# define a learning rate scheduler . We will use a simple scheduler that reduces the lr by 10% every 3 epochs subject to a minimum lr of 0.0005 \n",
        "from keras.optimizers import Adam\n",
        "from keras.callbacks import LearningRateScheduler\n",
        "def scheduler(epoch, lr):\n",
        "  if (epoch%3==0 and epoch):\n",
        "    new_lr = max(0.9*lr,0.0005) \n",
        "  else:\n",
        "    new_lr=lr\n",
        "  \n",
        "  return round(new_lr, 10)\n",
        "  \n",
        " \n",
        "\n"
      ],
      "execution_count": 0,
      "outputs": []
    },
    {
      "cell_type": "code",
      "metadata": {
        "colab_type": "code",
        "id": "tYliZCdAoO7G",
        "colab": {}
      },
      "source": [
        "\n",
        "model.compile(loss='categorical_crossentropy', optimizer=Adam(lr=0.003), metrics=['accuracy'])"
      ],
      "execution_count": 0,
      "outputs": []
    },
    {
      "cell_type": "code",
      "metadata": {
        "colab_type": "code",
        "id": "GqlVzWomoO7I",
        "colab": {}
      },
      "source": [
        "\n",
        "\n",
        "chkpoint_model=ModelCheckpoint(\"model_custom_v3_mnist_best.h5\", monitor='val_acc', verbose=1, save_best_only=True, save_weights_only=False, mode='max') \n",
        "\n"
      ],
      "execution_count": 0,
      "outputs": []
    },
    {
      "cell_type": "code",
      "metadata": {
        "colab_type": "code",
        "id": "gEUYjDgSoO7K",
        "colab": {}
      },
      "source": [
        " callback_list=[chkpoint_model,LearningRateScheduler(scheduler, verbose=1)]"
      ],
      "execution_count": 0,
      "outputs": []
    },
    {
      "cell_type": "code",
      "metadata": {
        "colab_type": "code",
        "id": "1t_u6PfcoO7M",
        "colab": {
          "base_uri": "https://localhost:8080/",
          "height": 4114
        },
        "outputId": "9559e6df-ae64-416d-a2e9-dedb0f513fa5"
      },
      "source": [
        "batch_size=128\n",
        "\n",
        "train_datagen=ImageDataGenerator(\n",
        "        featurewise_center=True,  # set input mean to 0 over the dataset\n",
        "        #samplewise_center=False,  # set each sample mean to 0\n",
        "        featurewise_std_normalization=True,  # divide inputs by std of the dataset\n",
        "        #samplewise_std_normalization=False,  # divide each input by its std\n",
        ")\n",
        "\n",
        "val_datagen= ImageDataGenerator(\n",
        "        featurewise_center=True,  # set input mean to 0 over the dataset\n",
        "        \n",
        "        featurewise_std_normalization=True,  # divide inputs by std of the dataset\n",
        "        \n",
        ")\n",
        "\n",
        "\n",
        "train_datagen.fit(X_train)\n",
        "\n",
        "val_datagen.fit(X_test)\n",
        "\n",
        "training_generator=train_datagen.flow(X_train,Y_train, batch_size=batch_size,shuffle=True,seed=42)\n",
        "\n",
        "validation_generator=val_datagen.flow(X_test,Y_test, batch_size=batch_size,shuffle=True,seed=42)\n",
        "\n",
        "\n",
        "\n",
        "model.fit_generator(training_generator, epochs=40, \n",
        "                        steps_per_epoch=60000//batch_size, \n",
        "                    validation_steps=10000//batch_size, \n",
        "                    validation_data=validation_generator,shuffle=True,callbacks=callback_list,verbose=1)"
      ],
      "execution_count": 31,
      "outputs": [
        {
          "output_type": "stream",
          "text": [
            "Epoch 1/40\n",
            "\n",
            "Epoch 00001: LearningRateScheduler setting learning rate to 0.003.\n",
            "468/468 [==============================] - 9s 20ms/step - loss: 0.2885 - acc: 0.9372 - val_loss: 0.1544 - val_acc: 0.9772\n",
            "\n",
            "Epoch 00001: val_acc improved from -inf to 0.97716, saving model to model_custom_v3_mnist_best.h5\n",
            "Epoch 2/40\n",
            "\n",
            "Epoch 00002: LearningRateScheduler setting learning rate to 0.003.\n",
            "468/468 [==============================] - 7s 15ms/step - loss: 0.1354 - acc: 0.9781 - val_loss: 0.1375 - val_acc: 0.9746\n",
            "\n",
            "Epoch 00002: val_acc did not improve from 0.97716\n",
            "Epoch 3/40\n",
            "\n",
            "Epoch 00003: LearningRateScheduler setting learning rate to 0.003.\n",
            "468/468 [==============================] - 8s 16ms/step - loss: 0.1127 - acc: 0.9809 - val_loss: 0.0932 - val_acc: 0.9851\n",
            "\n",
            "Epoch 00003: val_acc improved from 0.97716 to 0.98511, saving model to model_custom_v3_mnist_best.h5\n",
            "Epoch 4/40\n",
            "\n",
            "Epoch 00004: LearningRateScheduler setting learning rate to 0.0027.\n",
            "468/468 [==============================] - 7s 16ms/step - loss: 0.1016 - acc: 0.9830 - val_loss: 0.0977 - val_acc: 0.9849\n",
            "\n",
            "Epoch 00004: val_acc did not improve from 0.98511\n",
            "Epoch 5/40\n",
            "\n",
            "Epoch 00005: LearningRateScheduler setting learning rate to 0.0027000001.\n",
            "468/468 [==============================] - 7s 15ms/step - loss: 0.0936 - acc: 0.9837 - val_loss: 0.0942 - val_acc: 0.9829\n",
            "\n",
            "Epoch 00005: val_acc did not improve from 0.98511\n",
            "Epoch 6/40\n",
            "\n",
            "Epoch 00006: LearningRateScheduler setting learning rate to 0.0027000001.\n",
            "468/468 [==============================] - 7s 15ms/step - loss: 0.0924 - acc: 0.9845 - val_loss: 0.0773 - val_acc: 0.9897\n",
            "\n",
            "Epoch 00006: val_acc improved from 0.98511 to 0.98967, saving model to model_custom_v3_mnist_best.h5\n",
            "Epoch 7/40\n",
            "\n",
            "Epoch 00007: LearningRateScheduler setting learning rate to 0.0024300001.\n",
            "468/468 [==============================] - 7s 15ms/step - loss: 0.0846 - acc: 0.9864 - val_loss: 0.0728 - val_acc: 0.9893\n",
            "\n",
            "Epoch 00007: val_acc did not improve from 0.98967\n",
            "Epoch 8/40\n",
            "\n",
            "Epoch 00008: LearningRateScheduler setting learning rate to 0.0024300001.\n",
            "468/468 [==============================] - 8s 16ms/step - loss: 0.0853 - acc: 0.9852 - val_loss: 0.0929 - val_acc: 0.9820\n",
            "\n",
            "Epoch 00008: val_acc did not improve from 0.98967\n",
            "Epoch 9/40\n",
            "\n",
            "Epoch 00009: LearningRateScheduler setting learning rate to 0.0024300001.\n",
            "468/468 [==============================] - 7s 15ms/step - loss: 0.0840 - acc: 0.9854 - val_loss: 0.0749 - val_acc: 0.9890\n",
            "\n",
            "Epoch 00009: val_acc did not improve from 0.98967\n",
            "Epoch 10/40\n",
            "\n",
            "Epoch 00010: LearningRateScheduler setting learning rate to 0.0021870001.\n",
            "468/468 [==============================] - 7s 15ms/step - loss: 0.0778 - acc: 0.9873 - val_loss: 0.0759 - val_acc: 0.9876\n",
            "\n",
            "Epoch 00010: val_acc did not improve from 0.98967\n",
            "Epoch 11/40\n",
            "\n",
            "Epoch 00011: LearningRateScheduler setting learning rate to 0.0021870001.\n",
            "468/468 [==============================] - 7s 15ms/step - loss: 0.0793 - acc: 0.9867 - val_loss: 0.0746 - val_acc: 0.9881\n",
            "\n",
            "Epoch 00011: val_acc did not improve from 0.98967\n",
            "Epoch 12/40\n",
            "\n",
            "Epoch 00012: LearningRateScheduler setting learning rate to 0.0021870001.\n",
            "468/468 [==============================] - 7s 15ms/step - loss: 0.0754 - acc: 0.9873 - val_loss: 0.0651 - val_acc: 0.9899\n",
            "\n",
            "Epoch 00012: val_acc improved from 0.98967 to 0.98987, saving model to model_custom_v3_mnist_best.h5\n",
            "Epoch 13/40\n",
            "\n",
            "Epoch 00013: LearningRateScheduler setting learning rate to 0.0019683001.\n",
            "468/468 [==============================] - 7s 15ms/step - loss: 0.0731 - acc: 0.9877 - val_loss: 0.0622 - val_acc: 0.9907\n",
            "\n",
            "Epoch 00013: val_acc improved from 0.98987 to 0.99068, saving model to model_custom_v3_mnist_best.h5\n",
            "Epoch 14/40\n",
            "\n",
            "Epoch 00014: LearningRateScheduler setting learning rate to 0.0019683002.\n",
            "468/468 [==============================] - 7s 15ms/step - loss: 0.0715 - acc: 0.9876 - val_loss: 0.0764 - val_acc: 0.9867\n",
            "\n",
            "Epoch 00014: val_acc did not improve from 0.99068\n",
            "Epoch 15/40\n",
            "\n",
            "Epoch 00015: LearningRateScheduler setting learning rate to 0.0019683002.\n",
            "468/468 [==============================] - 7s 15ms/step - loss: 0.0741 - acc: 0.9873 - val_loss: 0.0622 - val_acc: 0.9909\n",
            "\n",
            "Epoch 00015: val_acc improved from 0.99068 to 0.99088, saving model to model_custom_v3_mnist_best.h5\n",
            "Epoch 16/40\n",
            "\n",
            "Epoch 00016: LearningRateScheduler setting learning rate to 0.0017714702.\n",
            "468/468 [==============================] - 7s 15ms/step - loss: 0.0668 - acc: 0.9892 - val_loss: 0.0607 - val_acc: 0.9897\n",
            "\n",
            "Epoch 00016: val_acc did not improve from 0.99088\n",
            "Epoch 17/40\n",
            "\n",
            "Epoch 00017: LearningRateScheduler setting learning rate to 0.0017714702.\n",
            "468/468 [==============================] - 7s 15ms/step - loss: 0.0680 - acc: 0.9886 - val_loss: 0.0754 - val_acc: 0.9865\n",
            "\n",
            "Epoch 00017: val_acc did not improve from 0.99088\n",
            "Epoch 18/40\n",
            "\n",
            "Epoch 00018: LearningRateScheduler setting learning rate to 0.0017714702.\n",
            "468/468 [==============================] - 7s 15ms/step - loss: 0.0674 - acc: 0.9885 - val_loss: 0.0682 - val_acc: 0.9882\n",
            "\n",
            "Epoch 00018: val_acc did not improve from 0.99088\n",
            "Epoch 19/40\n",
            "\n",
            "Epoch 00019: LearningRateScheduler setting learning rate to 0.0015943232.\n",
            "468/468 [==============================] - 7s 16ms/step - loss: 0.0620 - acc: 0.9895 - val_loss: 0.0570 - val_acc: 0.9920\n",
            "\n",
            "Epoch 00019: val_acc improved from 0.99088 to 0.99200, saving model to model_custom_v3_mnist_best.h5\n",
            "Epoch 20/40\n",
            "\n",
            "Epoch 00020: LearningRateScheduler setting learning rate to 0.0015943232.\n",
            "468/468 [==============================] - 7s 16ms/step - loss: 0.0628 - acc: 0.9896 - val_loss: 0.0551 - val_acc: 0.9920\n",
            "\n",
            "Epoch 00020: val_acc did not improve from 0.99200\n",
            "Epoch 21/40\n",
            "\n",
            "Epoch 00021: LearningRateScheduler setting learning rate to 0.0015943232.\n",
            "468/468 [==============================] - 7s 15ms/step - loss: 0.0609 - acc: 0.9895 - val_loss: 0.0616 - val_acc: 0.9897\n",
            "\n",
            "Epoch 00021: val_acc did not improve from 0.99200\n",
            "Epoch 22/40\n",
            "\n",
            "Epoch 00022: LearningRateScheduler setting learning rate to 0.0014348909.\n",
            "468/468 [==============================] - 7s 15ms/step - loss: 0.0608 - acc: 0.9892 - val_loss: 0.0569 - val_acc: 0.9909\n",
            "\n",
            "Epoch 00022: val_acc did not improve from 0.99200\n",
            "Epoch 23/40\n",
            "\n",
            "Epoch 00023: LearningRateScheduler setting learning rate to 0.0014348909.\n",
            "468/468 [==============================] - 7s 15ms/step - loss: 0.0589 - acc: 0.9901 - val_loss: 0.0531 - val_acc: 0.9915\n",
            "\n",
            "Epoch 00023: val_acc did not improve from 0.99200\n",
            "Epoch 24/40\n",
            "\n",
            "Epoch 00024: LearningRateScheduler setting learning rate to 0.0014348909.\n",
            "468/468 [==============================] - 7s 15ms/step - loss: 0.0586 - acc: 0.9898 - val_loss: 0.0562 - val_acc: 0.9908\n",
            "\n",
            "Epoch 00024: val_acc did not improve from 0.99200\n",
            "Epoch 25/40\n",
            "\n",
            "Epoch 00025: LearningRateScheduler setting learning rate to 0.0012914018.\n",
            "468/468 [==============================] - 7s 15ms/step - loss: 0.0553 - acc: 0.9908 - val_loss: 0.0545 - val_acc: 0.9908\n",
            "\n",
            "Epoch 00025: val_acc did not improve from 0.99200\n",
            "Epoch 26/40\n",
            "\n",
            "Epoch 00026: LearningRateScheduler setting learning rate to 0.0012914018.\n",
            "468/468 [==============================] - 7s 15ms/step - loss: 0.0538 - acc: 0.9908 - val_loss: 0.0585 - val_acc: 0.9888\n",
            "\n",
            "Epoch 00026: val_acc did not improve from 0.99200\n",
            "Epoch 27/40\n",
            "\n",
            "Epoch 00027: LearningRateScheduler setting learning rate to 0.0012914018.\n",
            "468/468 [==============================] - 7s 15ms/step - loss: 0.0541 - acc: 0.9904 - val_loss: 0.0467 - val_acc: 0.9929\n",
            "\n",
            "Epoch 00027: val_acc improved from 0.99200 to 0.99291, saving model to model_custom_v3_mnist_best.h5\n",
            "Epoch 28/40\n",
            "\n",
            "Epoch 00028: LearningRateScheduler setting learning rate to 0.0011622616.\n",
            "468/468 [==============================] - 7s 15ms/step - loss: 0.0523 - acc: 0.9910 - val_loss: 0.0530 - val_acc: 0.9899\n",
            "\n",
            "Epoch 00028: val_acc did not improve from 0.99291\n",
            "Epoch 29/40\n",
            "\n",
            "Epoch 00029: LearningRateScheduler setting learning rate to 0.0011622616.\n",
            "468/468 [==============================] - 7s 15ms/step - loss: 0.0518 - acc: 0.9915 - val_loss: 0.0500 - val_acc: 0.9916\n",
            "\n",
            "Epoch 00029: val_acc did not improve from 0.99291\n",
            "Epoch 30/40\n",
            "\n",
            "Epoch 00030: LearningRateScheduler setting learning rate to 0.0011622616.\n",
            "468/468 [==============================] - 7s 15ms/step - loss: 0.0513 - acc: 0.9910 - val_loss: 0.0461 - val_acc: 0.9939\n",
            "\n",
            "Epoch 00030: val_acc improved from 0.99291 to 0.99392, saving model to model_custom_v3_mnist_best.h5\n",
            "Epoch 31/40\n",
            "\n",
            "Epoch 00031: LearningRateScheduler setting learning rate to 0.0010460354.\n",
            "468/468 [==============================] - 8s 16ms/step - loss: 0.0480 - acc: 0.9920 - val_loss: 0.0465 - val_acc: 0.9920\n",
            "\n",
            "Epoch 00031: val_acc did not improve from 0.99392\n",
            "Epoch 32/40\n",
            "\n",
            "Epoch 00032: LearningRateScheduler setting learning rate to 0.0010460354.\n",
            "468/468 [==============================] - 7s 15ms/step - loss: 0.0498 - acc: 0.9913 - val_loss: 0.0485 - val_acc: 0.9908\n",
            "\n",
            "Epoch 00032: val_acc did not improve from 0.99392\n",
            "Epoch 33/40\n",
            "\n",
            "Epoch 00033: LearningRateScheduler setting learning rate to 0.0010460354.\n",
            "468/468 [==============================] - 7s 15ms/step - loss: 0.0471 - acc: 0.9923 - val_loss: 0.0513 - val_acc: 0.9903\n",
            "\n",
            "Epoch 00033: val_acc did not improve from 0.99392\n",
            "Epoch 34/40\n",
            "\n",
            "Epoch 00034: LearningRateScheduler setting learning rate to 0.0009414319.\n",
            "468/468 [==============================] - 7s 15ms/step - loss: 0.0470 - acc: 0.9918 - val_loss: 0.0466 - val_acc: 0.9921\n",
            "\n",
            "Epoch 00034: val_acc did not improve from 0.99392\n",
            "Epoch 35/40\n",
            "\n",
            "Epoch 00035: LearningRateScheduler setting learning rate to 0.0009414319.\n",
            "468/468 [==============================] - 7s 15ms/step - loss: 0.0448 - acc: 0.9926 - val_loss: 0.0474 - val_acc: 0.9923\n",
            "\n",
            "Epoch 00035: val_acc did not improve from 0.99392\n",
            "Epoch 36/40\n",
            "\n",
            "Epoch 00036: LearningRateScheduler setting learning rate to 0.0009414319.\n",
            "468/468 [==============================] - 7s 15ms/step - loss: 0.0454 - acc: 0.9920 - val_loss: 0.0435 - val_acc: 0.9932\n",
            "\n",
            "Epoch 00036: val_acc did not improve from 0.99392\n",
            "Epoch 37/40\n",
            "\n",
            "Epoch 00037: LearningRateScheduler setting learning rate to 0.0008472887.\n",
            "468/468 [==============================] - 7s 15ms/step - loss: 0.0448 - acc: 0.9921 - val_loss: 0.0422 - val_acc: 0.9921\n",
            "\n",
            "Epoch 00037: val_acc did not improve from 0.99392\n",
            "Epoch 38/40\n",
            "\n",
            "Epoch 00038: LearningRateScheduler setting learning rate to 0.0008472887.\n",
            "468/468 [==============================] - 7s 15ms/step - loss: 0.0427 - acc: 0.9929 - val_loss: 0.0459 - val_acc: 0.9926\n",
            "\n",
            "Epoch 00038: val_acc did not improve from 0.99392\n",
            "Epoch 39/40\n",
            "\n",
            "Epoch 00039: LearningRateScheduler setting learning rate to 0.0008472887.\n",
            "468/468 [==============================] - 7s 15ms/step - loss: 0.0422 - acc: 0.9931 - val_loss: 0.0424 - val_acc: 0.9934\n",
            "\n",
            "Epoch 00039: val_acc did not improve from 0.99392\n",
            "Epoch 40/40\n",
            "\n",
            "Epoch 00040: LearningRateScheduler setting learning rate to 0.0007625598.\n",
            "468/468 [==============================] - 7s 15ms/step - loss: 0.0409 - acc: 0.9932 - val_loss: 0.0419 - val_acc: 0.9921\n",
            "\n",
            "Epoch 00040: val_acc did not improve from 0.99392\n"
          ],
          "name": "stdout"
        },
        {
          "output_type": "execute_result",
          "data": {
            "text/plain": [
              "<keras.callbacks.History at 0x7f82b385e240>"
            ]
          },
          "metadata": {
            "tags": []
          },
          "execution_count": 31
        }
      ]
    },
    {
      "cell_type": "markdown",
      "metadata": {
        "id": "q7MDx4-KdSH9",
        "colab_type": "text"
      },
      "source": [
        "### There isn't a very significant difference in the validation accuracy after 40 epochs when we changed BatchNormalization to be before ReLU activation . Max validation accuracy after 40 epochs is 99.392 whereas before this change it was 99.382 after 40 epochs "
      ]
    },
    {
      "cell_type": "markdown",
      "metadata": {
        "id": "B7fa3y3MszKQ",
        "colab_type": "text"
      },
      "source": [
        "#Print the first 25 mis-classified images   \n",
        "\n",
        "### Let us load the Model with best validation accuracy and print the evaluation score "
      ]
    },
    {
      "cell_type": "code",
      "metadata": {
        "id": "ZvdXCXK2l9KQ",
        "colab_type": "code",
        "colab": {}
      },
      "source": [
        "model=load_model(\"model_custom_v3_mnist_best.h5\")"
      ],
      "execution_count": 0,
      "outputs": []
    },
    {
      "cell_type": "code",
      "metadata": {
        "id": "3-4UdjONz1F3",
        "colab_type": "code",
        "colab": {}
      },
      "source": [
        "batch_size=128\n",
        "\n",
        "\n",
        "val_datagen= ImageDataGenerator(\n",
        "        featurewise_center=True,  # set input mean to 0 over the dataset\n",
        "        \n",
        "        featurewise_std_normalization=True,  # divide inputs by std of the dataset\n",
        "        \n",
        ")\n",
        "\n",
        "\n",
        "val_datagen.fit(X_test)\n",
        "\n",
        "validation_generator=val_datagen.flow(X_test,Y_test, batch_size=batch_size,shuffle=False,seed=42)\n"
      ],
      "execution_count": 0,
      "outputs": []
    },
    {
      "cell_type": "code",
      "metadata": {
        "id": "AtsH-lLk-eLb",
        "colab_type": "code",
        "colab": {}
      },
      "source": [
        "import math\n",
        "score = model.evaluate_generator(validation_generator,steps=math.ceil(len(X_test)/batch_size) )"
      ],
      "execution_count": 0,
      "outputs": []
    },
    {
      "cell_type": "code",
      "metadata": {
        "id": "mkX8JMv79q9r",
        "colab_type": "code",
        "outputId": "f2c9fcac-c6c9-4eb8-eaf3-7897b2950da6",
        "colab": {
          "base_uri": "https://localhost:8080/",
          "height": 34
        }
      },
      "source": [
        "print(score)"
      ],
      "execution_count": 47,
      "outputs": [
        {
          "output_type": "stream",
          "text": [
            "[0.0454264534085989, 0.9937]\n"
          ],
          "name": "stdout"
        }
      ]
    },
    {
      "cell_type": "markdown",
      "metadata": {
        "id": "Acfgy31CtWYc",
        "colab_type": "text"
      },
      "source": [
        "### Predict the classes using model.predict and print predicted probabilities and categorical array for True test classes "
      ]
    },
    {
      "cell_type": "code",
      "metadata": {
        "id": "OCWoJkwE9suh",
        "colab_type": "code",
        "colab": {}
      },
      "source": [
        "batch_size=128\n",
        "\n",
        "\n",
        "val_datagen= ImageDataGenerator(\n",
        "        featurewise_center=True,  # set input mean to 0 over the dataset\n",
        "        \n",
        "        featurewise_std_normalization=True,  # divide inputs by std of the dataset\n",
        "        \n",
        ")\n",
        "\n",
        "\n",
        "val_datagen.fit(X_test)\n",
        "\n",
        "validation_generator=val_datagen.flow(X_test,Y_test, batch_size=batch_size,shuffle=False,seed=42)\n",
        "\n",
        "y_pred = model.predict_generator(validation_generator,steps=math.ceil(len(X_test)/batch_size))"
      ],
      "execution_count": 0,
      "outputs": []
    },
    {
      "cell_type": "code",
      "metadata": {
        "id": "602F1oFPhFWX",
        "colab_type": "code",
        "colab": {
          "base_uri": "https://localhost:8080/",
          "height": 34
        },
        "outputId": "7f4590e9-0a7f-4259-f581-f07389460c06"
      },
      "source": [
        "y_pred.shape"
      ],
      "execution_count": 49,
      "outputs": [
        {
          "output_type": "execute_result",
          "data": {
            "text/plain": [
              "(10000, 10)"
            ]
          },
          "metadata": {
            "tags": []
          },
          "execution_count": 49
        }
      ]
    },
    {
      "cell_type": "code",
      "metadata": {
        "id": "zR7DAIy9hMtT",
        "colab_type": "code",
        "colab": {}
      },
      "source": [
        "y_pred1=np.rint(y_pred)"
      ],
      "execution_count": 0,
      "outputs": []
    },
    {
      "cell_type": "code",
      "metadata": {
        "id": "dmFm4DFnij8j",
        "colab_type": "code",
        "colab": {}
      },
      "source": [
        "y_pred2=np.argmax(y_pred,axis=1)"
      ],
      "execution_count": 0,
      "outputs": []
    },
    {
      "cell_type": "code",
      "metadata": {
        "id": "Yrc2dbJrhPjJ",
        "colab_type": "code",
        "colab": {
          "base_uri": "https://localhost:8080/",
          "height": 34
        },
        "outputId": "1ba9358a-7e45-4938-e841-55a11bc8b156"
      },
      "source": [
        "y_pred2.shape"
      ],
      "execution_count": 52,
      "outputs": [
        {
          "output_type": "execute_result",
          "data": {
            "text/plain": [
              "(10000,)"
            ]
          },
          "metadata": {
            "tags": []
          },
          "execution_count": 52
        }
      ]
    },
    {
      "cell_type": "code",
      "metadata": {
        "id": "Ym7iCFBm9uBs",
        "colab_type": "code",
        "outputId": "5f289abf-7c4e-47e4-afec-8dfbc9ea9759",
        "colab": {
          "base_uri": "https://localhost:8080/",
          "height": 204
        }
      },
      "source": [
        "print(y_pred1[:9])\n",
        "print(y_pred2[:9])\n",
        "print(y_test[:9])"
      ],
      "execution_count": 53,
      "outputs": [
        {
          "output_type": "stream",
          "text": [
            "[[0. 0. 0. 0. 0. 0. 0. 1. 0. 0.]\n",
            " [0. 0. 1. 0. 0. 0. 0. 0. 0. 0.]\n",
            " [0. 1. 0. 0. 0. 0. 0. 0. 0. 0.]\n",
            " [1. 0. 0. 0. 0. 0. 0. 0. 0. 0.]\n",
            " [0. 0. 0. 0. 1. 0. 0. 0. 0. 0.]\n",
            " [0. 1. 0. 0. 0. 0. 0. 0. 0. 0.]\n",
            " [0. 0. 0. 0. 1. 0. 0. 0. 0. 0.]\n",
            " [0. 0. 0. 0. 0. 0. 0. 0. 0. 1.]\n",
            " [0. 0. 0. 0. 0. 1. 0. 0. 0. 0.]]\n",
            "[7 2 1 0 4 1 4 9 5]\n",
            "[7 2 1 0 4 1 4 9 5]\n"
          ],
          "name": "stdout"
        }
      ]
    },
    {
      "cell_type": "code",
      "metadata": {
        "id": "mYXyoQ8-byrL",
        "colab_type": "code",
        "colab": {
          "base_uri": "https://localhost:8080/",
          "height": 34
        },
        "outputId": "6e621b08-dfa2-4e50-f70e-532af5402c00"
      },
      "source": [
        "print(len(y_pred1),len(Y_test))"
      ],
      "execution_count": 54,
      "outputs": [
        {
          "output_type": "stream",
          "text": [
            "10000 10000\n"
          ],
          "name": "stdout"
        }
      ]
    },
    {
      "cell_type": "markdown",
      "metadata": {
        "id": "ZBigYMPKeGHt",
        "colab_type": "text"
      },
      "source": [
        "### capture the images and labels that were misclassified "
      ]
    },
    {
      "cell_type": "code",
      "metadata": {
        "id": "HE2IR0tnjJm3",
        "colab_type": "code",
        "colab": {
          "base_uri": "https://localhost:8080/",
          "height": 34
        },
        "outputId": "8f7a41b8-ceac-46ca-c402-8aeef85aa3d6"
      },
      "source": [
        "wrong_set=[]\n",
        "correct_set=[]\n",
        "wrong_labels=[]\n",
        "true_labels=[]\n",
        "for i in range(10000):\n",
        "  \n",
        "  if (y_pred2[i]==y_test[i]):\n",
        "    \n",
        "    correct_set.append(X_test[i])\n",
        "  else:\n",
        "    wrong_labels.append(y_pred2[i])\n",
        "    true_labels.append(y_test[i])\n",
        "    wrong_set.append(X_test[i])\n",
        "  \n",
        "print(len(wrong_set),len(correct_set)) "
      ],
      "execution_count": 63,
      "outputs": [
        {
          "output_type": "stream",
          "text": [
            "63 9937\n"
          ],
          "name": "stdout"
        }
      ]
    },
    {
      "cell_type": "markdown",
      "metadata": {
        "id": "9tqCaUi_epEX",
        "colab_type": "text"
      },
      "source": [
        "###Render an image grid containing the first 25 mis-classified images "
      ]
    },
    {
      "cell_type": "code",
      "metadata": {
        "id": "oHwFAA6kkOLq",
        "colab_type": "code",
        "colab": {
          "base_uri": "https://localhost:8080/",
          "height": 658
        },
        "outputId": "3a3f6ea2-c7f5-4cc1-91d7-9dd8cad00066"
      },
      "source": [
        "print('            First 25 misclassified images \\n           _________________________________\\n')\n",
        "from mpl_toolkits.axes_grid1 import ImageGrid\n",
        "\n",
        "fig = plt.figure(1, (10., 10.))\n",
        "\n",
        "grid = ImageGrid(fig, 111,  \n",
        "                 nrows_ncols=(5, 5),  \n",
        "                 axes_pad=0.3,  \n",
        "                 )\n",
        "for i in range(25):\n",
        "    grid[i].imshow(wrong_set[i].reshape(28,28),cmap='binary')\n",
        "    grid[i].set_title('{0} classified as {1}'.format(true_labels[i],wrong_labels[i]),color='red')\n",
        "    \n",
        "plt.show()    "
      ],
      "execution_count": 68,
      "outputs": [
        {
          "output_type": "stream",
          "text": [
            "            First 25 misclassified images \n",
            "           _________________________________\n",
            "\n"
          ],
          "name": "stdout"
        },
        {
          "output_type": "display_data",
          "data": {
            "image/png": "[encoded data removed]",
            "text/plain": [
              "<Figure size 720x720 with 50 Axes>"
            ]
          },
          "metadata": {
            "tags": []
          }
        }
      ]
    },
    {
      "cell_type": "markdown",
      "metadata": {
        "id": "2q6fJ67qvlsY",
        "colab_type": "text"
      },
      "source": [
        "### We have now applied Image Normalization and L2 kernel regularization for the network . We also tested and found that applying BatchNormalization before or after ReLU activation didn't make a huge difference for this MNIST dataset . We also separated the images that were being wrongly classified and printed the first 25 images from the list \n",
        "\n"
      ]
    }
  ]
}