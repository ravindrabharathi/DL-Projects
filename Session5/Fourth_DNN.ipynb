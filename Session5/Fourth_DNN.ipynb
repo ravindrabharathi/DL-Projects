{
  "nbformat": 4,
  "nbformat_minor": 0,
  "metadata": {
    "colab": {
      "name": "Normalization_and_Regularization.ipynb",
      "version": "0.3.2",
      "provenance": [],
      "collapsed_sections": [],
      "include_colab_link": true
    },
    "kernelspec": {
      "name": "python3",
      "display_name": "Python 3"
    },
    "accelerator": "GPU"
  },
  "cells": [
    {
      "cell_type": "markdown",
      "metadata": {
        "id": "view-in-github",
        "colab_type": "text"
      },
      "source": [
        "<a href=\"https://colab.research.google.com/github/ravindrabharathi/Project1/blob/master/Session5/Fourth_DNN.ipynb\" target=\"_parent\"><img src=\"https://colab.research.google.com/assets/colab-badge.svg\" alt=\"Open In Colab\"/></a>"
      ]
    },
    {
      "cell_type": "markdown",
      "metadata": {
        "id": "eBzDI9HEsAmu",
        "colab_type": "text"
      },
      "source": [
        "# Build a Convolutional Neural Network with less than 15000 parameters to achieve a validation accuracy of 99.4 or more for MNIST dataset \n",
        "\n",
        "\n",
        "The target is to build a deep learning CNN model with as little parameters as possible and at the same time achieve a high validation accuracy of 99.4 or more . The low parameter count becomes important when deploying the model in memory constrained devices used in edge computing . MNIST is one of the more popular (and simpler) datasets to begin your journey in Vision based Deep learning. We will use this MNIST dataset for this exercise. \n",
        "\n",
        "We will build the model step by step . Broadly speaking we will follow these steps \n",
        "\n",
        "1. Decide on the basic architecture for the network \n",
        "2. Fine tune parameters to comply with the 15000 limit\n",
        "3. Add improvements to the network using Batch Normalization \n",
        "4. See if we can converge faster while learning by using Dropouts to overcome overfitting ,higher   learning rates, etc \n",
        "\n",
        "We are now at step 4 .\n",
        "\n",
        "In the [first iteration](https://github.com/ravindrabharathi/Project1/blob/master/Session4/First_DNN.ipynb)  we fixed the basic architecture without bothering too much about the number of parameters . \n",
        "\n",
        "In the [second iteration](https://colab.research.google.com/github/ravindrabharathi/Project1/blob/master/Session4/Second_DNN.ipynb) we brought down the number of parameters to within the required limit to around 11k .\n",
        "\n",
        "In the [third iteration](https://github.com/ravindrabharathi/Project1/blob/master/Session4/Third_DNN.ipynb) we added BatchNormalization and brought the validation accuracy to 99.41 \n",
        "\n",
        "In this iteration we will tune the performance of the model by adding regularization via Dropouts.\n",
        "\n",
        "Basically Dropout helps in regularizing a network against overrfitting by randomly dropping a proportion of the signals while training. The absence of some of the units force the rest of the active units to learn better . The concept of Dropout was first present in this paper titled [Dropout: A Simple Way to Prevent Neural Networks from Overfitting](http://jmlr.org/papers/v15/srivastava14a.html). \n",
        "\n",
        "![dropouts](https://raw.githubusercontent.com/ravindrabharathi/eip3/master/images/dropouts.png)\n",
        "\n",
        "We will drop about 10% of the signals after each convolution layer (ecluding the transition blocks and the last layer) .\n",
        "\n",
        "Since Dropouts are being used , we could also try higher learning rates . We will start with a higher learning rate than the default of 0.001 for Adam and then use a learning rate scheduler to reduce the learning rate progressively \n",
        "\n",
        "We will also try an increase in Batch size (128 from 32 ) since it would be better for the model to see a larger sampling of images per training step "
      ]
    },
    {
      "cell_type": "markdown",
      "metadata": {
        "id": "O0uvqzIGp5zc",
        "colab_type": "text"
      },
      "source": [
        "###Import necessary libraries / modules\n",
        "Import numpy library for array/ matrix operations\n",
        "\n",
        "Import Sequential Model from keras/models for building the model\n",
        "\n",
        "Import Conv2D , Activation , Flatten , BatchNormalization, MaxPooling2D from keras/layers \n",
        "\n",
        "Import np_utils module from keras/utils for numpy related helper functions\n",
        "\n",
        "Import mnist dataset containing hand-written digits images from keras.datasets"
      ]
    },
    {
      "cell_type": "code",
      "metadata": {
        "id": "Eso6UHE080D4",
        "colab_type": "code",
        "outputId": "02a54876-29b0-4a5c-9734-e102bd42911b",
        "colab": {
          "base_uri": "https://localhost:8080/",
          "height": 34
        }
      },
      "source": [
        "import numpy as np\n",
        "\n",
        "from keras.models import Sequential,load_model\n",
        "from keras.layers import Dropout, Activation, Flatten\n",
        "from keras.layers import Conv2D, MaxPooling2D, BatchNormalization, Dropout\n",
        "from keras.utils import np_utils\n",
        "\n",
        "from keras.datasets import mnist"
      ],
      "execution_count": 0,
      "outputs": [
        {
          "output_type": "stream",
          "text": [
            "Using TensorFlow backend.\n"
          ],
          "name": "stderr"
        }
      ]
    },
    {
      "cell_type": "markdown",
      "metadata": {
        "id": "zByEi95J86RD",
        "colab_type": "text"
      },
      "source": [
        "### Load pre-shuffled MNIST data into train and test sets"
      ]
    },
    {
      "cell_type": "code",
      "metadata": {
        "id": "7eRM0QWN83PV",
        "colab_type": "code",
        "colab": {}
      },
      "source": [
        "(X_train, y_train), (X_test, y_test) = mnist.load_data()"
      ],
      "execution_count": 0,
      "outputs": []
    },
    {
      "cell_type": "markdown",
      "metadata": {
        "id": "db3hDvFDqpS9",
        "colab_type": "text"
      },
      "source": [
        "###print the shape of training data and also inspect the first image using matplotlib"
      ]
    },
    {
      "cell_type": "code",
      "metadata": {
        "id": "4a4Be72j8-ZC",
        "colab_type": "code",
        "outputId": "40373117-7572-4544-82ca-ce789191d31a",
        "colab": {
          "base_uri": "https://localhost:8080/",
          "height": 303
        }
      },
      "source": [
        "print (X_train.shape)\n",
        "from matplotlib import pyplot as plt\n",
        "%matplotlib inline\n",
        "plt.imshow(X_train[0])"
      ],
      "execution_count": 0,
      "outputs": [
        {
          "output_type": "stream",
          "text": [
            "(60000, 28, 28)\n"
          ],
          "name": "stdout"
        },
        {
          "output_type": "execute_result",
          "data": {
            "text/plain": [
              "<matplotlib.image.AxesImage at 0x7ff0bd58c0f0>"
            ]
          },
          "metadata": {
            "tags": []
          },
          "execution_count": 3
        },
        {
          "output_type": "display_data",
          "data": {
            "image/png": "[encoded data removed]",
            "text/plain": [
              "<Figure size 432x288 with 1 Axes>"
            ]
          },
          "metadata": {
            "tags": []
          }
        }
      ]
    },
    {
      "cell_type": "markdown",
      "metadata": {
        "id": "y7BHSzLjq6nT",
        "colab_type": "text"
      },
      "source": [
        "####Reshape the training and test dataset to include the channel information.In this case it is a greyscale image and so there is 1 channel . the image data was read in as a 28x28 numpy array and is now reshaped to 28x28x1"
      ]
    },
    {
      "cell_type": "code",
      "metadata": {
        "id": "dkmprriw9AnZ",
        "colab_type": "code",
        "colab": {}
      },
      "source": [
        "X_train = X_train.reshape(X_train.shape[0], 28, 28,1)\n",
        "X_test = X_test.reshape(X_test.shape[0], 28, 28,1)"
      ],
      "execution_count": 0,
      "outputs": []
    },
    {
      "cell_type": "markdown",
      "metadata": {
        "id": "L3aPHupgrF5a",
        "colab_type": "text"
      },
      "source": [
        "###Cast training data as float32 and normalize/re-scale the values such that they are between 0 and 1 instead of 0 and 255"
      ]
    },
    {
      "cell_type": "code",
      "metadata": {
        "id": "X2m4YS4E9CRh",
        "colab_type": "code",
        "colab": {}
      },
      "source": [
        "X_train = X_train.astype('float32')\n",
        "X_test = X_test.astype('float32')\n",
        "X_train /= 255\n",
        "X_test /= 255"
      ],
      "execution_count": 0,
      "outputs": []
    },
    {
      "cell_type": "markdown",
      "metadata": {
        "id": "jmUE1nCXrMua",
        "colab_type": "text"
      },
      "source": [
        "###inspect the first 10 training class labels . They will be some number between 0 and 9 representing the hand-written digit in the corresponding Training data. Each of 0 to 9 represents a class"
      ]
    },
    {
      "cell_type": "code",
      "metadata": {
        "id": "0Mn0vAYD9DvB",
        "colab_type": "code",
        "outputId": "b97c8cfc-9150-4223-98c6-50d4a31cf031",
        "colab": {
          "base_uri": "https://localhost:8080/",
          "height": 34
        }
      },
      "source": [
        "y_train[:10]"
      ],
      "execution_count": 0,
      "outputs": [
        {
          "output_type": "execute_result",
          "data": {
            "text/plain": [
              "array([5, 0, 4, 1, 9, 2, 1, 3, 1, 4], dtype=uint8)"
            ]
          },
          "metadata": {
            "tags": []
          },
          "execution_count": 6
        }
      ]
    },
    {
      "cell_type": "markdown",
      "metadata": {
        "id": "-dld_th_rU9s",
        "colab_type": "text"
      },
      "source": [
        "####One hot encoding of training and test class labels : Convert 1-dimensional class arrays to 10-dimensional class matrices"
      ]
    },
    {
      "cell_type": "code",
      "metadata": {
        "id": "ZG8JiXR39FHC",
        "colab_type": "code",
        "colab": {}
      },
      "source": [
        "# Convert 1-dimensional class arrays to 10-dimensional class matrices\n",
        "Y_train = np_utils.to_categorical(y_train, 10)\n",
        "Y_test = np_utils.to_categorical(y_test, 10)"
      ],
      "execution_count": 0,
      "outputs": []
    },
    {
      "cell_type": "code",
      "metadata": {
        "id": "fYlFRvKS9HMB",
        "colab_type": "code",
        "outputId": "6540d423-95a2-46b8-a7a8-76c3e4e063f9",
        "colab": {
          "base_uri": "https://localhost:8080/",
          "height": 187
        }
      },
      "source": [
        "Y_train[:10]\n"
      ],
      "execution_count": 0,
      "outputs": [
        {
          "output_type": "execute_result",
          "data": {
            "text/plain": [
              "array([[0., 0., 0., 0., 0., 1., 0., 0., 0., 0.],\n",
              "       [1., 0., 0., 0., 0., 0., 0., 0., 0., 0.],\n",
              "       [0., 0., 0., 0., 1., 0., 0., 0., 0., 0.],\n",
              "       [0., 1., 0., 0., 0., 0., 0., 0., 0., 0.],\n",
              "       [0., 0., 0., 0., 0., 0., 0., 0., 0., 1.],\n",
              "       [0., 0., 1., 0., 0., 0., 0., 0., 0., 0.],\n",
              "       [0., 1., 0., 0., 0., 0., 0., 0., 0., 0.],\n",
              "       [0., 0., 0., 1., 0., 0., 0., 0., 0., 0.],\n",
              "       [0., 1., 0., 0., 0., 0., 0., 0., 0., 0.],\n",
              "       [0., 0., 0., 0., 1., 0., 0., 0., 0., 0.]], dtype=float32)"
            ]
          },
          "metadata": {
            "tags": []
          },
          "execution_count": 8
        }
      ]
    },
    {
      "cell_type": "markdown",
      "metadata": {
        "id": "ZNM1NgZdtQm8",
        "colab_type": "text"
      },
      "source": [
        "###Define a ModelCheckPoint callback which will be called at the end of every training epoch . We will use this callback function to save the model whenever vallidation accuracy improves . We do this so that we can load and use the best model for further predictions after training "
      ]
    },
    {
      "cell_type": "code",
      "metadata": {
        "id": "7Yr6tsrzcSce",
        "colab_type": "code",
        "colab": {}
      },
      "source": [
        "from keras.callbacks import ModelCheckpoint\n",
        "  \n",
        "#chkpoint_model=ModelCheckpoint(\"/gdrive/My Drive/EVA/Session3/model_customv1_mnist_best.h5\", monitor='val_acc', verbose=1, save_best_only=True, save_weights_only=False, mode='max') \n",
        "\n",
        "chkpoint_model=ModelCheckpoint(\"model_custom_v1_mnist_best.h5\", monitor='val_acc', verbose=1, save_best_only=True, save_weights_only=False, mode='max') \n",
        "\n"
      ],
      "execution_count": 0,
      "outputs": []
    },
    {
      "cell_type": "markdown",
      "metadata": {
        "id": "YmyGmS8oy2qE",
        "colab_type": "text"
      },
      "source": [
        "#Building the model version 4\n",
        "\n",
        "In version 4 of the model we will try and improve the performance of the model by adding Dropout at the end of each convolution block . We will use a dropout of 10%.\n",
        "\n",
        "We will also use an increased initial learning rate that is progressively reduced using a scheduler \n",
        "\n",
        "We will increase training batch size to 128\n",
        "\n"
      ]
    },
    {
      "cell_type": "code",
      "metadata": {
        "id": "Rdn9MvWmVOtA",
        "colab_type": "code",
        "outputId": "b552f106-de35-4637-817a-05975afc42a2",
        "colab": {
          "base_uri": "https://localhost:8080/",
          "height": 139
        }
      },
      "source": [
        "# to get a certain degeree of predictability when generating random numbers,\n",
        "# set a random seed to initialize the pseudo-random number generator \n",
        "np.random.seed(seed=42)  \n",
        "\n",
        "# instantiate a sequential model\n",
        "model = Sequential()\n",
        "\n",
        "# add the first convolution layer - 10 numbers of 3x3 filters , \n",
        "#This layer sees the input image of 28x28 x 1 channel . \n",
        "\n",
        "model.add(Conv2D(10, (3, 3), input_shape=(28,28,1), use_bias=False))  # remove bias param by setting it to false \n",
        "model.add(BatchNormalization())  #add Batch normalization  \n",
        "model.add(Activation('relu'))    # use ReLU activation function .\n",
        "model.add(Dropout(0.1))  #add dropout\n",
        "\n",
        "# Now the global receptive field is 3 x 3 \n",
        "\n",
        "# First Convolution Block\n",
        "# Block1 conv layer 1 - 12 filters of shape  3x3x10 \n",
        "# input from previous layer is 26 x 26 x 10 . \n",
        "\n",
        "## Block 1\n",
        "\n",
        "model.add(Conv2D(12, 3, use_bias=False))  # remove bias param by setting it to false \n",
        "model.add(BatchNormalization())  #add Batch normalization \n",
        "model.add(Activation('relu'))    # use ReLU activation function .\n",
        "model.add(Dropout(0.1))   #add dropout\n",
        "\n",
        "#Global receptive field is 5x5\n",
        "\n",
        "# Add convolution layer - 16 filters of shape  3x3x12 \n",
        "#input from previous layer is 24 x 24 x 12 . \n",
        "\n",
        "model.add(Conv2D(16, 3, use_bias=False))  # remove bias param by setting it to false \n",
        "model.add(BatchNormalization())  #add Batch normalization\n",
        "model.add(Activation('relu'))    # use ReLU activation function .\n",
        "model.add(Dropout(0.1))    #add dropout\n",
        "\n",
        "#Global receptive field is 7x7\n",
        "\n",
        "##  Transition block \n",
        "\n",
        "# Perform 2x2 max pooling  . \n",
        "#Input from previous layer is 22 x 22 X 16 \n",
        "\n",
        "model.add(MaxPooling2D(2,2))\n",
        "\n",
        "\n",
        "# After max pooling , 2D spatial dimension reduces by half , i.e it becomes 11 x 11 . \n",
        "# Maxpooling (withpool size 2 and stride 1) doubles receptive field . \n",
        "# So global receptive field after max pooling is 14 x 14\n",
        "\n",
        "# add 1x1 convolution to reduce the channel numbers to 10 \n",
        "\n",
        "model.add(Conv2D(10, 1, use_bias=False))  # remove bias param by setting it to false \n",
        "model.add(BatchNormalization())  #add Batch normalization \n",
        "model.add(Activation('relu'))    # use ReLU activation function .\n",
        "\n",
        "\n",
        "#Convolution Block 2\n",
        "\n",
        "# Add convolution layer - 12 filters of shape 3x3x10\n",
        "#input from transition layer is 11 x 11 x 10 .  \n",
        "\n",
        "model.add(Conv2D(12, 3,  use_bias=False))  # remove bias param by setting it to false \n",
        "model.add(BatchNormalization())  #add Batch normalization\n",
        "model.add(Activation('relu'))    # use ReLU activation function .\n",
        "model.add(Dropout(0.1))   #add dropout\n",
        "\n",
        "#Global receptive field is now 16 x 16 \n",
        "\n",
        "# Add convolution layer - 16 filters of shape 3x3x12 \n",
        "#input coming from previous layer is 9 x 9 x 12 . \n",
        "\n",
        "model.add(Conv2D(16, 3,  use_bias=False)) # remove bias param by setting it to false \n",
        "model.add(BatchNormalization())  #add Batch normalization \n",
        "model.add(Activation('relu'))    # use ReLU activation function .\n",
        "model.add(Dropout(0.1))\n",
        "\n",
        "#  Global receptive field is now 18 x 18 \n",
        "\n",
        "\n",
        "# Add 1x1 convolution to reduce number of channels to 10  \n",
        "#input coming from previous layer is 7 x 7 x 16 .\n",
        "\n",
        "model.add(Conv2D(10, 1,  use_bias=False))  # remove bias param by setting it to false \n",
        "model.add(BatchNormalization())  #add Batch normalization \n",
        "model.add(Activation('relu'))    # use ReLU activation function .\n",
        "\n",
        "\n",
        "#Global receptive field is now 18 x 18 \n",
        "\n",
        "# Last layer :  Add convolution layer - 10 filters of shape 7x7x10 \n",
        "#input coming from previous layer is 7 x 7 x 10 .\n",
        "\n",
        "model.add(Conv2D(10, 7,  use_bias=False))  # remove bias param by setting it to false \n",
        "model.add(BatchNormalization())  #add Batch normalization\n",
        "# Note absence of ReLU activation here \n",
        "\n",
        "\n",
        "model.add(Flatten())  # Flatten the 2d array to 1d input for the softmax activation \n",
        "model.add(Activation('softmax'))   # Softmax activation to out class probabilities "
      ],
      "execution_count": 0,
      "outputs": [
        {
          "output_type": "stream",
          "text": [
            "WARNING:tensorflow:From /usr/local/lib/python3.6/dist-packages/tensorflow/python/framework/op_def_library.py:263: colocate_with (from tensorflow.python.framework.ops) is deprecated and will be removed in a future version.\n",
            "Instructions for updating:\n",
            "Colocations handled automatically by placer.\n",
            "WARNING:tensorflow:From /usr/local/lib/python3.6/dist-packages/keras/backend/tensorflow_backend.py:3445: calling dropout (from tensorflow.python.ops.nn_ops) with keep_prob is deprecated and will be removed in a future version.\n",
            "Instructions for updating:\n",
            "Please use `rate` instead of `keep_prob`. Rate should be set to `rate = 1 - keep_prob`.\n"
          ],
          "name": "stdout"
        }
      ]
    },
    {
      "cell_type": "code",
      "metadata": {
        "id": "BTdVH726xhN3",
        "colab_type": "code",
        "outputId": "b9c74023-bd45-4d34-d53f-f97d263e58dc",
        "colab": {
          "base_uri": "https://localhost:8080/",
          "height": 1190
        }
      },
      "source": [
        "model.summary()"
      ],
      "execution_count": 0,
      "outputs": [
        {
          "output_type": "stream",
          "text": [
            "_________________________________________________________________\n",
            "Layer (type)                 Output Shape              Param #   \n",
            "=================================================================\n",
            "conv2d_1 (Conv2D)            (None, 26, 26, 10)        90        \n",
            "_________________________________________________________________\n",
            "batch_normalization_1 (Batch (None, 26, 26, 10)        40        \n",
            "_________________________________________________________________\n",
            "activation_1 (Activation)    (None, 26, 26, 10)        0         \n",
            "_________________________________________________________________\n",
            "dropout_1 (Dropout)          (None, 26, 26, 10)        0         \n",
            "_________________________________________________________________\n",
            "conv2d_2 (Conv2D)            (None, 24, 24, 12)        1080      \n",
            "_________________________________________________________________\n",
            "batch_normalization_2 (Batch (None, 24, 24, 12)        48        \n",
            "_________________________________________________________________\n",
            "activation_2 (Activation)    (None, 24, 24, 12)        0         \n",
            "_________________________________________________________________\n",
            "dropout_2 (Dropout)          (None, 24, 24, 12)        0         \n",
            "_________________________________________________________________\n",
            "conv2d_3 (Conv2D)            (None, 22, 22, 16)        1728      \n",
            "_________________________________________________________________\n",
            "batch_normalization_3 (Batch (None, 22, 22, 16)        64        \n",
            "_________________________________________________________________\n",
            "activation_3 (Activation)    (None, 22, 22, 16)        0         \n",
            "_________________________________________________________________\n",
            "dropout_3 (Dropout)          (None, 22, 22, 16)        0         \n",
            "_________________________________________________________________\n",
            "max_pooling2d_1 (MaxPooling2 (None, 11, 11, 16)        0         \n",
            "_________________________________________________________________\n",
            "conv2d_4 (Conv2D)            (None, 11, 11, 10)        160       \n",
            "_________________________________________________________________\n",
            "batch_normalization_4 (Batch (None, 11, 11, 10)        40        \n",
            "_________________________________________________________________\n",
            "activation_4 (Activation)    (None, 11, 11, 10)        0         \n",
            "_________________________________________________________________\n",
            "conv2d_5 (Conv2D)            (None, 9, 9, 12)          1080      \n",
            "_________________________________________________________________\n",
            "batch_normalization_5 (Batch (None, 9, 9, 12)          48        \n",
            "_________________________________________________________________\n",
            "activation_5 (Activation)    (None, 9, 9, 12)          0         \n",
            "_________________________________________________________________\n",
            "dropout_4 (Dropout)          (None, 9, 9, 12)          0         \n",
            "_________________________________________________________________\n",
            "conv2d_6 (Conv2D)            (None, 7, 7, 16)          1728      \n",
            "_________________________________________________________________\n",
            "batch_normalization_6 (Batch (None, 7, 7, 16)          64        \n",
            "_________________________________________________________________\n",
            "activation_6 (Activation)    (None, 7, 7, 16)          0         \n",
            "_________________________________________________________________\n",
            "dropout_5 (Dropout)          (None, 7, 7, 16)          0         \n",
            "_________________________________________________________________\n",
            "conv2d_7 (Conv2D)            (None, 7, 7, 10)          160       \n",
            "_________________________________________________________________\n",
            "batch_normalization_7 (Batch (None, 7, 7, 10)          40        \n",
            "_________________________________________________________________\n",
            "activation_7 (Activation)    (None, 7, 7, 10)          0         \n",
            "_________________________________________________________________\n",
            "conv2d_8 (Conv2D)            (None, 1, 1, 10)          4900      \n",
            "_________________________________________________________________\n",
            "batch_normalization_8 (Batch (None, 1, 1, 10)          40        \n",
            "_________________________________________________________________\n",
            "flatten_1 (Flatten)          (None, 10)                0         \n",
            "_________________________________________________________________\n",
            "activation_8 (Activation)    (None, 10)                0         \n",
            "=================================================================\n",
            "Total params: 11,310\n",
            "Trainable params: 11,118\n",
            "Non-trainable params: 192\n",
            "_________________________________________________________________\n"
          ],
          "name": "stdout"
        }
      ]
    },
    {
      "cell_type": "code",
      "metadata": {
        "id": "tsmonadDDC5o",
        "colab_type": "code",
        "colab": {}
      },
      "source": [
        "# define a learning rate scheduler . We will use a simple scheduler that reduces the lr by 10% every 3 epochs subject to a minimum lr of 0.0005 \n",
        "from keras.optimizers import Adam\n",
        "from keras.callbacks import LearningRateScheduler\n",
        "def scheduler(epoch, lr):\n",
        "  if (epoch%3==0 and epoch):\n",
        "    new_lr = max(0.9*lr,0.0005) \n",
        "  else:\n",
        "    new_lr=lr\n",
        "  \n",
        "  return round(new_lr, 10)\n",
        "  \n",
        " \n",
        "\n"
      ],
      "execution_count": 0,
      "outputs": []
    },
    {
      "cell_type": "code",
      "metadata": {
        "id": "Q7A0AhG_xrjw",
        "colab_type": "code",
        "colab": {}
      },
      "source": [
        "#start with a higher lr of 0.003 \n",
        "model.compile(loss='categorical_crossentropy', optimizer=Adam(lr=0.003), metrics=['accuracy'])"
      ],
      "execution_count": 0,
      "outputs": []
    },
    {
      "cell_type": "code",
      "metadata": {
        "id": "iqappyT1x7sf",
        "colab_type": "code",
        "outputId": "30af3a13-4d55-4e4e-b018-694b309fd81a",
        "colab": {
          "base_uri": "https://localhost:8080/",
          "height": 6242
        }
      },
      "source": [
        "#increase batch size to 128 and traun for 60 epochs \n",
        "model.fit(X_train, Y_train, validation_data=(X_test,Y_test),batch_size=128, epochs=60, verbose=1, callbacks=[chkpoint_model,LearningRateScheduler(scheduler, verbose=1)])"
      ],
      "execution_count": 0,
      "outputs": [
        {
          "output_type": "stream",
          "text": [
            "WARNING:tensorflow:From /usr/local/lib/python3.6/dist-packages/tensorflow/python/ops/math_ops.py:3066: to_int32 (from tensorflow.python.ops.math_ops) is deprecated and will be removed in a future version.\n",
            "Instructions for updating:\n",
            "Use tf.cast instead.\n",
            "Train on 60000 samples, validate on 10000 samples\n",
            "Epoch 1/60\n",
            "\n",
            "Epoch 00001: LearningRateScheduler setting learning rate to 0.003.\n",
            "60000/60000 [==============================] - 9s 147us/step - loss: 0.3796 - acc: 0.9341 - val_loss: 0.1291 - val_acc: 0.9807\n",
            "\n",
            "Epoch 00001: val_acc improved from -inf to 0.98070, saving model to model_custom_v1_mnist_best.h5\n",
            "Epoch 2/60\n",
            "\n",
            "Epoch 00002: LearningRateScheduler setting learning rate to 0.003.\n",
            "60000/60000 [==============================] - 7s 112us/step - loss: 0.1190 - acc: 0.9780 - val_loss: 0.0830 - val_acc: 0.9858\n",
            "\n",
            "Epoch 00002: val_acc improved from 0.98070 to 0.98580, saving model to model_custom_v1_mnist_best.h5\n",
            "Epoch 3/60\n",
            "\n",
            "Epoch 00003: LearningRateScheduler setting learning rate to 0.003.\n",
            "60000/60000 [==============================] - 6s 103us/step - loss: 0.0781 - acc: 0.9832 - val_loss: 0.0394 - val_acc: 0.9902\n",
            "\n",
            "Epoch 00003: val_acc improved from 0.98580 to 0.99020, saving model to model_custom_v1_mnist_best.h5\n",
            "Epoch 4/60\n",
            "\n",
            "Epoch 00004: LearningRateScheduler setting learning rate to 0.0027.\n",
            "60000/60000 [==============================] - 6s 102us/step - loss: 0.0628 - acc: 0.9855 - val_loss: 0.0353 - val_acc: 0.9918\n",
            "\n",
            "Epoch 00004: val_acc improved from 0.99020 to 0.99180, saving model to model_custom_v1_mnist_best.h5\n",
            "Epoch 5/60\n",
            "\n",
            "Epoch 00005: LearningRateScheduler setting learning rate to 0.0027000001.\n",
            "60000/60000 [==============================] - 6s 101us/step - loss: 0.0527 - acc: 0.9870 - val_loss: 0.0363 - val_acc: 0.9895\n",
            "\n",
            "Epoch 00005: val_acc did not improve from 0.99180\n",
            "Epoch 6/60\n",
            "\n",
            "Epoch 00006: LearningRateScheduler setting learning rate to 0.0027000001.\n",
            "60000/60000 [==============================] - 6s 102us/step - loss: 0.0479 - acc: 0.9878 - val_loss: 0.0344 - val_acc: 0.9905\n",
            "\n",
            "Epoch 00006: val_acc did not improve from 0.99180\n",
            "Epoch 7/60\n",
            "\n",
            "Epoch 00007: LearningRateScheduler setting learning rate to 0.0024300001.\n",
            "60000/60000 [==============================] - 6s 102us/step - loss: 0.0435 - acc: 0.9879 - val_loss: 0.0273 - val_acc: 0.9918\n",
            "\n",
            "Epoch 00007: val_acc did not improve from 0.99180\n",
            "Epoch 8/60\n",
            "\n",
            "Epoch 00008: LearningRateScheduler setting learning rate to 0.0024300001.\n",
            "60000/60000 [==============================] - 7s 112us/step - loss: 0.0412 - acc: 0.9885 - val_loss: 0.0254 - val_acc: 0.9931\n",
            "\n",
            "Epoch 00008: val_acc improved from 0.99180 to 0.99310, saving model to model_custom_v1_mnist_best.h5\n",
            "Epoch 9/60\n",
            "\n",
            "Epoch 00009: LearningRateScheduler setting learning rate to 0.0024300001.\n",
            "60000/60000 [==============================] - 7s 112us/step - loss: 0.0378 - acc: 0.9892 - val_loss: 0.0406 - val_acc: 0.9886\n",
            "\n",
            "Epoch 00009: val_acc did not improve from 0.99310\n",
            "Epoch 10/60\n",
            "\n",
            "Epoch 00010: LearningRateScheduler setting learning rate to 0.0021870001.\n",
            "60000/60000 [==============================] - 6s 102us/step - loss: 0.0352 - acc: 0.9903 - val_loss: 0.0235 - val_acc: 0.9929\n",
            "\n",
            "Epoch 00010: val_acc did not improve from 0.99310\n",
            "Epoch 11/60\n",
            "\n",
            "Epoch 00011: LearningRateScheduler setting learning rate to 0.0021870001.\n",
            "60000/60000 [==============================] - 6s 102us/step - loss: 0.0335 - acc: 0.9905 - val_loss: 0.0300 - val_acc: 0.9922\n",
            "\n",
            "Epoch 00011: val_acc did not improve from 0.99310\n",
            "Epoch 12/60\n",
            "\n",
            "Epoch 00012: LearningRateScheduler setting learning rate to 0.0021870001.\n",
            "60000/60000 [==============================] - 6s 102us/step - loss: 0.0337 - acc: 0.9901 - val_loss: 0.0262 - val_acc: 0.9921\n",
            "\n",
            "Epoch 00012: val_acc did not improve from 0.99310\n",
            "Epoch 13/60\n",
            "\n",
            "Epoch 00013: LearningRateScheduler setting learning rate to 0.0019683001.\n",
            "60000/60000 [==============================] - 6s 101us/step - loss: 0.0299 - acc: 0.9914 - val_loss: 0.0236 - val_acc: 0.9932\n",
            "\n",
            "Epoch 00013: val_acc improved from 0.99310 to 0.99320, saving model to model_custom_v1_mnist_best.h5\n",
            "Epoch 14/60\n",
            "\n",
            "Epoch 00014: LearningRateScheduler setting learning rate to 0.0019683002.\n",
            "60000/60000 [==============================] - 7s 109us/step - loss: 0.0284 - acc: 0.9916 - val_loss: 0.0216 - val_acc: 0.9941\n",
            "\n",
            "Epoch 00014: val_acc improved from 0.99320 to 0.99410, saving model to model_custom_v1_mnist_best.h5\n",
            "Epoch 15/60\n",
            "\n",
            "Epoch 00015: LearningRateScheduler setting learning rate to 0.0019683002.\n",
            "60000/60000 [==============================] - 7s 112us/step - loss: 0.0279 - acc: 0.9916 - val_loss: 0.0216 - val_acc: 0.9934\n",
            "\n",
            "Epoch 00015: val_acc did not improve from 0.99410\n",
            "Epoch 16/60\n",
            "\n",
            "Epoch 00016: LearningRateScheduler setting learning rate to 0.0017714702.\n",
            "60000/60000 [==============================] - 6s 102us/step - loss: 0.0272 - acc: 0.9920 - val_loss: 0.0219 - val_acc: 0.9936\n",
            "\n",
            "Epoch 00016: val_acc did not improve from 0.99410\n",
            "Epoch 17/60\n",
            "\n",
            "Epoch 00017: LearningRateScheduler setting learning rate to 0.0017714702.\n",
            "60000/60000 [==============================] - 6s 102us/step - loss: 0.0248 - acc: 0.9927 - val_loss: 0.0269 - val_acc: 0.9921\n",
            "\n",
            "Epoch 00017: val_acc did not improve from 0.99410\n",
            "Epoch 18/60\n",
            "\n",
            "Epoch 00018: LearningRateScheduler setting learning rate to 0.0017714702.\n",
            "60000/60000 [==============================] - 6s 102us/step - loss: 0.0248 - acc: 0.9924 - val_loss: 0.0244 - val_acc: 0.9927\n",
            "\n",
            "Epoch 00018: val_acc did not improve from 0.99410\n",
            "Epoch 19/60\n",
            "\n",
            "Epoch 00019: LearningRateScheduler setting learning rate to 0.0015943232.\n",
            "60000/60000 [==============================] - 6s 102us/step - loss: 0.0249 - acc: 0.9927 - val_loss: 0.0201 - val_acc: 0.9939\n",
            "\n",
            "Epoch 00019: val_acc did not improve from 0.99410\n",
            "Epoch 20/60\n",
            "\n",
            "Epoch 00020: LearningRateScheduler setting learning rate to 0.0015943232.\n",
            "60000/60000 [==============================] - 6s 102us/step - loss: 0.0226 - acc: 0.9929 - val_loss: 0.0226 - val_acc: 0.9932\n",
            "\n",
            "Epoch 00020: val_acc did not improve from 0.99410\n",
            "Epoch 21/60\n",
            "\n",
            "Epoch 00021: LearningRateScheduler setting learning rate to 0.0015943232.\n",
            "60000/60000 [==============================] - 6s 102us/step - loss: 0.0235 - acc: 0.9931 - val_loss: 0.0196 - val_acc: 0.9934\n",
            "\n",
            "Epoch 00021: val_acc did not improve from 0.99410\n",
            "Epoch 22/60\n",
            "\n",
            "Epoch 00022: LearningRateScheduler setting learning rate to 0.0014348909.\n",
            "60000/60000 [==============================] - 6s 102us/step - loss: 0.0229 - acc: 0.9930 - val_loss: 0.0214 - val_acc: 0.9928\n",
            "\n",
            "Epoch 00022: val_acc did not improve from 0.99410\n",
            "Epoch 23/60\n",
            "\n",
            "Epoch 00023: LearningRateScheduler setting learning rate to 0.0014348909.\n",
            "60000/60000 [==============================] - 6s 102us/step - loss: 0.0220 - acc: 0.9935 - val_loss: 0.0195 - val_acc: 0.9942\n",
            "\n",
            "Epoch 00023: val_acc improved from 0.99410 to 0.99420, saving model to model_custom_v1_mnist_best.h5\n",
            "Epoch 24/60\n",
            "\n",
            "Epoch 00024: LearningRateScheduler setting learning rate to 0.0014348909.\n",
            "60000/60000 [==============================] - 6s 102us/step - loss: 0.0212 - acc: 0.9938 - val_loss: 0.0195 - val_acc: 0.9949\n",
            "\n",
            "Epoch 00024: val_acc improved from 0.99420 to 0.99490, saving model to model_custom_v1_mnist_best.h5\n",
            "Epoch 25/60\n",
            "\n",
            "Epoch 00025: LearningRateScheduler setting learning rate to 0.0012914018.\n",
            "60000/60000 [==============================] - 6s 102us/step - loss: 0.0193 - acc: 0.9943 - val_loss: 0.0195 - val_acc: 0.9936\n",
            "\n",
            "Epoch 00025: val_acc did not improve from 0.99490\n",
            "Epoch 26/60\n",
            "\n",
            "Epoch 00026: LearningRateScheduler setting learning rate to 0.0012914018.\n",
            "60000/60000 [==============================] - 6s 102us/step - loss: 0.0198 - acc: 0.9944 - val_loss: 0.0194 - val_acc: 0.9946\n",
            "\n",
            "Epoch 00026: val_acc did not improve from 0.99490\n",
            "Epoch 27/60\n",
            "\n",
            "Epoch 00027: LearningRateScheduler setting learning rate to 0.0012914018.\n",
            "60000/60000 [==============================] - 6s 108us/step - loss: 0.0190 - acc: 0.9945 - val_loss: 0.0215 - val_acc: 0.9932\n",
            "\n",
            "Epoch 00027: val_acc did not improve from 0.99490\n",
            "Epoch 28/60\n",
            "\n",
            "Epoch 00028: LearningRateScheduler setting learning rate to 0.0011622616.\n",
            "60000/60000 [==============================] - 7s 112us/step - loss: 0.0186 - acc: 0.9945 - val_loss: 0.0184 - val_acc: 0.9947\n",
            "\n",
            "Epoch 00028: val_acc did not improve from 0.99490\n",
            "Epoch 29/60\n",
            "\n",
            "Epoch 00029: LearningRateScheduler setting learning rate to 0.0011622616.\n",
            "60000/60000 [==============================] - 6s 102us/step - loss: 0.0177 - acc: 0.9947 - val_loss: 0.0212 - val_acc: 0.9932\n",
            "\n",
            "Epoch 00029: val_acc did not improve from 0.99490\n",
            "Epoch 30/60\n",
            "\n",
            "Epoch 00030: LearningRateScheduler setting learning rate to 0.0011622616.\n",
            "60000/60000 [==============================] - 6s 103us/step - loss: 0.0186 - acc: 0.9945 - val_loss: 0.0198 - val_acc: 0.9942\n",
            "\n",
            "Epoch 00030: val_acc did not improve from 0.99490\n",
            "Epoch 31/60\n",
            "\n",
            "Epoch 00031: LearningRateScheduler setting learning rate to 0.0010460354.\n",
            "60000/60000 [==============================] - 6s 101us/step - loss: 0.0177 - acc: 0.9947 - val_loss: 0.0184 - val_acc: 0.9942\n",
            "\n",
            "Epoch 00031: val_acc did not improve from 0.99490\n",
            "Epoch 32/60\n",
            "\n",
            "Epoch 00032: LearningRateScheduler setting learning rate to 0.0010460354.\n",
            "60000/60000 [==============================] - 6s 102us/step - loss: 0.0176 - acc: 0.9947 - val_loss: 0.0185 - val_acc: 0.9946\n",
            "\n",
            "Epoch 00032: val_acc did not improve from 0.99490\n",
            "Epoch 33/60\n",
            "\n",
            "Epoch 00033: LearningRateScheduler setting learning rate to 0.0010460354.\n",
            "60000/60000 [==============================] - 6s 102us/step - loss: 0.0181 - acc: 0.9945 - val_loss: 0.0195 - val_acc: 0.9937\n",
            "\n",
            "Epoch 00033: val_acc did not improve from 0.99490\n",
            "Epoch 34/60\n",
            "\n",
            "Epoch 00034: LearningRateScheduler setting learning rate to 0.0009414319.\n",
            "60000/60000 [==============================] - 6s 102us/step - loss: 0.0158 - acc: 0.9952 - val_loss: 0.0186 - val_acc: 0.9941\n",
            "\n",
            "Epoch 00034: val_acc did not improve from 0.99490\n",
            "Epoch 35/60\n",
            "\n",
            "Epoch 00035: LearningRateScheduler setting learning rate to 0.0009414319.\n",
            "60000/60000 [==============================] - 6s 102us/step - loss: 0.0156 - acc: 0.9952 - val_loss: 0.0192 - val_acc: 0.9939\n",
            "\n",
            "Epoch 00035: val_acc did not improve from 0.99490\n",
            "Epoch 36/60\n",
            "\n",
            "Epoch 00036: LearningRateScheduler setting learning rate to 0.0009414319.\n",
            "60000/60000 [==============================] - 6s 102us/step - loss: 0.0160 - acc: 0.9951 - val_loss: 0.0200 - val_acc: 0.9939\n",
            "\n",
            "Epoch 00036: val_acc did not improve from 0.99490\n",
            "Epoch 37/60\n",
            "\n",
            "Epoch 00037: LearningRateScheduler setting learning rate to 0.0008472887.\n",
            "60000/60000 [==============================] - 6s 102us/step - loss: 0.0154 - acc: 0.9953 - val_loss: 0.0171 - val_acc: 0.9948\n",
            "\n",
            "Epoch 00037: val_acc did not improve from 0.99490\n",
            "Epoch 38/60\n",
            "\n",
            "Epoch 00038: LearningRateScheduler setting learning rate to 0.0008472887.\n",
            "60000/60000 [==============================] - 6s 103us/step - loss: 0.0154 - acc: 0.9955 - val_loss: 0.0177 - val_acc: 0.9944\n",
            "\n",
            "Epoch 00038: val_acc did not improve from 0.99490\n",
            "Epoch 39/60\n",
            "\n",
            "Epoch 00039: LearningRateScheduler setting learning rate to 0.0008472887.\n",
            "60000/60000 [==============================] - 6s 101us/step - loss: 0.0145 - acc: 0.9956 - val_loss: 0.0194 - val_acc: 0.9937\n",
            "\n",
            "Epoch 00039: val_acc did not improve from 0.99490\n",
            "Epoch 40/60\n",
            "\n",
            "Epoch 00040: LearningRateScheduler setting learning rate to 0.0007625598.\n",
            "60000/60000 [==============================] - 7s 109us/step - loss: 0.0156 - acc: 0.9949 - val_loss: 0.0200 - val_acc: 0.9939\n",
            "\n",
            "Epoch 00040: val_acc did not improve from 0.99490\n",
            "Epoch 41/60\n",
            "\n",
            "Epoch 00041: LearningRateScheduler setting learning rate to 0.0007625598.\n",
            "60000/60000 [==============================] - 7s 112us/step - loss: 0.0146 - acc: 0.9956 - val_loss: 0.0194 - val_acc: 0.9941\n",
            "\n",
            "Epoch 00041: val_acc did not improve from 0.99490\n",
            "Epoch 42/60\n",
            "\n",
            "Epoch 00042: LearningRateScheduler setting learning rate to 0.0007625598.\n",
            "60000/60000 [==============================] - 6s 102us/step - loss: 0.0145 - acc: 0.9956 - val_loss: 0.0193 - val_acc: 0.9947\n",
            "\n",
            "Epoch 00042: val_acc did not improve from 0.99490\n",
            "Epoch 43/60\n",
            "\n",
            "Epoch 00043: LearningRateScheduler setting learning rate to 0.0006863038.\n",
            "60000/60000 [==============================] - 6s 102us/step - loss: 0.0133 - acc: 0.9961 - val_loss: 0.0188 - val_acc: 0.9949\n",
            "\n",
            "Epoch 00043: val_acc did not improve from 0.99490\n",
            "Epoch 44/60\n",
            "\n",
            "Epoch 00044: LearningRateScheduler setting learning rate to 0.0006863038.\n",
            "60000/60000 [==============================] - 6s 102us/step - loss: 0.0141 - acc: 0.9957 - val_loss: 0.0192 - val_acc: 0.9947\n",
            "\n",
            "Epoch 00044: val_acc did not improve from 0.99490\n",
            "Epoch 45/60\n",
            "\n",
            "Epoch 00045: LearningRateScheduler setting learning rate to 0.0006863038.\n",
            "60000/60000 [==============================] - 6s 102us/step - loss: 0.0137 - acc: 0.9958 - val_loss: 0.0182 - val_acc: 0.9947\n",
            "\n",
            "Epoch 00045: val_acc did not improve from 0.99490\n",
            "Epoch 46/60\n",
            "\n",
            "Epoch 00046: LearningRateScheduler setting learning rate to 0.0006176734.\n",
            "60000/60000 [==============================] - 6s 102us/step - loss: 0.0135 - acc: 0.9959 - val_loss: 0.0184 - val_acc: 0.9942\n",
            "\n",
            "Epoch 00046: val_acc did not improve from 0.99490\n",
            "Epoch 47/60\n",
            "\n",
            "Epoch 00047: LearningRateScheduler setting learning rate to 0.0006176734.\n",
            "60000/60000 [==============================] - 6s 102us/step - loss: 0.0135 - acc: 0.9960 - val_loss: 0.0187 - val_acc: 0.9942\n",
            "\n",
            "Epoch 00047: val_acc did not improve from 0.99490\n",
            "Epoch 48/60\n",
            "\n",
            "Epoch 00048: LearningRateScheduler setting learning rate to 0.0006176734.\n",
            "60000/60000 [==============================] - 6s 102us/step - loss: 0.0129 - acc: 0.9962 - val_loss: 0.0192 - val_acc: 0.9947\n",
            "\n",
            "Epoch 00048: val_acc did not improve from 0.99490\n",
            "Epoch 49/60\n",
            "\n",
            "Epoch 00049: LearningRateScheduler setting learning rate to 0.000555906.\n",
            "60000/60000 [==============================] - 6s 102us/step - loss: 0.0126 - acc: 0.9960 - val_loss: 0.0187 - val_acc: 0.9946\n",
            "\n",
            "Epoch 00049: val_acc did not improve from 0.99490\n",
            "Epoch 50/60\n",
            "\n",
            "Epoch 00050: LearningRateScheduler setting learning rate to 0.000555906.\n",
            "60000/60000 [==============================] - 6s 102us/step - loss: 0.0133 - acc: 0.9960 - val_loss: 0.0190 - val_acc: 0.9945\n",
            "\n",
            "Epoch 00050: val_acc did not improve from 0.99490\n",
            "Epoch 51/60\n",
            "\n",
            "Epoch 00051: LearningRateScheduler setting learning rate to 0.000555906.\n",
            "60000/60000 [==============================] - 6s 102us/step - loss: 0.0127 - acc: 0.9961 - val_loss: 0.0178 - val_acc: 0.9943\n",
            "\n",
            "Epoch 00051: val_acc did not improve from 0.99490\n",
            "Epoch 52/60\n",
            "\n",
            "Epoch 00052: LearningRateScheduler setting learning rate to 0.0005003154.\n",
            "60000/60000 [==============================] - 6s 102us/step - loss: 0.0134 - acc: 0.9960 - val_loss: 0.0189 - val_acc: 0.9945\n",
            "\n",
            "Epoch 00052: val_acc did not improve from 0.99490\n",
            "Epoch 53/60\n",
            "\n",
            "Epoch 00053: LearningRateScheduler setting learning rate to 0.0005003154.\n",
            "60000/60000 [==============================] - 7s 109us/step - loss: 0.0121 - acc: 0.9966 - val_loss: 0.0184 - val_acc: 0.9947\n",
            "\n",
            "Epoch 00053: val_acc did not improve from 0.99490\n",
            "Epoch 54/60\n",
            "\n",
            "Epoch 00054: LearningRateScheduler setting learning rate to 0.0005003154.\n",
            "60000/60000 [==============================] - 7s 111us/step - loss: 0.0120 - acc: 0.9962 - val_loss: 0.0199 - val_acc: 0.9941\n",
            "\n",
            "Epoch 00054: val_acc did not improve from 0.99490\n",
            "Epoch 55/60\n",
            "\n",
            "Epoch 00055: LearningRateScheduler setting learning rate to 0.0005.\n",
            "60000/60000 [==============================] - 6s 101us/step - loss: 0.0121 - acc: 0.9963 - val_loss: 0.0174 - val_acc: 0.9952\n",
            "\n",
            "Epoch 00055: val_acc improved from 0.99490 to 0.99520, saving model to model_custom_v1_mnist_best.h5\n",
            "Epoch 56/60\n",
            "\n",
            "Epoch 00056: LearningRateScheduler setting learning rate to 0.0005.\n",
            "60000/60000 [==============================] - 6s 102us/step - loss: 0.0122 - acc: 0.9962 - val_loss: 0.0190 - val_acc: 0.9942\n",
            "\n",
            "Epoch 00056: val_acc did not improve from 0.99520\n",
            "Epoch 57/60\n",
            "\n",
            "Epoch 00057: LearningRateScheduler setting learning rate to 0.0005.\n",
            "60000/60000 [==============================] - 6s 102us/step - loss: 0.0120 - acc: 0.9963 - val_loss: 0.0181 - val_acc: 0.9945\n",
            "\n",
            "Epoch 00057: val_acc did not improve from 0.99520\n",
            "Epoch 58/60\n",
            "\n",
            "Epoch 00058: LearningRateScheduler setting learning rate to 0.0005.\n",
            "60000/60000 [==============================] - 7s 114us/step - loss: 0.0124 - acc: 0.9962 - val_loss: 0.0187 - val_acc: 0.9947\n",
            "\n",
            "Epoch 00058: val_acc did not improve from 0.99520\n",
            "Epoch 59/60\n",
            "\n",
            "Epoch 00059: LearningRateScheduler setting learning rate to 0.0005.\n",
            "60000/60000 [==============================] - 7s 110us/step - loss: 0.0111 - acc: 0.9966 - val_loss: 0.0186 - val_acc: 0.9943\n",
            "\n",
            "Epoch 00059: val_acc did not improve from 0.99520\n",
            "Epoch 60/60\n",
            "\n",
            "Epoch 00060: LearningRateScheduler setting learning rate to 0.0005.\n",
            "60000/60000 [==============================] - 6s 102us/step - loss: 0.0121 - acc: 0.9960 - val_loss: 0.0172 - val_acc: 0.9949\n",
            "\n",
            "Epoch 00060: val_acc did not improve from 0.99520\n"
          ],
          "name": "stdout"
        },
        {
          "output_type": "execute_result",
          "data": {
            "text/plain": [
              "<keras.callbacks.History at 0x7ff09c3746d8>"
            ]
          },
          "metadata": {
            "tags": []
          },
          "execution_count": 14
        }
      ]
    },
    {
      "cell_type": "markdown",
      "metadata": {
        "id": "oAo7lmRA0FIE",
        "colab_type": "text"
      },
      "source": [
        "###We trained the model for 60 epochs and it has a max validation accuracy of 99.52. \n",
        "\n",
        "###We also observe that the due to the dropouts the training accuracy was lower than the validation accuracy in the beginning before rising higher. This is because the the dropped units are only during training and will participate fully in the validation phase. \n",
        "\n",
        "###We also notice that the gap between training and validation accuracy is lesser due to the effect of dropouts \n",
        "\n",
        "### The required 99.4 validation accuracy was reached faster than the previous iteration - in epoch 14.\n"
      ]
    },
    {
      "cell_type": "markdown",
      "metadata": {
        "id": "B7fa3y3MszKQ",
        "colab_type": "text"
      },
      "source": [
        "### Let us load the Model with best validation accuracy and print the evaluation score "
      ]
    },
    {
      "cell_type": "code",
      "metadata": {
        "id": "ZvdXCXK2l9KQ",
        "colab_type": "code",
        "colab": {}
      },
      "source": [
        "model=load_model(\"model_custom_v1_mnist_best.h5\")"
      ],
      "execution_count": 0,
      "outputs": []
    },
    {
      "cell_type": "code",
      "metadata": {
        "id": "AtsH-lLk-eLb",
        "colab_type": "code",
        "colab": {}
      },
      "source": [
        "score = model.evaluate(X_test, Y_test, verbose=0)"
      ],
      "execution_count": 0,
      "outputs": []
    },
    {
      "cell_type": "code",
      "metadata": {
        "id": "mkX8JMv79q9r",
        "colab_type": "code",
        "outputId": "511f5615-8517-4661-d9ac-a5eea1a0d73b",
        "colab": {
          "base_uri": "https://localhost:8080/",
          "height": 34
        }
      },
      "source": [
        "print(score)"
      ],
      "execution_count": 0,
      "outputs": [
        {
          "output_type": "stream",
          "text": [
            "[0.01742733436343842, 0.9952]\n"
          ],
          "name": "stdout"
        }
      ]
    },
    {
      "cell_type": "markdown",
      "metadata": {
        "id": "Acfgy31CtWYc",
        "colab_type": "text"
      },
      "source": [
        "### Predict the classes using model.predict and print predicted probabilities and categorical array for True test classes "
      ]
    },
    {
      "cell_type": "code",
      "metadata": {
        "id": "OCWoJkwE9suh",
        "colab_type": "code",
        "colab": {}
      },
      "source": [
        "y_pred = model.predict(X_test)"
      ],
      "execution_count": 0,
      "outputs": []
    },
    {
      "cell_type": "code",
      "metadata": {
        "id": "Ym7iCFBm9uBs",
        "colab_type": "code",
        "outputId": "92d62370-d8bf-4f4b-aeac-597ca70b0532",
        "colab": {
          "base_uri": "https://localhost:8080/",
          "height": 629
        }
      },
      "source": [
        "print(y_pred[:9])\n",
        "print(Y_test[:9])"
      ],
      "execution_count": 0,
      "outputs": [
        {
          "output_type": "stream",
          "text": [
            "[[1.57381589e-06 1.39165422e-05 9.62392164e-07 2.11704969e-06\n",
            "  2.87080047e-06 9.83216296e-07 1.04582654e-07 9.99976993e-01\n",
            "  7.96954893e-08 3.55278502e-07]\n",
            " [2.93556468e-06 1.17223692e-06 9.99987125e-01 2.98503522e-07\n",
            "  4.99096586e-07 1.09032838e-09 7.16115392e-06 2.45385678e-07\n",
            "  5.51291180e-07 2.63949342e-08]\n",
            " [2.73492390e-07 9.99898791e-01 1.28019352e-07 1.34703976e-06\n",
            "  2.62308026e-06 8.33929371e-05 5.30659645e-06 3.39038070e-06\n",
            "  3.75394393e-06 1.05119875e-06]\n",
            " [9.99887228e-01 1.14009947e-06 6.83825817e-07 1.45662069e-08\n",
            "  5.48336686e-07 1.84093807e-07 7.84729782e-05 7.45014540e-06\n",
            "  9.23682251e-07 2.32167768e-05]\n",
            " [1.52993948e-07 1.25076594e-05 3.82066929e-07 4.78601862e-07\n",
            "  9.99984622e-01 6.68860256e-09 4.43562271e-07 2.04720720e-07\n",
            "  7.10572237e-07 5.65000903e-07]\n",
            " [4.52342675e-07 9.99972224e-01 1.11369343e-06 1.55494590e-07\n",
            "  7.03976593e-06 4.42121109e-06 1.22046720e-06 1.23034270e-05\n",
            "  4.50615715e-07 5.30906448e-07]\n",
            " [3.28050892e-10 1.26155066e-06 1.16197718e-07 4.88288610e-09\n",
            "  9.99990582e-01 5.24228341e-08 1.10688674e-07 9.58880708e-09\n",
            "  7.78294634e-06 1.26507402e-07]\n",
            " [4.43877752e-06 7.33248862e-06 9.35117932e-05 1.07101221e-06\n",
            "  3.98312432e-06 5.81478503e-07 2.87370483e-07 1.87681712e-06\n",
            "  1.96003130e-05 9.99867320e-01]\n",
            " [3.53122090e-07 4.54398423e-06 8.89874264e-06 2.90394695e-07\n",
            "  2.33187457e-05 9.92252052e-01 6.22177869e-03 2.98120758e-05\n",
            "  1.45610736e-03 2.79271057e-06]]\n",
            "[[0. 0. 0. 0. 0. 0. 0. 1. 0. 0.]\n",
            " [0. 0. 1. 0. 0. 0. 0. 0. 0. 0.]\n",
            " [0. 1. 0. 0. 0. 0. 0. 0. 0. 0.]\n",
            " [1. 0. 0. 0. 0. 0. 0. 0. 0. 0.]\n",
            " [0. 0. 0. 0. 1. 0. 0. 0. 0. 0.]\n",
            " [0. 1. 0. 0. 0. 0. 0. 0. 0. 0.]\n",
            " [0. 0. 0. 0. 1. 0. 0. 0. 0. 0.]\n",
            " [0. 0. 0. 0. 0. 0. 0. 0. 0. 1.]\n",
            " [0. 0. 0. 0. 0. 1. 0. 0. 0. 0.]]\n"
          ],
          "name": "stdout"
        }
      ]
    },
    {
      "cell_type": "markdown",
      "metadata": {
        "id": "WYPrkzLvt2do",
        "colab_type": "text"
      },
      "source": [
        "### Let us visualize some of the filters in the first convolution layer 'conv2d_1'"
      ]
    },
    {
      "cell_type": "code",
      "metadata": {
        "id": "CT--y98_dr2T",
        "colab_type": "code",
        "colab": {}
      },
      "source": [
        "# form a layer dictionary {name : layer} of all layers in the model \n",
        "\n",
        "layer_dict = dict([(layer.name, layer) for layer in model.layers])  "
      ],
      "execution_count": 0,
      "outputs": []
    },
    {
      "cell_type": "code",
      "metadata": {
        "id": "2GY4Upv4dsUR",
        "colab_type": "code",
        "outputId": "93fcf4d9-3d09-4466-9e03-1cc68b8daea4",
        "colab": {
          "base_uri": "https://localhost:8080/",
          "height": 771
        }
      },
      "source": [
        " # use matplotlib to visualize the filter arrays \n",
        "import numpy as np\n",
        "from matplotlib import pyplot as plt\n",
        "from keras import backend as K\n",
        "%matplotlib inline\n",
        "# util function to convert a tensor into a valid image\n",
        "def deprocess_image(x):\n",
        "    # normalize tensor: center on 0., ensure std is 0.1\n",
        "    x -= x.mean()\n",
        "    x /= (x.std() + 1e-5)\n",
        "    x *= 0.1\n",
        "\n",
        "    # clip to [0, 1]\n",
        "    x += 0.5\n",
        "    x = np.clip(x, 0, 1)\n",
        "\n",
        "    # convert to RGB array\n",
        "    x *= 255\n",
        "    #x = x.transpose((1, 2, 0))\n",
        "    x = np.clip(x, 0, 255).astype('uint8')\n",
        "    return x\n",
        "\n",
        "def vis_img_in_filter(img = np.array(X_train[2]).reshape((1, 28, 28, 1)).astype(np.float64), \n",
        "                      layer_name = 'conv2d_1'):\n",
        "    layer_output = layer_dict[layer_name].output\n",
        "    img_ascs = list()\n",
        "    for filter_index in range(layer_output.shape[3]):\n",
        "        # build a loss function that maximizes the activation\n",
        "        # of the nth filter of the layer considered\n",
        "        loss = K.mean(layer_output[:, :, :, filter_index])\n",
        "\n",
        "        # compute the gradient of the input picture wrt this loss\n",
        "        grads = K.gradients(loss, model.input)[0]\n",
        "\n",
        "        # normalization trick: we normalize the gradient\n",
        "        grads /= (K.sqrt(K.mean(K.square(grads))) + 1e-5)\n",
        "\n",
        "        # this function returns the loss and grads given the input picture\n",
        "        iterate = K.function([model.input], [loss, grads])\n",
        "\n",
        "        # step size for gradient ascent\n",
        "        step = 5.\n",
        "\n",
        "        img_asc = np.array(img)\n",
        "        # run gradient ascent for 20 steps\n",
        "        for i in range(20):\n",
        "            loss_value, grads_value = iterate([img_asc])\n",
        "            img_asc += grads_value * step\n",
        "\n",
        "        img_asc = img_asc[0]\n",
        "        img_ascs.append(deprocess_image(img_asc).reshape((28, 28)))\n",
        "        \n",
        "    if layer_output.shape[3] >= 35:\n",
        "        plot_x, plot_y = 6, 6\n",
        "    elif layer_output.shape[3] >= 23:\n",
        "        plot_x, plot_y = 4, 6\n",
        "    elif layer_output.shape[3] >= 11:\n",
        "        plot_x, plot_y = 2, 6\n",
        "    elif layer_output.shape[3] >= 8:\n",
        "        plot_x, plot_y = 2, 4   \n",
        "    else:\n",
        "        \n",
        "        plot_x, plot_y = 2, 2\n",
        "    fig, ax = plt.subplots(plot_x, plot_y, figsize = (12, 12))\n",
        "    \n",
        "    ax[0,0].imshow(img.reshape((28, 28)), cmap = 'gray')\n",
        "    ax[0,0].set_title('Input image')\n",
        "    fig.suptitle('Input image and %s filters' % (layer_name,))\n",
        "    fig.tight_layout(pad = 0.3, rect = [0, 0, 0.9, 0.9])\n",
        "    for (x, y) in [(i, j) for i in range(plot_x) for j in range(plot_y)]:\n",
        "        if x == 0 and y == 0:\n",
        "            continue\n",
        "        ax[x,y].imshow(img_ascs[x * plot_y + y - 1], cmap = 'gray')\n",
        "        ax[x,y].set_title('filter %d' % (x * plot_y + y - 1))\n",
        "\n",
        "vis_img_in_filter()"
      ],
      "execution_count": 0,
      "outputs": [
        {
          "output_type": "display_data",
          "data": {
            "image/png": "[encoded data removed]",
            "text/plain": [
              "<Figure size 864x864 with 8 Axes>"
            ]
          },
          "metadata": {
            "tags": []
          }
        }
      ]
    },
    {
      "cell_type": "markdown",
      "metadata": {
        "id": "2q6fJ67qvlsY",
        "colab_type": "text"
      },
      "source": [
        "### We have now completed the fourth step in building our model and we have reached a max validation accuracy of 99.52 in 60 epochs \n",
        "\n",
        "###We used Dropouts , a very simplified learning rate scheduler and a larger batch size in this iteration to improve the model and croosed the 99.4 validation accuracy in the 14th epoch. \n",
        "\n",
        "###We could improve this model further by using a cleaner and more efficient way of sending the input to the softmax layer by using Global Average Pooling . We did not use SGD optimizer as it might have converged slower than Adam optimizer.  A better learning rate scheduler which took into account whether accuracy was increasing before changing the learning rate would have helped more .\n",
        "\n"
      ]
    }
  ]
}
