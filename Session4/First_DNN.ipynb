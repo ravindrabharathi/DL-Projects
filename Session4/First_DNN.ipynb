{
  "nbformat": 4,
  "nbformat_minor": 0,
  "metadata": {
    "colab": {
      "name": "First.ipynb",
      "version": "0.3.2",
      "provenance": [],
      "collapsed_sections": [],
      "include_colab_link": true
    },
    "kernelspec": {
      "name": "python3",
      "display_name": "Python 3"
    },
    "accelerator": "GPU"
  },
  "cells": [
    {
      "cell_type": "markdown",
      "metadata": {
        "id": "view-in-github",
        "colab_type": "text"
      },
      "source": [
        "<a href=\"https://colab.research.google.com/github/ravindrabharathi/Project1/blob/master/Session4/First_DNN.ipynb\" target=\"_parent\"><img src=\"https://colab.research.google.com/assets/colab-badge.svg\" alt=\"Open In Colab\"/></a>"
      ]
    },
    {
      "cell_type": "markdown",
      "metadata": {
        "id": "eBzDI9HEsAmu",
        "colab_type": "text"
      },
      "source": [
        "# Build a Convolutional Neural Network with less than 15000 parameters to achieve a validation accuracy of 99.4 or more for MNIST dataset \n",
        "\n",
        "\n",
        "The target is to build a deep learning CNN model with as little parameters as possible and at the same time achieve a high validation accuracy of 99.4 or more . The low parameter count becomes important when deploying the model in memory constrained devices used in edge computing . MNIST is one of the more popular (and simpler) datasets to begin your journey in Vision based Deep learning. We will use this MNIST dataset for this exercise. \n",
        "\n",
        "We will build the model step by step . Broadly speaking we will follow these steps \n",
        "\n",
        "1. Decide on the basic architecture for the network \n",
        "2. Fine tune parameters to comply with the 15000 limit\n",
        "3. Add improvements to the network using Batch Normalization \n",
        "4. See if we can converge faster while learning by using Dropouts to overcome overfitting ,higher   learning rates, etc \n",
        "\n",
        "In this notebook we will fix the Basic architecture that we think is suitable without bothering about number of parameters "
      ]
    },
    {
      "cell_type": "markdown",
      "metadata": {
        "id": "O0uvqzIGp5zc",
        "colab_type": "text"
      },
      "source": [
        "###Import necessary libraries / modules\n",
        "Import numpy library for array/ matrix operations\n",
        "\n",
        "Import Sequential Model from keras/models for building the model\n",
        "\n",
        "Import Conv2D , Activation , Flatten , BatchNormalization, MaxPooling2D from keras/layers \n",
        "\n",
        "Import np_utils module from keras/utils for numpy related helper functions\n",
        "\n",
        "Import mnist dataset containing hand-written digits images from keras.datasets"
      ]
    },
    {
      "cell_type": "code",
      "metadata": {
        "id": "Eso6UHE080D4",
        "colab_type": "code",
        "outputId": "26320de2-bb87-47db-a678-ba10da6f5321",
        "colab": {
          "base_uri": "https://localhost:8080/",
          "height": 34
        }
      },
      "source": [
        "import numpy as np\n",
        "\n",
        "from keras.models import Sequential,load_model\n",
        "from keras.layers import Dropout, Activation, Flatten\n",
        "from keras.layers import Conv2D, MaxPooling2D, BatchNormalization\n",
        "from keras.utils import np_utils\n",
        "\n",
        "from keras.datasets import mnist"
      ],
      "execution_count": 0,
      "outputs": [
        {
          "output_type": "stream",
          "text": [
            "Using TensorFlow backend.\n"
          ],
          "name": "stderr"
        }
      ]
    },
    {
      "cell_type": "markdown",
      "metadata": {
        "id": "zByEi95J86RD",
        "colab_type": "text"
      },
      "source": [
        "### Load pre-shuffled MNIST data into train and test sets"
      ]
    },
    {
      "cell_type": "code",
      "metadata": {
        "id": "7eRM0QWN83PV",
        "colab_type": "code",
        "outputId": "c8126a85-7927-458c-ac3a-f1e8a75bf294",
        "colab": {
          "base_uri": "https://localhost:8080/",
          "height": 51
        }
      },
      "source": [
        "(X_train, y_train), (X_test, y_test) = mnist.load_data()"
      ],
      "execution_count": 0,
      "outputs": [
        {
          "output_type": "stream",
          "text": [
            "Downloading data from https://s3.amazonaws.com/img-datasets/mnist.npz\n",
            "11493376/11490434 [==============================] - 0s 0us/step\n"
          ],
          "name": "stdout"
        }
      ]
    },
    {
      "cell_type": "markdown",
      "metadata": {
        "id": "db3hDvFDqpS9",
        "colab_type": "text"
      },
      "source": [
        "###print the shape of training data and also inspect the first image using matplotlib"
      ]
    },
    {
      "cell_type": "code",
      "metadata": {
        "id": "4a4Be72j8-ZC",
        "colab_type": "code",
        "outputId": "d21fa49e-b4c0-4fcc-d6a5-c56456cf9760",
        "colab": {
          "base_uri": "https://localhost:8080/",
          "height": 303
        }
      },
      "source": [
        "print (X_train.shape)\n",
        "from matplotlib import pyplot as plt\n",
        "%matplotlib inline\n",
        "plt.imshow(X_train[0])"
      ],
      "execution_count": 0,
      "outputs": [
        {
          "output_type": "stream",
          "text": [
            "(60000, 28, 28)\n"
          ],
          "name": "stdout"
        },
        {
          "output_type": "execute_result",
          "data": {
            "text/plain": [
              "<matplotlib.image.AxesImage at 0x7fbe79592668>"
            ]
          },
          "metadata": {
            "tags": []
          },
          "execution_count": 3
        },
        {
          "output_type": "display_data",
          "data": {
            "image/png": "[encoded data removed]",
            "text/plain": [
              "<Figure size 432x288 with 1 Axes>"
            ]
          },
          "metadata": {
            "tags": []
          }
        }
      ]
    },
    {
      "cell_type": "markdown",
      "metadata": {
        "id": "y7BHSzLjq6nT",
        "colab_type": "text"
      },
      "source": [
        "####Reshape the training and test dataset to include the channel information.In this case it is a greyscale image and so there is 1 channel . the image data was read in as a 28x28 numpy array and is now reshaped to 28x28x1"
      ]
    },
    {
      "cell_type": "code",
      "metadata": {
        "id": "dkmprriw9AnZ",
        "colab_type": "code",
        "colab": {}
      },
      "source": [
        "X_train = X_train.reshape(X_train.shape[0], 28, 28,1)\n",
        "X_test = X_test.reshape(X_test.shape[0], 28, 28,1)"
      ],
      "execution_count": 0,
      "outputs": []
    },
    {
      "cell_type": "markdown",
      "metadata": {
        "id": "L3aPHupgrF5a",
        "colab_type": "text"
      },
      "source": [
        "###Cast training data as float32 and normalize/re-scale the values such that they are between 0 and 1 instead of 0 and 255"
      ]
    },
    {
      "cell_type": "code",
      "metadata": {
        "id": "X2m4YS4E9CRh",
        "colab_type": "code",
        "colab": {}
      },
      "source": [
        "X_train = X_train.astype('float32')\n",
        "X_test = X_test.astype('float32')\n",
        "X_train /= 255\n",
        "X_test /= 255"
      ],
      "execution_count": 0,
      "outputs": []
    },
    {
      "cell_type": "markdown",
      "metadata": {
        "id": "jmUE1nCXrMua",
        "colab_type": "text"
      },
      "source": [
        "###inspect the first 10 training class labels . They will be some number between 0 and 9 representing the hand-written digit in the corresponding Training data. Each of 0 to 9 represents a class"
      ]
    },
    {
      "cell_type": "code",
      "metadata": {
        "id": "0Mn0vAYD9DvB",
        "colab_type": "code",
        "outputId": "9468663b-7c47-4f35-9667-f522e3a1275c",
        "colab": {
          "base_uri": "https://localhost:8080/",
          "height": 34
        }
      },
      "source": [
        "y_train[:10]"
      ],
      "execution_count": 0,
      "outputs": [
        {
          "output_type": "execute_result",
          "data": {
            "text/plain": [
              "array([5, 0, 4, 1, 9, 2, 1, 3, 1, 4], dtype=uint8)"
            ]
          },
          "metadata": {
            "tags": []
          },
          "execution_count": 6
        }
      ]
    },
    {
      "cell_type": "markdown",
      "metadata": {
        "id": "-dld_th_rU9s",
        "colab_type": "text"
      },
      "source": [
        "####One hot encoding of training and test class labels : Convert 1-dimensional class arrays to 10-dimensional class matrices"
      ]
    },
    {
      "cell_type": "code",
      "metadata": {
        "id": "ZG8JiXR39FHC",
        "colab_type": "code",
        "colab": {}
      },
      "source": [
        "# Convert 1-dimensional class arrays to 10-dimensional class matrices\n",
        "Y_train = np_utils.to_categorical(y_train, 10)\n",
        "Y_test = np_utils.to_categorical(y_test, 10)"
      ],
      "execution_count": 0,
      "outputs": []
    },
    {
      "cell_type": "code",
      "metadata": {
        "id": "fYlFRvKS9HMB",
        "colab_type": "code",
        "outputId": "c9f20d8a-67a6-4e8c-f32d-13ea1410e0ed",
        "colab": {
          "base_uri": "https://localhost:8080/",
          "height": 187
        }
      },
      "source": [
        "Y_train[:10]\n"
      ],
      "execution_count": 0,
      "outputs": [
        {
          "output_type": "execute_result",
          "data": {
            "text/plain": [
              "array([[0., 0., 0., 0., 0., 1., 0., 0., 0., 0.],\n",
              "       [1., 0., 0., 0., 0., 0., 0., 0., 0., 0.],\n",
              "       [0., 0., 0., 0., 1., 0., 0., 0., 0., 0.],\n",
              "       [0., 1., 0., 0., 0., 0., 0., 0., 0., 0.],\n",
              "       [0., 0., 0., 0., 0., 0., 0., 0., 0., 1.],\n",
              "       [0., 0., 1., 0., 0., 0., 0., 0., 0., 0.],\n",
              "       [0., 1., 0., 0., 0., 0., 0., 0., 0., 0.],\n",
              "       [0., 0., 0., 1., 0., 0., 0., 0., 0., 0.],\n",
              "       [0., 1., 0., 0., 0., 0., 0., 0., 0., 0.],\n",
              "       [0., 0., 0., 0., 1., 0., 0., 0., 0., 0.]], dtype=float32)"
            ]
          },
          "metadata": {
            "tags": []
          },
          "execution_count": 8
        }
      ]
    },
    {
      "cell_type": "markdown",
      "metadata": {
        "id": "ZNM1NgZdtQm8",
        "colab_type": "text"
      },
      "source": [
        "###Define a ModelCheckPoint callback which will be called at the end of every training epoch . We will use this callback function to save the model whenever vallidation accuracy improves . We do this so that we can load and use the best model for further predictions after training "
      ]
    },
    {
      "cell_type": "code",
      "metadata": {
        "id": "7Yr6tsrzcSce",
        "colab_type": "code",
        "colab": {}
      },
      "source": [
        "from keras.callbacks import ModelCheckpoint\n",
        "  \n",
        "#chkpoint_model=ModelCheckpoint(\"/gdrive/My Drive/EVA/Session3/model_customv1_mnist_best.h5\", monitor='val_acc', verbose=1, save_best_only=True, save_weights_only=False, mode='max') \n",
        "\n",
        "chkpoint_model=ModelCheckpoint(\"model_custom_v1_mnist_best.h5\", monitor='val_acc', verbose=1, save_best_only=True, save_weights_only=False, mode='max') \n",
        "\n"
      ],
      "execution_count": 0,
      "outputs": []
    },
    {
      "cell_type": "markdown",
      "metadata": {
        "id": "YmyGmS8oy2qE",
        "colab_type": "text"
      },
      "source": [
        "#Building the model version 1\n",
        "\n",
        "In version 1 of the model we will try and get the basic architecture correct. We will focus on adding the proper convolution layers that gives a good enough accuracy to start with . We will not bother about the parameter constraints at this point.\n",
        "\n",
        "In our architecture for every convolution block we start from a small number and increase the number of filters for every additional layer in the block . Typically for a 400x400 image we would go upto a receptive field of 11x11 starting from 32 kernels increasing to 512 kernels such that the network learns enough about edges, gradients ,textures, patterns, parts of object , object and scene in each progressive block . In our case the images are small and relative much simpler and so we will use lesser number of blocks and also lesser layers within each block.\n",
        "\n",
        "Considering the size of the image (28x28) and the relative simple nature of the classes (digits 0-9) to be classified, we will add only two convolution blocks containing 3x3 filters until we get to a channel size of  7x7 .  At the point where the channel size is 7X7 , we will add a convolution block of 10 filters of size 7x7 which feeds into a flatten layer followed by softmax activation . Between these two convolution blocks we will have a transition block of 1x1 convolution and maxpooling .\n",
        "\n",
        "We will not add convolution layers after the channel size has reached 7x7 . This is because when a 3x3 filter convolves over an image of size 5x5 it sees the pixels a disproportionate number of times as seen below and convovling further doesn't retain enough spatial information   \n",
        "\n",
        "\n",
        "<img src=\"https://raw.githubusercontent.com/ravindrabharathi/eip3/master/images/pixels-55.png\" alt=\"drawing\" width=\"300\"/> &nbsp; &nbsp; &nbsp; &nbsp; &nbsp; &nbsp; <img src=\"https://raw.githubusercontent.com/ravindrabharathi/eip3/master/images/pixels-77.png\" alt=\"drawing\" width=\"300\"/>\n",
        "\n",
        "All these convolution layers will use ReLU activation function . Using an activation function introduces non-linearity in the network allowing them to learn complex functions .Without these non-linear activation functions the network will only be a stack of linear functions . ReLU activation is one of the simplest and most popular activations used in CNN . It essentially suppresses -ve values from moving forward giving the network a simple rule for retaining or discarding features that it is learning - work towards making values positive if you want something retained and make the values negative if you want to drop something. \n",
        "\n",
        "First convolution layer :\n",
        "\n",
        "The first convolution layer will have 32 3x3 kernels \n",
        "\n",
        "First Convolution Block :\n",
        "\n",
        "The first block allows the network to learn edges and gradients. This block will have 2 layers of convolution filters of size 3x3 . The number of kernels in the first layer is 64 (increses from 32 used in the first convolution layer ) and the second layer has 128 kernels . With a global receptive field of 7x7 , the network should be able to learn enough about edges and gradients . \n",
        "\n",
        "Transition Block : \n",
        "since we want to start the next convolution block at a smaller number of kernels , we will use a 1x1 convolution layer to reduce the number of channels after the first convolution block . 1x1 kernel convolution is an effective  way of combining a large number of channels to form a set of smaller number of channels. \n",
        "We will also spatially downsample the channels by using maxpooling of size 2x2. Maxpooling of size 2x2 will reduce the channel size by half while doubling the global receptive field \n",
        "\n",
        "Second convolution block : \n",
        "\n",
        "The second block will allow the network to form the important parts that make up the digits . This will contain two layers of 3x3 kernels . Firts layer will have 64 kernels and the second will have 128 kernels . \n",
        "\n",
        "1x1 convolution to transition to 10 channels :\n",
        "\n",
        "After the second convolution block we add a convolution layer of 10 1x1 kernels .  Since we have only 10 classes , we will combine the 16 channels from earlier layers to form 10 channels .\n",
        "\n",
        "Last Layer : 7x7 kernel \n",
        "\n",
        "Since we stopped our second convolution block at an activation size of 7x7 , we will add a convolution layer of 10 numbers of 7x7 kernels as the last layer in order to send a 1x1x10 output to the Flatten layer .\n",
        "It is important not to have ReLU activation for this 1x1 layer since we want all values from the convolution to go to the Softmax activation to make its prediction . If we use a ReLu activation , the -ve values will be suppressed and the network will be unable to train in an optimal manner.\n",
        "\n",
        "Flatten: \n",
        "\n",
        "These 10 channel outputs are fed to a Flatten layer that converts the 2d array representation to a 1d shape . \n",
        "\n",
        "Softmax activation: \n",
        "\n",
        "A softmax activation layer at the end outputs the class probabilities of these 10 classes which in our case are the digits 0 to 9 . \n",
        "\n"
      ]
    },
    {
      "cell_type": "code",
      "metadata": {
        "id": "Rdn9MvWmVOtA",
        "colab_type": "code",
        "outputId": "e049721b-5070-4880-a10d-bac5b5bd6692",
        "colab": {
          "base_uri": "https://localhost:8080/",
          "height": 88
        }
      },
      "source": [
        "# to get a certain degeree of predictability when generating random numbers,\n",
        "# set a random seed to initialize the pseudo-random number generator \n",
        "np.random.seed(seed=42)  \n",
        "\n",
        "# instantiate a sequential model\n",
        "model = Sequential()\n",
        "\n",
        "# add the first convolution layer - 32 numbers of 3x3 filters , \n",
        "#This layer sees the input image of 28x28 x 1 channel . \n",
        "\n",
        "model.add(Conv2D(32, (3, 3), input_shape=(28,28,1), use_bias=False))  # remove bias param by setting it to false \n",
        "  \n",
        "model.add(Activation('relu'))    # use ReLU activation function .\n",
        "\n",
        "# Now the global receptive field is 3 x 3 \n",
        "\n",
        "# First Convolution Block\n",
        "# Block1 conv layer 1 - 64 filters of shape  3x3x32 \n",
        "# input from previous layer is 26 x 26 x 32 . \n",
        "\n",
        "## Block 1\n",
        "\n",
        "model.add(Conv2D(64, 3, use_bias=False))  # remove bias param by setting it to false \n",
        " \n",
        "model.add(Activation('relu'))    # use ReLU activation function .\n",
        "\n",
        "#Global receptive field is 5x5\n",
        "\n",
        "# Add convolution layer - 128 filters of shape  3x3x64 \n",
        "#input from previous layer is 24 x 24 x 64 . \n",
        "\n",
        "model.add(Conv2D(128, 3, use_bias=False))  # remove bias param by setting it to false \n",
        " \n",
        "model.add(Activation('relu'))    # use ReLU activation function .\n",
        "\n",
        "\n",
        "#Global receptive field is 7x7\n",
        "\n",
        "##  Transition block \n",
        "\n",
        "# Perform 2x2 max pooling  . \n",
        "#Input from previous layer is 22 x 22 X 128 \n",
        "\n",
        "model.add(MaxPooling2D(2,2))\n",
        "\n",
        "\n",
        "# After max pooling , 2D spatial dimension reduces by half , i.e it becomes 11 x 11 . \n",
        "# Maxpooling (withpool size 2 and stride 1) doubles receptive field . \n",
        "# So global receptive field after max pooling is 14 x 14\n",
        "\n",
        "# add 1x1 convolution to reduce the channel numbers to 32 \n",
        "\n",
        "model.add(Conv2D(32, 1, use_bias=False))  # remove bias param by setting it to false \n",
        " \n",
        "model.add(Activation('relu'))    # use ReLU activation function .\n",
        "\n",
        "\n",
        "#Convolution Block 2\n",
        "\n",
        "# Add convolution layer - 64 filters of shape 3x3x32\n",
        "#input from transition layer is 11 x 11 x 32 .  \n",
        "\n",
        "model.add(Conv2D(64, 3,  use_bias=False))  # remove bias param by setting it to false \n",
        "\n",
        "model.add(Activation('relu'))    # use ReLU activation function .\n",
        "\n",
        "#Global receptive field is now 16 x 16 \n",
        "\n",
        "# Add convolution layer - 16 filters of shape 3x3x16 \n",
        "#input coming from previous layer is 9 x 9 x 64 . \n",
        "\n",
        "model.add(Conv2D(128, 3,  use_bias=False)) # remove bias param by setting it to false \n",
        " \n",
        "model.add(Activation('relu'))    # use ReLU activation function .\n",
        "\n",
        "#  Global receptive field is now 18 x 18 \n",
        "\n",
        "# Add 1x1 convolution to reduce number of channels to 10  \n",
        "#input coming from previous layer is 7 x 7 x 128 .\n",
        "\n",
        "model.add(Conv2D(10, 1,  use_bias=False))  # remove bias param by setting it to false \n",
        " \n",
        "model.add(Activation('relu'))    # use ReLU activation function .\n",
        "\n",
        "#Global receptive field is now 18 x 18 \n",
        "\n",
        "# Last layer :  Add convolution layer - 10 filters of shape 7x7x10 \n",
        "#input coming from previous layer is 7 x 7 x 10 .\n",
        "\n",
        "model.add(Conv2D(10, 7,  use_bias=False))  # remove bias param by setting it to false \n",
        "\n",
        "# Note absence of ReLU activation here \n",
        "\n",
        "model.add(Flatten())  # Flatten the 2d array to 1d input for the softmax activation \n",
        "model.add(Activation('softmax'))   # Softmax activation to out class probabilities "
      ],
      "execution_count": 0,
      "outputs": [
        {
          "output_type": "stream",
          "text": [
            "WARNING:tensorflow:From /usr/local/lib/python3.6/dist-packages/tensorflow/python/framework/op_def_library.py:263: colocate_with (from tensorflow.python.framework.ops) is deprecated and will be removed in a future version.\n",
            "Instructions for updating:\n",
            "Colocations handled automatically by placer.\n"
          ],
          "name": "stdout"
        }
      ]
    },
    {
      "cell_type": "code",
      "metadata": {
        "id": "BTdVH726xhN3",
        "colab_type": "code",
        "outputId": "83068c9b-c6c3-4b86-adf0-bab4477cff8a",
        "colab": {
          "base_uri": "https://localhost:8080/",
          "height": 748
        }
      },
      "source": [
        "model.summary()"
      ],
      "execution_count": 0,
      "outputs": [
        {
          "output_type": "stream",
          "text": [
            "_________________________________________________________________\n",
            "Layer (type)                 Output Shape              Param #   \n",
            "=================================================================\n",
            "conv2d_1 (Conv2D)            (None, 26, 26, 32)        288       \n",
            "_________________________________________________________________\n",
            "activation_1 (Activation)    (None, 26, 26, 32)        0         \n",
            "_________________________________________________________________\n",
            "conv2d_2 (Conv2D)            (None, 24, 24, 64)        18432     \n",
            "_________________________________________________________________\n",
            "activation_2 (Activation)    (None, 24, 24, 64)        0         \n",
            "_________________________________________________________________\n",
            "conv2d_3 (Conv2D)            (None, 22, 22, 128)       73728     \n",
            "_________________________________________________________________\n",
            "activation_3 (Activation)    (None, 22, 22, 128)       0         \n",
            "_________________________________________________________________\n",
            "max_pooling2d_1 (MaxPooling2 (None, 11, 11, 128)       0         \n",
            "_________________________________________________________________\n",
            "conv2d_4 (Conv2D)            (None, 11, 11, 32)        4096      \n",
            "_________________________________________________________________\n",
            "activation_4 (Activation)    (None, 11, 11, 32)        0         \n",
            "_________________________________________________________________\n",
            "conv2d_5 (Conv2D)            (None, 9, 9, 64)          18432     \n",
            "_________________________________________________________________\n",
            "activation_5 (Activation)    (None, 9, 9, 64)          0         \n",
            "_________________________________________________________________\n",
            "conv2d_6 (Conv2D)            (None, 7, 7, 128)         73728     \n",
            "_________________________________________________________________\n",
            "activation_6 (Activation)    (None, 7, 7, 128)         0         \n",
            "_________________________________________________________________\n",
            "conv2d_7 (Conv2D)            (None, 7, 7, 10)          1280      \n",
            "_________________________________________________________________\n",
            "activation_7 (Activation)    (None, 7, 7, 10)          0         \n",
            "_________________________________________________________________\n",
            "conv2d_8 (Conv2D)            (None, 1, 1, 10)          4900      \n",
            "_________________________________________________________________\n",
            "flatten_1 (Flatten)          (None, 10)                0         \n",
            "_________________________________________________________________\n",
            "activation_8 (Activation)    (None, 10)                0         \n",
            "=================================================================\n",
            "Total params: 194,884\n",
            "Trainable params: 194,884\n",
            "Non-trainable params: 0\n",
            "_________________________________________________________________\n"
          ],
          "name": "stdout"
        }
      ]
    },
    {
      "cell_type": "code",
      "metadata": {
        "id": "Q7A0AhG_xrjw",
        "colab_type": "code",
        "colab": {}
      },
      "source": [
        "model.compile(loss='categorical_crossentropy',\n",
        "             optimizer='adam',\n",
        "             metrics=['accuracy'])"
      ],
      "execution_count": 0,
      "outputs": []
    },
    {
      "cell_type": "code",
      "metadata": {
        "id": "iqappyT1x7sf",
        "colab_type": "code",
        "outputId": "76e9bbe0-72be-43b3-d726-ed82f33c5e77",
        "colab": {
          "base_uri": "https://localhost:8080/",
          "height": 802
        }
      },
      "source": [
        "model.fit(X_train, Y_train, validation_data=(X_test,Y_test),batch_size=32, epochs=10, verbose=1, callbacks=[chkpoint_model])"
      ],
      "execution_count": 0,
      "outputs": [
        {
          "output_type": "stream",
          "text": [
            "WARNING:tensorflow:From /usr/local/lib/python3.6/dist-packages/tensorflow/python/ops/math_ops.py:3066: to_int32 (from tensorflow.python.ops.math_ops) is deprecated and will be removed in a future version.\n",
            "Instructions for updating:\n",
            "Use tf.cast instead.\n",
            "Train on 60000 samples, validate on 10000 samples\n",
            "Epoch 1/10\n",
            "60000/60000 [==============================] - 17s 291us/step - loss: 0.1489 - acc: 0.9546 - val_loss: 0.0575 - val_acc: 0.9817\n",
            "\n",
            "Epoch 00001: val_acc improved from -inf to 0.98170, saving model to model_custom_v1_mnist_best.h5\n",
            "Epoch 2/10\n",
            "60000/60000 [==============================] - 13s 214us/step - loss: 0.0533 - acc: 0.9838 - val_loss: 0.0398 - val_acc: 0.9865\n",
            "\n",
            "Epoch 00002: val_acc improved from 0.98170 to 0.98650, saving model to model_custom_v1_mnist_best.h5\n",
            "Epoch 3/10\n",
            "60000/60000 [==============================] - 13s 216us/step - loss: 0.0413 - acc: 0.9875 - val_loss: 0.0528 - val_acc: 0.9834\n",
            "\n",
            "Epoch 00003: val_acc did not improve from 0.98650\n",
            "Epoch 4/10\n",
            "60000/60000 [==============================] - 13s 224us/step - loss: 0.0321 - acc: 0.9902 - val_loss: 0.0347 - val_acc: 0.9887\n",
            "\n",
            "Epoch 00004: val_acc improved from 0.98650 to 0.98870, saving model to model_custom_v1_mnist_best.h5\n",
            "Epoch 5/10\n",
            "60000/60000 [==============================] - 13s 214us/step - loss: 0.0260 - acc: 0.9921 - val_loss: 0.0288 - val_acc: 0.9912\n",
            "\n",
            "Epoch 00005: val_acc improved from 0.98870 to 0.99120, saving model to model_custom_v1_mnist_best.h5\n",
            "Epoch 6/10\n",
            "60000/60000 [==============================] - 14s 230us/step - loss: 0.0214 - acc: 0.9934 - val_loss: 0.0272 - val_acc: 0.9922\n",
            "\n",
            "Epoch 00006: val_acc improved from 0.99120 to 0.99220, saving model to model_custom_v1_mnist_best.h5\n",
            "Epoch 7/10\n",
            "60000/60000 [==============================] - 13s 214us/step - loss: 0.0187 - acc: 0.9939 - val_loss: 0.0417 - val_acc: 0.9865\n",
            "\n",
            "Epoch 00007: val_acc did not improve from 0.99220\n",
            "Epoch 8/10\n",
            "60000/60000 [==============================] - 13s 214us/step - loss: 0.0160 - acc: 0.9950 - val_loss: 0.0301 - val_acc: 0.9915\n",
            "\n",
            "Epoch 00008: val_acc did not improve from 0.99220\n",
            "Epoch 9/10\n",
            "60000/60000 [==============================] - 13s 214us/step - loss: 0.0128 - acc: 0.9957 - val_loss: 0.0349 - val_acc: 0.9915\n",
            "\n",
            "Epoch 00009: val_acc did not improve from 0.99220\n",
            "Epoch 10/10\n",
            "60000/60000 [==============================] - 14s 226us/step - loss: 0.0124 - acc: 0.9960 - val_loss: 0.0353 - val_acc: 0.9900\n",
            "\n",
            "Epoch 00010: val_acc did not improve from 0.99220\n"
          ],
          "name": "stdout"
        },
        {
          "output_type": "execute_result",
          "data": {
            "text/plain": [
              "<keras.callbacks.History at 0x7fbe765b6940>"
            ]
          },
          "metadata": {
            "tags": []
          },
          "execution_count": 14
        }
      ]
    },
    {
      "cell_type": "markdown",
      "metadata": {
        "id": "oAo7lmRA0FIE",
        "colab_type": "text"
      },
      "source": [
        "**We trained the model for 10 epochs and it has a max validation accuracy of 99.22 . The number of parameters is a concern as it is far more (195k) than the 15k limit. We will attend to number of parameters in the next iteration** "
      ]
    },
    {
      "cell_type": "markdown",
      "metadata": {
        "id": "B7fa3y3MszKQ",
        "colab_type": "text"
      },
      "source": [
        "### Let us load the Model with best validation accuracy and print the evaluation score "
      ]
    },
    {
      "cell_type": "code",
      "metadata": {
        "id": "ZvdXCXK2l9KQ",
        "colab_type": "code",
        "colab": {}
      },
      "source": [
        "model=load_model(\"model_custom_v1_mnist_best.h5\")"
      ],
      "execution_count": 0,
      "outputs": []
    },
    {
      "cell_type": "code",
      "metadata": {
        "id": "AtsH-lLk-eLb",
        "colab_type": "code",
        "colab": {}
      },
      "source": [
        "score = model.evaluate(X_test, Y_test, verbose=0)"
      ],
      "execution_count": 0,
      "outputs": []
    },
    {
      "cell_type": "code",
      "metadata": {
        "id": "mkX8JMv79q9r",
        "colab_type": "code",
        "outputId": "051a39d5-d394-489e-fd99-f584c77b99fd",
        "colab": {
          "base_uri": "https://localhost:8080/",
          "height": 34
        }
      },
      "source": [
        "print(score)"
      ],
      "execution_count": 0,
      "outputs": [
        {
          "output_type": "stream",
          "text": [
            "[0.027160424402708303, 0.9922]\n"
          ],
          "name": "stdout"
        }
      ]
    },
    {
      "cell_type": "markdown",
      "metadata": {
        "id": "Acfgy31CtWYc",
        "colab_type": "text"
      },
      "source": [
        "### Predict the classes using model.predict and print predicted probabilities and categorical array for True test classes "
      ]
    },
    {
      "cell_type": "code",
      "metadata": {
        "id": "OCWoJkwE9suh",
        "colab_type": "code",
        "colab": {}
      },
      "source": [
        "y_pred = model.predict(X_test)"
      ],
      "execution_count": 0,
      "outputs": []
    },
    {
      "cell_type": "code",
      "metadata": {
        "id": "Ym7iCFBm9uBs",
        "colab_type": "code",
        "outputId": "8f86fe0d-98a8-4335-ca9a-16f85ceeca8a",
        "colab": {
          "base_uri": "https://localhost:8080/",
          "height": 629
        }
      },
      "source": [
        "print(y_pred[:9])\n",
        "print(Y_test[:9])"
      ],
      "execution_count": 0,
      "outputs": [
        {
          "output_type": "stream",
          "text": [
            "[[4.85907703e-11 5.66314808e-11 1.21949469e-07 2.49639157e-07\n",
            "  4.83767323e-13 2.21865348e-09 2.20653892e-19 9.99999642e-01\n",
            "  5.30516013e-11 5.13741361e-09]\n",
            " [1.76808371e-07 5.42926628e-08 9.99997497e-01 8.02094610e-13\n",
            "  1.20663002e-11 1.22894045e-13 2.25636290e-06 4.47469083e-15\n",
            "  3.61097374e-10 1.13210614e-08]\n",
            " [1.41675017e-07 9.99997735e-01 1.22548016e-07 1.52157665e-13\n",
            "  1.46854134e-07 4.00673592e-08 9.40787337e-10 1.84047894e-06\n",
            "  6.28399111e-10 2.96663777e-10]\n",
            " [9.99928355e-01 1.25329347e-09 8.09112635e-07 1.70795633e-09\n",
            "  2.11708198e-08 4.02868068e-08 5.72565341e-06 2.14720792e-08\n",
            "  8.70664508e-07 6.40705111e-05]\n",
            " [9.97566699e-12 4.99897956e-10 1.91461864e-11 1.42243566e-15\n",
            "  9.99995589e-01 6.22501291e-13 2.78738554e-07 9.85402352e-14\n",
            "  7.76119435e-08 4.13036832e-06]\n",
            " [4.84416507e-09 9.99999762e-01 2.32947190e-08 2.57915010e-15\n",
            "  1.32189982e-07 1.47773926e-09 2.45609200e-10 1.12783546e-07\n",
            "  1.51514981e-10 5.42994330e-11]\n",
            " [4.00141441e-17 8.40407188e-11 1.80260565e-13 4.62699275e-18\n",
            "  9.99998808e-01 7.59180566e-12 1.79237339e-15 3.53361632e-12\n",
            "  1.18250102e-06 6.03930150e-09]\n",
            " [8.75259153e-12 1.55813612e-10 6.10468831e-09 1.15274424e-12\n",
            "  8.87624119e-05 2.13073531e-10 1.78293459e-12 2.92014191e-09\n",
            "  2.31005757e-07 9.99910951e-01]\n",
            " [1.80020461e-08 1.65073660e-14 3.63872127e-11 3.06936448e-10\n",
            "  5.94404951e-12 9.90337133e-01 8.83710943e-03 2.83217562e-14\n",
            "  8.25078576e-04 7.18206479e-07]]\n",
            "[[0. 0. 0. 0. 0. 0. 0. 1. 0. 0.]\n",
            " [0. 0. 1. 0. 0. 0. 0. 0. 0. 0.]\n",
            " [0. 1. 0. 0. 0. 0. 0. 0. 0. 0.]\n",
            " [1. 0. 0. 0. 0. 0. 0. 0. 0. 0.]\n",
            " [0. 0. 0. 0. 1. 0. 0. 0. 0. 0.]\n",
            " [0. 1. 0. 0. 0. 0. 0. 0. 0. 0.]\n",
            " [0. 0. 0. 0. 1. 0. 0. 0. 0. 0.]\n",
            " [0. 0. 0. 0. 0. 0. 0. 0. 0. 1.]\n",
            " [0. 0. 0. 0. 0. 1. 0. 0. 0. 0.]]\n"
          ],
          "name": "stdout"
        }
      ]
    },
    {
      "cell_type": "markdown",
      "metadata": {
        "id": "WYPrkzLvt2do",
        "colab_type": "text"
      },
      "source": [
        "### Let us visualize some of the filters in the first convolution layer 'conv2d_1'"
      ]
    },
    {
      "cell_type": "code",
      "metadata": {
        "id": "CT--y98_dr2T",
        "colab_type": "code",
        "colab": {}
      },
      "source": [
        "# form a layer dictionary {name : layer} of all layers in the model \n",
        "\n",
        "layer_dict = dict([(layer.name, layer) for layer in model.layers])  "
      ],
      "execution_count": 0,
      "outputs": []
    },
    {
      "cell_type": "code",
      "metadata": {
        "id": "2GY4Upv4dsUR",
        "colab_type": "code",
        "outputId": "d3315864-f318-45f6-949c-cd6d376313ca",
        "colab": {
          "base_uri": "https://localhost:8080/",
          "height": 837
        }
      },
      "source": [
        " # use matplotlib to visualize the filter arrays \n",
        "import numpy as np\n",
        "from matplotlib import pyplot as plt\n",
        "from keras import backend as K\n",
        "%matplotlib inline\n",
        "# util function to convert a tensor into a valid image\n",
        "def deprocess_image(x):\n",
        "    # normalize tensor: center on 0., ensure std is 0.1\n",
        "    x -= x.mean()\n",
        "    x /= (x.std() + 1e-5)\n",
        "    x *= 0.1\n",
        "\n",
        "    # clip to [0, 1]\n",
        "    x += 0.5\n",
        "    x = np.clip(x, 0, 1)\n",
        "\n",
        "    # convert to RGB array\n",
        "    x *= 255\n",
        "    #x = x.transpose((1, 2, 0))\n",
        "    x = np.clip(x, 0, 255).astype('uint8')\n",
        "    return x\n",
        "\n",
        "def vis_img_in_filter(img = np.array(X_train[2]).reshape((1, 28, 28, 1)).astype(np.float64), \n",
        "                      layer_name = 'conv2d_1'):\n",
        "    layer_output = layer_dict[layer_name].output\n",
        "    img_ascs = list()\n",
        "    for filter_index in range(layer_output.shape[3]):\n",
        "        # build a loss function that maximizes the activation\n",
        "        # of the nth filter of the layer considered\n",
        "        loss = K.mean(layer_output[:, :, :, filter_index])\n",
        "\n",
        "        # compute the gradient of the input picture wrt this loss\n",
        "        grads = K.gradients(loss, model.input)[0]\n",
        "\n",
        "        # normalization trick: we normalize the gradient\n",
        "        grads /= (K.sqrt(K.mean(K.square(grads))) + 1e-5)\n",
        "\n",
        "        # this function returns the loss and grads given the input picture\n",
        "        iterate = K.function([model.input], [loss, grads])\n",
        "\n",
        "        # step size for gradient ascent\n",
        "        step = 5.\n",
        "\n",
        "        img_asc = np.array(img)\n",
        "        # run gradient ascent for 20 steps\n",
        "        for i in range(20):\n",
        "            loss_value, grads_value = iterate([img_asc])\n",
        "            img_asc += grads_value * step\n",
        "\n",
        "        img_asc = img_asc[0]\n",
        "        img_ascs.append(deprocess_image(img_asc).reshape((28, 28)))\n",
        "        \n",
        "    if layer_output.shape[3] >= 35:\n",
        "        plot_x, plot_y = 6, 6\n",
        "    elif layer_output.shape[3] >= 23:\n",
        "        plot_x, plot_y = 4, 6\n",
        "    elif layer_output.shape[3] >= 11:\n",
        "        plot_x, plot_y = 2, 6\n",
        "    elif layer_output.shape[3] >= 8:\n",
        "        plot_x, plot_y = 2, 4   \n",
        "    else:\n",
        "        \n",
        "        plot_x, plot_y = 2, 2\n",
        "    fig, ax = plt.subplots(plot_x, plot_y, figsize = (12, 12))\n",
        "    \n",
        "    ax[0,0].imshow(img.reshape((28, 28)), cmap = 'gray')\n",
        "    ax[0,0].set_title('Input image')\n",
        "    fig.suptitle('Input image and %s filters' % (layer_name,))\n",
        "    fig.tight_layout(pad = 0.3, rect = [0, 0, 0.9, 0.9])\n",
        "    for (x, y) in [(i, j) for i in range(plot_x) for j in range(plot_y)]:\n",
        "        if x == 0 and y == 0:\n",
        "            continue\n",
        "        ax[x,y].imshow(img_ascs[x * plot_y + y - 1], cmap = 'gray')\n",
        "        ax[x,y].set_title('filter %d' % (x * plot_y + y - 1))\n",
        "\n",
        "vis_img_in_filter()"
      ],
      "execution_count": 0,
      "outputs": [
        {
          "output_type": "display_data",
          "data": {
            "image/png": "[encoded data removed]",
            "text/plain": [
              "<Figure size 864x864 with 24 Axes>"
            ]
          },
          "metadata": {
            "tags": []
          }
        }
      ]
    },
    {
      "cell_type": "markdown",
      "metadata": {
        "id": "2q6fJ67qvlsY",
        "colab_type": "text"
      },
      "source": [
        "### We built the first iteration of the model with 195k parameters and achieved a max validation accuracy of 99.22 within 10 epochs . This iteration was to fix the basic architecture of the network \n",
        "\n",
        "###We will improve this model in the next iteration "
      ]
    }
  ]
}