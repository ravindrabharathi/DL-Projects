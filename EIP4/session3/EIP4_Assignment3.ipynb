{
  "nbformat": 4,
  "nbformat_minor": 0,
  "metadata": {
    "colab": {
      "name": "EIP4-Assignment3.ipynb",
      "provenance": [],
      "collapsed_sections": [],
      "include_colab_link": true
    },
    "kernelspec": {
      "name": "python3",
      "display_name": "Python 3"
    },
    "accelerator": "GPU"
  },
  "cells": [
    {
      "cell_type": "markdown",
      "metadata": {
        "id": "view-in-github",
        "colab_type": "text"
      },
      "source": [
        "<a href=\"https://colab.research.google.com/github/ravindrabharathi/Project1/blob/master/EIP4/session3/EIP4_Assignment3.ipynb\" target=\"_parent\"><img src=\"https://colab.research.google.com/assets/colab-badge.svg\" alt=\"Open In Colab\"/></a>"
      ]
    },
    {
      "cell_type": "markdown",
      "metadata": {
        "id": "PfcvUNfQd3UU",
        "colab_type": "text"
      },
      "source": [
        "# Train a CNN model built with only Depthwise Separable Convolutions to classify CIFAR-10 image samples"
      ]
    },
    {
      "cell_type": "markdown",
      "metadata": {
        "id": "hQVcsJxnWVb-",
        "colab_type": "text"
      },
      "source": [
        "Import necessary modules "
      ]
    },
    {
      "cell_type": "code",
      "metadata": {
        "id": "KkwXnw9OfHZl",
        "colab_type": "code",
        "colab": {
          "base_uri": "https://localhost:8080/",
          "height": 80
        },
        "outputId": "c7023b65-f99f-4be1-b19b-f99669be5ac9"
      },
      "source": [
        "from keras import backend as K\n",
        "import time\n",
        "import matplotlib.pyplot as plt\n",
        "import numpy as np\n",
        "% matplotlib inline\n",
        "np.random.seed(2017) \n",
        "from keras.models import Sequential\n",
        "from keras.layers.convolutional import Convolution2D, MaxPooling2D,SeparableConv2D\n",
        "from keras.layers import Activation, Flatten, Dense, Dropout,AveragePooling2D\n",
        "from keras.layers.normalization import BatchNormalization\n",
        "from keras.utils import np_utils"
      ],
      "execution_count": 1,
      "outputs": [
        {
          "output_type": "stream",
          "text": [
            "Using TensorFlow backend.\n"
          ],
          "name": "stderr"
        },
        {
          "output_type": "display_data",
          "data": {
            "text/html": [
              "<p style=\"color: red;\">\n",
              "The default version of TensorFlow in Colab will soon switch to TensorFlow 2.x.<br>\n",
              "We recommend you <a href=\"https://www.tensorflow.org/guide/migrate\" target=\"_blank\">upgrade</a> now \n",
              "or ensure your notebook will continue to use TensorFlow 1.x via the <code>%tensorflow_version 1.x</code> magic:\n",
              "<a href=\"https://colab.research.google.com/notebooks/tensorflow_version.ipynb\" target=\"_blank\">more info</a>.</p>\n"
            ],
            "text/plain": [
              "<IPython.core.display.HTML object>"
            ]
          },
          "metadata": {
            "tags": []
          }
        }
      ]
    },
    {
      "cell_type": "markdown",
      "metadata": {
        "id": "ZUoDa8wOWbSy",
        "colab_type": "text"
      },
      "source": [
        "create training and test data from cifar10 dataset "
      ]
    },
    {
      "cell_type": "code",
      "metadata": {
        "id": "NHpnoCHZfO8g",
        "colab_type": "code",
        "colab": {
          "base_uri": "https://localhost:8080/",
          "height": 51
        },
        "outputId": "31aa8b6d-a909-49d9-b679-5a03e444b8dd"
      },
      "source": [
        "from keras.datasets import cifar10\n",
        "(train_features, train_labels), (test_features, test_labels) = cifar10.load_data()\n",
        "num_train, img_channels, img_rows, img_cols =  train_features.shape\n",
        "num_test, _, _, _ =  test_features.shape\n",
        "num_classes = len(np.unique(train_labels))"
      ],
      "execution_count": 2,
      "outputs": [
        {
          "output_type": "stream",
          "text": [
            "Downloading data from https://www.cs.toronto.edu/~kriz/cifar-10-python.tar.gz\n",
            "170500096/170498071 [==============================] - 2s 0us/step\n"
          ],
          "name": "stdout"
        }
      ]
    },
    {
      "cell_type": "markdown",
      "metadata": {
        "id": "s4QNonz0WjR_",
        "colab_type": "text"
      },
      "source": [
        "plot an image from each class in cifar-10"
      ]
    },
    {
      "cell_type": "code",
      "metadata": {
        "id": "14HyBUXdfS6G",
        "colab_type": "code",
        "colab": {
          "base_uri": "https://localhost:8080/",
          "height": 213
        },
        "outputId": "0932ddb3-0a43-4d7e-b10e-27ab9f2d5b94"
      },
      "source": [
        "class_names = ['airplane','automobile','bird','cat','deer',\n",
        "               'dog','frog','horse','ship','truck']\n",
        "fig = plt.figure(figsize=(8,3))\n",
        "for i in range(num_classes):\n",
        "    ax = fig.add_subplot(2, 5, 1 + i, xticks=[], yticks=[])\n",
        "    idx = np.where(train_labels[:]==i)[0]\n",
        "    features_idx = train_features[idx,::]\n",
        "    img_num = np.random.randint(features_idx.shape[0])\n",
        "    im = features_idx[img_num]\n",
        "    ax.set_title(class_names[i])\n",
        "    plt.imshow(im)\n",
        "plt.show()"
      ],
      "execution_count": 3,
      "outputs": [
        {
          "output_type": "display_data",
          "data": {
            "image/png": "[encoded data removed]",
            "text/plain": [
              "<Figure size 576x216 with 10 Axes>"
            ]
          },
          "metadata": {
            "tags": []
          }
        }
      ]
    },
    {
      "cell_type": "markdown",
      "metadata": {
        "id": "taThCi38Wu0_",
        "colab_type": "text"
      },
      "source": [
        "function to plot model training history "
      ]
    },
    {
      "cell_type": "code",
      "metadata": {
        "id": "bmfsk76-fadV",
        "colab_type": "code",
        "colab": {}
      },
      "source": [
        "def plot_model_history(model_history):\n",
        "    fig, axs = plt.subplots(1,2,figsize=(15,5))\n",
        "    # summarize history for accuracy\n",
        "    axs[0].plot(range(1,len(model_history.history['acc'])+1),model_history.history['acc'])\n",
        "    axs[0].plot(range(1,len(model_history.history['val_acc'])+1),model_history.history['val_acc'])\n",
        "    axs[0].set_title('Model Accuracy')\n",
        "    axs[0].set_ylabel('Accuracy')\n",
        "    axs[0].set_xlabel('Epoch')\n",
        "    axs[0].set_xticks(np.arange(1,len(model_history.history['acc'])+1),len(model_history.history['acc'])/10)\n",
        "    axs[0].legend(['train', 'val'], loc='best')\n",
        "    # summarize history for loss\n",
        "    axs[1].plot(range(1,len(model_history.history['loss'])+1),model_history.history['loss'])\n",
        "    axs[1].plot(range(1,len(model_history.history['val_loss'])+1),model_history.history['val_loss'])\n",
        "    axs[1].set_title('Model Loss')\n",
        "    axs[1].set_ylabel('Loss')\n",
        "    axs[1].set_xlabel('Epoch')\n",
        "    axs[1].set_xticks(np.arange(1,len(model_history.history['loss'])+1),len(model_history.history['loss'])/10)\n",
        "    axs[1].legend(['train', 'val'], loc='best')\n",
        "    plt.show()"
      ],
      "execution_count": 0,
      "outputs": []
    },
    {
      "cell_type": "markdown",
      "metadata": {
        "id": "PZnC2HeLW1_6",
        "colab_type": "text"
      },
      "source": [
        "function to calculate accuracy of model"
      ]
    },
    {
      "cell_type": "code",
      "metadata": {
        "id": "YJMT4rjgfdZz",
        "colab_type": "code",
        "colab": {}
      },
      "source": [
        "def accuracy(test_x, test_y, model):\n",
        "    result = model.predict(test_x)\n",
        "    predicted_class = np.argmax(result, axis=1)\n",
        "    true_class = np.argmax(test_y, axis=1)\n",
        "    num_correct = np.sum(predicted_class == true_class) \n",
        "    accuracy = float(num_correct)/result.shape[0]\n",
        "    return (accuracy * 100)"
      ],
      "execution_count": 0,
      "outputs": []
    },
    {
      "cell_type": "markdown",
      "metadata": {
        "id": "nnnAbEWBW77u",
        "colab_type": "text"
      },
      "source": [
        "standardize image pixel values to be between 0 and 1\n",
        "\n",
        "convert train and test labels to one hot encoded vectors"
      ]
    },
    {
      "cell_type": "code",
      "metadata": {
        "id": "T5c5nDvxm6zR",
        "colab_type": "code",
        "colab": {}
      },
      "source": [
        "train_features = train_features.astype('float32')/255\n",
        "test_features = test_features.astype('float32')/255\n",
        "# convert class labels to binary class labels\n",
        "train_labels = np_utils.to_categorical(train_labels, num_classes)\n",
        "test_labels = np_utils.to_categorical(test_labels, num_classes)"
      ],
      "execution_count": 0,
      "outputs": []
    },
    {
      "cell_type": "markdown",
      "metadata": {
        "id": "gslUJD2ZXN2d",
        "colab_type": "text"
      },
      "source": [
        "Base model - uses Conv2D "
      ]
    },
    {
      "cell_type": "code",
      "metadata": {
        "id": "cSOb2lkJfhVq",
        "colab_type": "code",
        "colab": {
          "base_uri": "https://localhost:8080/",
          "height": 530
        },
        "outputId": "a6f8558e-d4a4-476d-9a14-f23d4d982ab3"
      },
      "source": [
        "# Define the model\n",
        "model = Sequential()\n",
        "model.add(Convolution2D(48, 3, 3, border_mode='same', input_shape=(32, 32, 3)))\n",
        "model.add(Activation('relu'))\n",
        "model.add(Convolution2D(48, 3, 3))\n",
        "model.add(Activation('relu'))\n",
        "model.add(MaxPooling2D(pool_size=(2, 2)))\n",
        "model.add(Dropout(0.25))\n",
        "model.add(Convolution2D(96, 3, 3, border_mode='same'))\n",
        "model.add(Activation('relu'))\n",
        "model.add(Convolution2D(96, 3, 3))\n",
        "model.add(Activation('relu'))\n",
        "model.add(MaxPooling2D(pool_size=(2, 2)))\n",
        "model.add(Dropout(0.25))\n",
        "model.add(Convolution2D(192, 3, 3, border_mode='same'))\n",
        "model.add(Activation('relu'))\n",
        "model.add(Convolution2D(192, 3, 3))\n",
        "model.add(Activation('relu'))\n",
        "model.add(MaxPooling2D(pool_size=(2, 2)))\n",
        "model.add(Dropout(0.25))\n",
        "model.add(Flatten())\n",
        "model.add(Dense(512))\n",
        "model.add(Activation('relu'))\n",
        "model.add(Dropout(0.5))\n",
        "model.add(Dense(256))\n",
        "model.add(Activation('relu'))\n",
        "model.add(Dropout(0.5))\n",
        "model.add(Dense(num_classes, activation='softmax'))\n",
        "# Compile the model\n",
        "model.compile(optimizer='adam', loss='categorical_crossentropy', metrics=['accuracy'])\n"
      ],
      "execution_count": 7,
      "outputs": [
        {
          "output_type": "stream",
          "text": [
            "WARNING:tensorflow:From /usr/local/lib/python3.6/dist-packages/keras/backend/tensorflow_backend.py:66: The name tf.get_default_graph is deprecated. Please use tf.compat.v1.get_default_graph instead.\n",
            "\n",
            "WARNING:tensorflow:From /usr/local/lib/python3.6/dist-packages/keras/backend/tensorflow_backend.py:541: The name tf.placeholder is deprecated. Please use tf.compat.v1.placeholder instead.\n",
            "\n",
            "WARNING:tensorflow:From /usr/local/lib/python3.6/dist-packages/keras/backend/tensorflow_backend.py:4432: The name tf.random_uniform is deprecated. Please use tf.random.uniform instead.\n",
            "\n",
            "WARNING:tensorflow:From /usr/local/lib/python3.6/dist-packages/keras/backend/tensorflow_backend.py:4267: The name tf.nn.max_pool is deprecated. Please use tf.nn.max_pool2d instead.\n",
            "\n",
            "WARNING:tensorflow:From /usr/local/lib/python3.6/dist-packages/keras/backend/tensorflow_backend.py:148: The name tf.placeholder_with_default is deprecated. Please use tf.compat.v1.placeholder_with_default instead.\n",
            "\n",
            "WARNING:tensorflow:From /usr/local/lib/python3.6/dist-packages/keras/backend/tensorflow_backend.py:3733: calling dropout (from tensorflow.python.ops.nn_ops) with keep_prob is deprecated and will be removed in a future version.\n",
            "Instructions for updating:\n",
            "Please use `rate` instead of `keep_prob`. Rate should be set to `rate = 1 - keep_prob`.\n"
          ],
          "name": "stdout"
        },
        {
          "output_type": "stream",
          "text": [
            "/usr/local/lib/python3.6/dist-packages/ipykernel_launcher.py:2: UserWarning: Update your `Conv2D` call to the Keras 2 API: `Conv2D(48, (3, 3), input_shape=(32, 32, 3..., padding=\"same\")`\n",
            "  \n",
            "/usr/local/lib/python3.6/dist-packages/ipykernel_launcher.py:4: UserWarning: Update your `Conv2D` call to the Keras 2 API: `Conv2D(48, (3, 3))`\n",
            "  after removing the cwd from sys.path.\n",
            "/usr/local/lib/python3.6/dist-packages/ipykernel_launcher.py:8: UserWarning: Update your `Conv2D` call to the Keras 2 API: `Conv2D(96, (3, 3), padding=\"same\")`\n",
            "  \n",
            "/usr/local/lib/python3.6/dist-packages/ipykernel_launcher.py:10: UserWarning: Update your `Conv2D` call to the Keras 2 API: `Conv2D(96, (3, 3))`\n",
            "  # Remove the CWD from sys.path while we load stuff.\n",
            "/usr/local/lib/python3.6/dist-packages/ipykernel_launcher.py:14: UserWarning: Update your `Conv2D` call to the Keras 2 API: `Conv2D(192, (3, 3), padding=\"same\")`\n",
            "  \n",
            "/usr/local/lib/python3.6/dist-packages/ipykernel_launcher.py:16: UserWarning: Update your `Conv2D` call to the Keras 2 API: `Conv2D(192, (3, 3))`\n",
            "  app.launch_new_instance()\n"
          ],
          "name": "stderr"
        },
        {
          "output_type": "stream",
          "text": [
            "WARNING:tensorflow:From /usr/local/lib/python3.6/dist-packages/keras/optimizers.py:793: The name tf.train.Optimizer is deprecated. Please use tf.compat.v1.train.Optimizer instead.\n",
            "\n",
            "WARNING:tensorflow:From /usr/local/lib/python3.6/dist-packages/keras/backend/tensorflow_backend.py:3576: The name tf.log is deprecated. Please use tf.math.log instead.\n",
            "\n"
          ],
          "name": "stdout"
        }
      ]
    },
    {
      "cell_type": "markdown",
      "metadata": {
        "id": "2TCFTgBfXU08",
        "colab_type": "text"
      },
      "source": [
        "Base model summary"
      ]
    },
    {
      "cell_type": "code",
      "metadata": {
        "id": "wvVs5tC8mR6Q",
        "colab_type": "code",
        "colab": {
          "base_uri": "https://localhost:8080/",
          "height": 1000
        },
        "outputId": "6e4f20a3-05f9-4517-bb89-1d370034ee71"
      },
      "source": [
        "model.summary()"
      ],
      "execution_count": 8,
      "outputs": [
        {
          "output_type": "stream",
          "text": [
            "Model: \"sequential_1\"\n",
            "_________________________________________________________________\n",
            "Layer (type)                 Output Shape              Param #   \n",
            "=================================================================\n",
            "conv2d_1 (Conv2D)            (None, 32, 32, 48)        1344      \n",
            "_________________________________________________________________\n",
            "activation_1 (Activation)    (None, 32, 32, 48)        0         \n",
            "_________________________________________________________________\n",
            "conv2d_2 (Conv2D)            (None, 30, 30, 48)        20784     \n",
            "_________________________________________________________________\n",
            "activation_2 (Activation)    (None, 30, 30, 48)        0         \n",
            "_________________________________________________________________\n",
            "max_pooling2d_1 (MaxPooling2 (None, 15, 15, 48)        0         \n",
            "_________________________________________________________________\n",
            "dropout_1 (Dropout)          (None, 15, 15, 48)        0         \n",
            "_________________________________________________________________\n",
            "conv2d_3 (Conv2D)            (None, 15, 15, 96)        41568     \n",
            "_________________________________________________________________\n",
            "activation_3 (Activation)    (None, 15, 15, 96)        0         \n",
            "_________________________________________________________________\n",
            "conv2d_4 (Conv2D)            (None, 13, 13, 96)        83040     \n",
            "_________________________________________________________________\n",
            "activation_4 (Activation)    (None, 13, 13, 96)        0         \n",
            "_________________________________________________________________\n",
            "max_pooling2d_2 (MaxPooling2 (None, 6, 6, 96)          0         \n",
            "_________________________________________________________________\n",
            "dropout_2 (Dropout)          (None, 6, 6, 96)          0         \n",
            "_________________________________________________________________\n",
            "conv2d_5 (Conv2D)            (None, 6, 6, 192)         166080    \n",
            "_________________________________________________________________\n",
            "activation_5 (Activation)    (None, 6, 6, 192)         0         \n",
            "_________________________________________________________________\n",
            "conv2d_6 (Conv2D)            (None, 4, 4, 192)         331968    \n",
            "_________________________________________________________________\n",
            "activation_6 (Activation)    (None, 4, 4, 192)         0         \n",
            "_________________________________________________________________\n",
            "max_pooling2d_3 (MaxPooling2 (None, 2, 2, 192)         0         \n",
            "_________________________________________________________________\n",
            "dropout_3 (Dropout)          (None, 2, 2, 192)         0         \n",
            "_________________________________________________________________\n",
            "flatten_1 (Flatten)          (None, 768)               0         \n",
            "_________________________________________________________________\n",
            "dense_1 (Dense)              (None, 512)               393728    \n",
            "_________________________________________________________________\n",
            "activation_7 (Activation)    (None, 512)               0         \n",
            "_________________________________________________________________\n",
            "dropout_4 (Dropout)          (None, 512)               0         \n",
            "_________________________________________________________________\n",
            "dense_2 (Dense)              (None, 256)               131328    \n",
            "_________________________________________________________________\n",
            "activation_8 (Activation)    (None, 256)               0         \n",
            "_________________________________________________________________\n",
            "dropout_5 (Dropout)          (None, 256)               0         \n",
            "_________________________________________________________________\n",
            "dense_3 (Dense)              (None, 10)                2570      \n",
            "=================================================================\n",
            "Total params: 1,172,410\n",
            "Trainable params: 1,172,410\n",
            "Non-trainable params: 0\n",
            "_________________________________________________________________\n"
          ],
          "name": "stdout"
        }
      ]
    },
    {
      "cell_type": "markdown",
      "metadata": {
        "id": "QhhhC8C-XZN2",
        "colab_type": "text"
      },
      "source": [
        "Train Base model for 50 epochs "
      ]
    },
    {
      "cell_type": "code",
      "metadata": {
        "id": "5oK_V7WyfsXX",
        "colab_type": "code",
        "colab": {
          "base_uri": "https://localhost:8080/",
          "height": 1000
        },
        "outputId": "f8e7bf9e-6600-4399-c6df-31be4679da97"
      },
      "source": [
        "from keras.preprocessing.image import ImageDataGenerator\n",
        "\n",
        "datagen = ImageDataGenerator(zoom_range=0.0, \n",
        "                             horizontal_flip=False)\n",
        "\n",
        "\n",
        "# train the model\n",
        "start = time.time()\n",
        "# Train the model\n",
        "model_info = model.fit_generator(datagen.flow(train_features, train_labels, batch_size = 128),\n",
        "                                 samples_per_epoch = train_features.shape[0], nb_epoch = 50, \n",
        "                                 validation_data = (test_features, test_labels), verbose=1)\n",
        "end = time.time()\n",
        "print (\"Model took %0.2f seconds to train\"%(end - start))\n",
        "# plot model history\n",
        "plot_model_history(model_info)\n",
        "# compute test accuracy\n",
        "print (\"Accuracy on test data is: %0.2f\"%accuracy(test_features, test_labels, model))"
      ],
      "execution_count": 9,
      "outputs": [
        {
          "output_type": "stream",
          "text": [
            "WARNING:tensorflow:From /usr/local/lib/python3.6/dist-packages/tensorflow_core/python/ops/math_grad.py:1424: where (from tensorflow.python.ops.array_ops) is deprecated and will be removed in a future version.\n",
            "Instructions for updating:\n",
            "Use tf.where in 2.0, which has the same broadcast rule as np.where\n"
          ],
          "name": "stdout"
        },
        {
          "output_type": "stream",
          "text": [
            "/usr/local/lib/python3.6/dist-packages/ipykernel_launcher.py:12: UserWarning: The semantics of the Keras 2 argument `steps_per_epoch` is not the same as the Keras 1 argument `samples_per_epoch`. `steps_per_epoch` is the number of batches to draw from the generator at each epoch. Basically steps_per_epoch = samples_per_epoch/batch_size. Similarly `nb_val_samples`->`validation_steps` and `val_samples`->`steps` arguments have changed. Update your method calls accordingly.\n",
            "  if sys.path[0] == '':\n",
            "/usr/local/lib/python3.6/dist-packages/ipykernel_launcher.py:12: UserWarning: Update your `fit_generator` call to the Keras 2 API: `fit_generator(<keras_pre..., validation_data=(array([[[..., verbose=1, steps_per_epoch=390, epochs=50)`\n",
            "  if sys.path[0] == '':\n"
          ],
          "name": "stderr"
        },
        {
          "output_type": "stream",
          "text": [
            "WARNING:tensorflow:From /usr/local/lib/python3.6/dist-packages/keras/backend/tensorflow_backend.py:1033: The name tf.assign_add is deprecated. Please use tf.compat.v1.assign_add instead.\n",
            "\n",
            "WARNING:tensorflow:From /usr/local/lib/python3.6/dist-packages/keras/backend/tensorflow_backend.py:1020: The name tf.assign is deprecated. Please use tf.compat.v1.assign instead.\n",
            "\n",
            "WARNING:tensorflow:From /usr/local/lib/python3.6/dist-packages/keras/backend/tensorflow_backend.py:3005: The name tf.Session is deprecated. Please use tf.compat.v1.Session instead.\n",
            "\n",
            "Epoch 1/50\n",
            "WARNING:tensorflow:From /usr/local/lib/python3.6/dist-packages/keras/backend/tensorflow_backend.py:190: The name tf.get_default_session is deprecated. Please use tf.compat.v1.get_default_session instead.\n",
            "\n",
            "WARNING:tensorflow:From /usr/local/lib/python3.6/dist-packages/keras/backend/tensorflow_backend.py:197: The name tf.ConfigProto is deprecated. Please use tf.compat.v1.ConfigProto instead.\n",
            "\n",
            "WARNING:tensorflow:From /usr/local/lib/python3.6/dist-packages/keras/backend/tensorflow_backend.py:207: The name tf.global_variables is deprecated. Please use tf.compat.v1.global_variables instead.\n",
            "\n",
            "WARNING:tensorflow:From /usr/local/lib/python3.6/dist-packages/keras/backend/tensorflow_backend.py:216: The name tf.is_variable_initialized is deprecated. Please use tf.compat.v1.is_variable_initialized instead.\n",
            "\n",
            "WARNING:tensorflow:From /usr/local/lib/python3.6/dist-packages/keras/backend/tensorflow_backend.py:223: The name tf.variables_initializer is deprecated. Please use tf.compat.v1.variables_initializer instead.\n",
            "\n",
            "390/390 [==============================] - 30s 77ms/step - loss: 1.8141 - acc: 0.3098 - val_loss: 1.3899 - val_acc: 0.4968\n",
            "Epoch 2/50\n",
            "390/390 [==============================] - 21s 53ms/step - loss: 1.3051 - acc: 0.5294 - val_loss: 1.1169 - val_acc: 0.5939\n",
            "Epoch 3/50\n",
            "390/390 [==============================] - 21s 53ms/step - loss: 1.0870 - acc: 0.6170 - val_loss: 0.9273 - val_acc: 0.6753\n",
            "Epoch 4/50\n",
            "390/390 [==============================] - 21s 53ms/step - loss: 0.9354 - acc: 0.6736 - val_loss: 0.8385 - val_acc: 0.7096\n",
            "Epoch 5/50\n",
            "390/390 [==============================] - 21s 54ms/step - loss: 0.8361 - acc: 0.7121 - val_loss: 0.7555 - val_acc: 0.7403\n",
            "Epoch 6/50\n",
            "390/390 [==============================] - 21s 53ms/step - loss: 0.7756 - acc: 0.7355 - val_loss: 0.7212 - val_acc: 0.7539\n",
            "Epoch 7/50\n",
            "390/390 [==============================] - 21s 53ms/step - loss: 0.7171 - acc: 0.7549 - val_loss: 0.6789 - val_acc: 0.7679\n",
            "Epoch 8/50\n",
            "390/390 [==============================] - 21s 53ms/step - loss: 0.6770 - acc: 0.7700 - val_loss: 0.6558 - val_acc: 0.7805\n",
            "Epoch 9/50\n",
            "390/390 [==============================] - 21s 53ms/step - loss: 0.6368 - acc: 0.7832 - val_loss: 0.6800 - val_acc: 0.7703\n",
            "Epoch 10/50\n",
            "390/390 [==============================] - 21s 53ms/step - loss: 0.6129 - acc: 0.7926 - val_loss: 0.6115 - val_acc: 0.7943\n",
            "Epoch 11/50\n",
            "390/390 [==============================] - 21s 53ms/step - loss: 0.5777 - acc: 0.8046 - val_loss: 0.6351 - val_acc: 0.7923\n",
            "Epoch 12/50\n",
            "390/390 [==============================] - 21s 53ms/step - loss: 0.5689 - acc: 0.8068 - val_loss: 0.6001 - val_acc: 0.7979\n",
            "Epoch 13/50\n",
            "390/390 [==============================] - 20s 52ms/step - loss: 0.5440 - acc: 0.8158 - val_loss: 0.5802 - val_acc: 0.8058\n",
            "Epoch 14/50\n",
            "390/390 [==============================] - 20s 52ms/step - loss: 0.5265 - acc: 0.8219 - val_loss: 0.6080 - val_acc: 0.8000\n",
            "Epoch 15/50\n",
            "390/390 [==============================] - 21s 53ms/step - loss: 0.5084 - acc: 0.8275 - val_loss: 0.6421 - val_acc: 0.7923\n",
            "Epoch 16/50\n",
            "390/390 [==============================] - 21s 55ms/step - loss: 0.4983 - acc: 0.8307 - val_loss: 0.6036 - val_acc: 0.8059\n",
            "Epoch 17/50\n",
            "390/390 [==============================] - 21s 54ms/step - loss: 0.4892 - acc: 0.8329 - val_loss: 0.5741 - val_acc: 0.8118\n",
            "Epoch 18/50\n",
            "390/390 [==============================] - 21s 54ms/step - loss: 0.4720 - acc: 0.8391 - val_loss: 0.5768 - val_acc: 0.8134\n",
            "Epoch 19/50\n",
            "390/390 [==============================] - 21s 53ms/step - loss: 0.4595 - acc: 0.8432 - val_loss: 0.6266 - val_acc: 0.7976\n",
            "Epoch 20/50\n",
            "390/390 [==============================] - 21s 53ms/step - loss: 0.4469 - acc: 0.8465 - val_loss: 0.6091 - val_acc: 0.8092\n",
            "Epoch 21/50\n",
            "390/390 [==============================] - 21s 55ms/step - loss: 0.4381 - acc: 0.8524 - val_loss: 0.5816 - val_acc: 0.8170\n",
            "Epoch 22/50\n",
            "390/390 [==============================] - 22s 56ms/step - loss: 0.4325 - acc: 0.8515 - val_loss: 0.5727 - val_acc: 0.8199\n",
            "Epoch 23/50\n",
            "390/390 [==============================] - 22s 55ms/step - loss: 0.4268 - acc: 0.8565 - val_loss: 0.5652 - val_acc: 0.8227\n",
            "Epoch 24/50\n",
            "390/390 [==============================] - 22s 56ms/step - loss: 0.4136 - acc: 0.8601 - val_loss: 0.5644 - val_acc: 0.8186\n",
            "Epoch 25/50\n",
            "390/390 [==============================] - 22s 56ms/step - loss: 0.4080 - acc: 0.8624 - val_loss: 0.5878 - val_acc: 0.8166\n",
            "Epoch 26/50\n",
            "390/390 [==============================] - 21s 54ms/step - loss: 0.4058 - acc: 0.8630 - val_loss: 0.5825 - val_acc: 0.8175\n",
            "Epoch 27/50\n",
            "390/390 [==============================] - 21s 54ms/step - loss: 0.3905 - acc: 0.8680 - val_loss: 0.5974 - val_acc: 0.8173\n",
            "Epoch 28/50\n",
            "390/390 [==============================] - 21s 53ms/step - loss: 0.3822 - acc: 0.8698 - val_loss: 0.5853 - val_acc: 0.8170\n",
            "Epoch 29/50\n",
            "390/390 [==============================] - 21s 53ms/step - loss: 0.3810 - acc: 0.8709 - val_loss: 0.6263 - val_acc: 0.8154\n",
            "Epoch 30/50\n",
            "390/390 [==============================] - 21s 54ms/step - loss: 0.3731 - acc: 0.8756 - val_loss: 0.5906 - val_acc: 0.8182\n",
            "Epoch 31/50\n",
            "390/390 [==============================] - 22s 56ms/step - loss: 0.3749 - acc: 0.8732 - val_loss: 0.5617 - val_acc: 0.8231\n",
            "Epoch 32/50\n",
            "390/390 [==============================] - 21s 54ms/step - loss: 0.3622 - acc: 0.8768 - val_loss: 0.5831 - val_acc: 0.8195\n",
            "Epoch 33/50\n",
            "390/390 [==============================] - 22s 56ms/step - loss: 0.3630 - acc: 0.8782 - val_loss: 0.5731 - val_acc: 0.8215\n",
            "Epoch 34/50\n",
            "390/390 [==============================] - 21s 55ms/step - loss: 0.3596 - acc: 0.8760 - val_loss: 0.5649 - val_acc: 0.8286\n",
            "Epoch 35/50\n",
            "390/390 [==============================] - 21s 54ms/step - loss: 0.3517 - acc: 0.8800 - val_loss: 0.5893 - val_acc: 0.8231\n",
            "Epoch 36/50\n",
            "390/390 [==============================] - 21s 53ms/step - loss: 0.3421 - acc: 0.8820 - val_loss: 0.5847 - val_acc: 0.8218\n",
            "Epoch 37/50\n",
            "390/390 [==============================] - 21s 53ms/step - loss: 0.3466 - acc: 0.8824 - val_loss: 0.5825 - val_acc: 0.8269\n",
            "Epoch 38/50\n",
            "390/390 [==============================] - 21s 53ms/step - loss: 0.3362 - acc: 0.8883 - val_loss: 0.5919 - val_acc: 0.8260\n",
            "Epoch 39/50\n",
            "390/390 [==============================] - 21s 53ms/step - loss: 0.3342 - acc: 0.8862 - val_loss: 0.5743 - val_acc: 0.8253\n",
            "Epoch 40/50\n",
            "390/390 [==============================] - 21s 53ms/step - loss: 0.3384 - acc: 0.8872 - val_loss: 0.5841 - val_acc: 0.8231\n",
            "Epoch 41/50\n",
            "390/390 [==============================] - 21s 53ms/step - loss: 0.3272 - acc: 0.8908 - val_loss: 0.6090 - val_acc: 0.8189\n",
            "Epoch 42/50\n",
            "390/390 [==============================] - 21s 53ms/step - loss: 0.3308 - acc: 0.8900 - val_loss: 0.6205 - val_acc: 0.8260\n",
            "Epoch 43/50\n",
            "390/390 [==============================] - 21s 53ms/step - loss: 0.3350 - acc: 0.8865 - val_loss: 0.5923 - val_acc: 0.8255\n",
            "Epoch 44/50\n",
            "390/390 [==============================] - 21s 53ms/step - loss: 0.3245 - acc: 0.8904 - val_loss: 0.5873 - val_acc: 0.8273\n",
            "Epoch 45/50\n",
            "390/390 [==============================] - 21s 53ms/step - loss: 0.3290 - acc: 0.8903 - val_loss: 0.6016 - val_acc: 0.8244\n",
            "Epoch 46/50\n",
            "390/390 [==============================] - 20s 53ms/step - loss: 0.3157 - acc: 0.8959 - val_loss: 0.6080 - val_acc: 0.8242\n",
            "Epoch 47/50\n",
            "390/390 [==============================] - 21s 53ms/step - loss: 0.3072 - acc: 0.8977 - val_loss: 0.6080 - val_acc: 0.8249\n",
            "Epoch 48/50\n",
            "390/390 [==============================] - 21s 53ms/step - loss: 0.3129 - acc: 0.8956 - val_loss: 0.6092 - val_acc: 0.8301\n",
            "Epoch 49/50\n",
            "390/390 [==============================] - 21s 53ms/step - loss: 0.3130 - acc: 0.8960 - val_loss: 0.5869 - val_acc: 0.8259\n",
            "Epoch 50/50\n",
            "390/390 [==============================] - 21s 53ms/step - loss: 0.3046 - acc: 0.8973 - val_loss: 0.6271 - val_acc: 0.8281\n",
            "Model took 1056.39 seconds to train\n"
          ],
          "name": "stdout"
        },
        {
          "output_type": "display_data",
          "data": {
            "image/png": "[encoded data removed]",
            "text/plain": [
              "<Figure size 1080x360 with 2 Axes>"
            ]
          },
          "metadata": {
            "tags": []
          }
        },
        {
          "output_type": "stream",
          "text": [
            "Accuracy on test data is: 82.81\n"
          ],
          "name": "stdout"
        }
      ]
    },
    {
      "cell_type": "markdown",
      "metadata": {
        "id": "_jOUzoOAXeVy",
        "colab_type": "text"
      },
      "source": [
        "Base model final accuracy is 82.81 and max accuracy is 83.01 \n",
        "\n",
        "Our goal is to build a model that beats this baseline accuracy using only Depthwise separable convolutions and pooling . Since our model also has the constrain of having less that 100000 parameters , we will also use 1x1 convolutions as bottlenecks to reduce the number of channels \n",
        "\n"
      ]
    },
    {
      "cell_type": "markdown",
      "metadata": {
        "id": "KyLDRlk1YW1v",
        "colab_type": "text"
      },
      "source": [
        "A good initialization of weights helps in the training of deep learning models. We will use TruncatedNormal initializer with a mean of 0 and std. deviation of 0.05"
      ]
    },
    {
      "cell_type": "code",
      "metadata": {
        "id": "LwHyCbmgorY-",
        "colab_type": "code",
        "colab": {}
      },
      "source": [
        "import tensorflow as tf\n",
        "wt_init = tf.keras.initializers.TruncatedNormal(mean=0.0,stddev=0.05,\n",
        "                                                          seed=42)"
      ],
      "execution_count": 0,
      "outputs": []
    },
    {
      "cell_type": "markdown",
      "metadata": {
        "id": "19fD4rGHYtNP",
        "colab_type": "text"
      },
      "source": [
        "Model with Depthwise separable convolutions . \n",
        "\n",
        "Output channel size and Receptive field values have been indicated below each layer"
      ]
    },
    {
      "cell_type": "code",
      "metadata": {
        "colab_type": "code",
        "outputId": "883175aa-91e3-4b7e-d16c-e66f67814962",
        "id": "s-eXYSgLeYie",
        "colab": {
          "base_uri": "https://localhost:8080/",
          "height": 258
        }
      },
      "source": [
        "# Define the model\n",
        "model = Sequential()\n",
        "#model.add(Dropout(0.1 , input_shape=(32,32,3)))\n",
        "model.add(SeparableConv2D(64, 3, 3, border_mode='same',use_bias=False,depthwise_initializer=wt_init,pointwise_initializer=wt_init, input_shape=(32, 32, 3)))\n",
        "model.add(BatchNormalization())\n",
        "model.add(Activation('relu'))\n",
        "model.add(Dropout(0.05))\n",
        "\n",
        "# output channel size = 32 x 32 , RF =3\n",
        "\n",
        "model.add(SeparableConv2D(96, 3, 3,use_bias=False,depthwise_initializer=wt_init,pointwise_initializer=wt_init))\n",
        "model.add(BatchNormalization())\n",
        "model.add(Activation('relu'))\n",
        "model.add(Dropout(0.05))\n",
        "\n",
        "#output channel size = 30 x 30 , RF =5 \n",
        "\n",
        "\n",
        "model.add(SeparableConv2D(96, 3, 3,use_bias=False,depthwise_initializer=wt_init,pointwise_initializer=wt_init))\n",
        "model.add(BatchNormalization())\n",
        "model.add(Activation('relu'))\n",
        "model.add(Dropout(0.05))\n",
        "\n",
        "# output channel size = 28 x 28, RF =7\n",
        "\n",
        "#bottleneck \n",
        "model.add(Convolution2D(64,1,1,use_bias=False,kernel_initializer=wt_init))\n",
        "model.add(BatchNormalization())\n",
        "model.add(Activation('relu'))\n",
        "\n",
        "# output channel size = 28 x 28 , RF =7\n",
        "\n",
        "model.add(MaxPooling2D(pool_size=(2, 2)))\n",
        "model.add(Dropout(0.05))\n",
        "\n",
        "# output channel size = 14 x 14 , RF = 8\n",
        "\n",
        "model.add(SeparableConv2D(64, 3, 3, use_bias=False,border_mode='same',depthwise_initializer=wt_init,pointwise_initializer=wt_init))\n",
        "model.add(BatchNormalization())\n",
        "model.add(Activation('relu'))\n",
        "model.add(Dropout(0.03))\n",
        "\n",
        "# output channel size = 14 x 14 , RF =12\n",
        "\n",
        "model.add(SeparableConv2D(96, 3, 3,use_bias=False,border_mode='same',depthwise_initializer=wt_init,pointwise_initializer=wt_init))\n",
        "model.add(BatchNormalization())\n",
        "model.add(Activation('relu'))\n",
        "model.add(Dropout(0.03))\n",
        "\n",
        "# output channel size = 14 x 14 , RF = 16\n",
        "\n",
        "model.add(SeparableConv2D(192, 3, 3,use_bias=False,border_mode='same',depthwise_initializer=wt_init,pointwise_initializer=wt_init))\n",
        "model.add(BatchNormalization())\n",
        "model.add(Activation('relu'))\n",
        "model.add(Dropout(0.05))\n",
        "\n",
        "# output channel size = 14 x 14 , RF = 20\n",
        "\n",
        "#bottleneck \n",
        "model.add(Convolution2D(64,1,1,use_bias=False,kernel_initializer=wt_init))\n",
        "model.add(BatchNormalization())\n",
        "model.add(Activation('relu'))\n",
        "\n",
        "# output channel size = 14 x 14 , RF = 20\n",
        "\n",
        "model.add(MaxPooling2D(pool_size=(2, 2)))\n",
        "model.add(Dropout(0.05))\n",
        "\n",
        "# output channel size = 7 x 7 , RF = 22\n",
        "\n",
        "\n",
        "model.add(SeparableConv2D(96, 3, 3,use_bias=False, border_mode='same',depthwise_initializer=wt_init,pointwise_initializer=wt_init))\n",
        "model.add(BatchNormalization())\n",
        "model.add(Activation('relu'))\n",
        "model.add(Dropout(0.05))\n",
        "\n",
        "# output channel size = 7 x 7 , RF =30 \n",
        "\n",
        "model.add(SeparableConv2D(192, 3, 3,use_bias=False,depthwise_initializer=wt_init,pointwise_initializer=wt_init))\n",
        "model.add(BatchNormalization())\n",
        "model.add(Activation('relu'))\n",
        "\n",
        "# output channel size = 5 x 5 , RF =38 \n",
        "\n",
        "model.add(Convolution2D(10,1,1,use_bias=False,kernel_initializer=wt_init))\n",
        "\n",
        "# output channel size = 5 x 5 , RF = 38\n",
        "\n",
        "model.add(AveragePooling2D(5,5))\n",
        "\n",
        "# output channel size = 1 x 1 , RF = 54 \n",
        "\n",
        "model.add(Flatten())\n",
        "model.add(Activation('softmax'))\n",
        "\n",
        "# Compile the model\n",
        "#model.compile(optimizer='adam', loss='categorical_crossentropy', metrics=['accuracy'])\n"
      ],
      "execution_count": 40,
      "outputs": [
        {
          "output_type": "stream",
          "text": [
            "/usr/local/lib/python3.6/dist-packages/ipykernel_launcher.py:3: UserWarning: Update your `SeparableConv2D` call to the Keras 2 API: `SeparableConv2D(64, (3, 3), use_bias=False, depthwise_initializer=<tensorflo..., pointwise_initializer=<tensorflo..., input_shape=(32, 32, 3..., padding=\"same\")`\n",
            "  This is separate from the ipykernel package so we can avoid doing imports until\n",
            "/usr/local/lib/python3.6/dist-packages/ipykernel_launcher.py:10: UserWarning: Update your `SeparableConv2D` call to the Keras 2 API: `SeparableConv2D(96, (3, 3), use_bias=False, depthwise_initializer=<tensorflo..., pointwise_initializer=<tensorflo...)`\n",
            "  # Remove the CWD from sys.path while we load stuff.\n",
            "/usr/local/lib/python3.6/dist-packages/ipykernel_launcher.py:18: UserWarning: Update your `SeparableConv2D` call to the Keras 2 API: `SeparableConv2D(96, (3, 3), use_bias=False, depthwise_initializer=<tensorflo..., pointwise_initializer=<tensorflo...)`\n",
            "/usr/local/lib/python3.6/dist-packages/ipykernel_launcher.py:25: UserWarning: Update your `Conv2D` call to the Keras 2 API: `Conv2D(64, (1, 1), use_bias=False, kernel_initializer=<tensorflo...)`\n",
            "/usr/local/lib/python3.6/dist-packages/ipykernel_launcher.py:36: UserWarning: Update your `SeparableConv2D` call to the Keras 2 API: `SeparableConv2D(64, (3, 3), use_bias=False, depthwise_initializer=<tensorflo..., pointwise_initializer=<tensorflo..., padding=\"same\")`\n",
            "/usr/local/lib/python3.6/dist-packages/ipykernel_launcher.py:43: UserWarning: Update your `SeparableConv2D` call to the Keras 2 API: `SeparableConv2D(96, (3, 3), use_bias=False, depthwise_initializer=<tensorflo..., pointwise_initializer=<tensorflo..., padding=\"same\")`\n",
            "/usr/local/lib/python3.6/dist-packages/ipykernel_launcher.py:50: UserWarning: Update your `SeparableConv2D` call to the Keras 2 API: `SeparableConv2D(192, (3, 3), use_bias=False, depthwise_initializer=<tensorflo..., pointwise_initializer=<tensorflo..., padding=\"same\")`\n",
            "/usr/local/lib/python3.6/dist-packages/ipykernel_launcher.py:57: UserWarning: Update your `Conv2D` call to the Keras 2 API: `Conv2D(64, (1, 1), use_bias=False, kernel_initializer=<tensorflo...)`\n",
            "/usr/local/lib/python3.6/dist-packages/ipykernel_launcher.py:69: UserWarning: Update your `SeparableConv2D` call to the Keras 2 API: `SeparableConv2D(96, (3, 3), use_bias=False, depthwise_initializer=<tensorflo..., pointwise_initializer=<tensorflo..., padding=\"same\")`\n",
            "/usr/local/lib/python3.6/dist-packages/ipykernel_launcher.py:76: UserWarning: Update your `SeparableConv2D` call to the Keras 2 API: `SeparableConv2D(192, (3, 3), use_bias=False, depthwise_initializer=<tensorflo..., pointwise_initializer=<tensorflo...)`\n",
            "/usr/local/lib/python3.6/dist-packages/ipykernel_launcher.py:82: UserWarning: Update your `Conv2D` call to the Keras 2 API: `Conv2D(10, (1, 1), use_bias=False, kernel_initializer=<tensorflo...)`\n"
          ],
          "name": "stderr"
        }
      ]
    },
    {
      "cell_type": "markdown",
      "metadata": {
        "id": "P029qFyVY3Rp",
        "colab_type": "text"
      },
      "source": [
        "print model summary to check that the number of parameters is below 100000"
      ]
    },
    {
      "cell_type": "code",
      "metadata": {
        "colab_type": "code",
        "outputId": "fec8d9d4-e16d-47f0-8cb0-3bec64372c05",
        "id": "8wx0plVJeYij",
        "colab": {
          "base_uri": "https://localhost:8080/",
          "height": 1000
        }
      },
      "source": [
        "model.summary()"
      ],
      "execution_count": 41,
      "outputs": [
        {
          "output_type": "stream",
          "text": [
            "Model: \"sequential_11\"\n",
            "_________________________________________________________________\n",
            "Layer (type)                 Output Shape              Param #   \n",
            "=================================================================\n",
            "separable_conv2d_67 (Separab (None, 32, 32, 64)        219       \n",
            "_________________________________________________________________\n",
            "batch_normalization_77 (Batc (None, 32, 32, 64)        256       \n",
            "_________________________________________________________________\n",
            "activation_92 (Activation)   (None, 32, 32, 64)        0         \n",
            "_________________________________________________________________\n",
            "dropout_88 (Dropout)         (None, 32, 32, 64)        0         \n",
            "_________________________________________________________________\n",
            "separable_conv2d_68 (Separab (None, 30, 30, 96)        6720      \n",
            "_________________________________________________________________\n",
            "batch_normalization_78 (Batc (None, 30, 30, 96)        384       \n",
            "_________________________________________________________________\n",
            "activation_93 (Activation)   (None, 30, 30, 96)        0         \n",
            "_________________________________________________________________\n",
            "dropout_89 (Dropout)         (None, 30, 30, 96)        0         \n",
            "_________________________________________________________________\n",
            "separable_conv2d_69 (Separab (None, 28, 28, 96)        10080     \n",
            "_________________________________________________________________\n",
            "batch_normalization_79 (Batc (None, 28, 28, 96)        384       \n",
            "_________________________________________________________________\n",
            "activation_94 (Activation)   (None, 28, 28, 96)        0         \n",
            "_________________________________________________________________\n",
            "dropout_90 (Dropout)         (None, 28, 28, 96)        0         \n",
            "_________________________________________________________________\n",
            "conv2d_24 (Conv2D)           (None, 28, 28, 64)        6144      \n",
            "_________________________________________________________________\n",
            "batch_normalization_80 (Batc (None, 28, 28, 64)        256       \n",
            "_________________________________________________________________\n",
            "activation_95 (Activation)   (None, 28, 28, 64)        0         \n",
            "_________________________________________________________________\n",
            "max_pooling2d_19 (MaxPooling (None, 14, 14, 64)        0         \n",
            "_________________________________________________________________\n",
            "dropout_91 (Dropout)         (None, 14, 14, 64)        0         \n",
            "_________________________________________________________________\n",
            "separable_conv2d_70 (Separab (None, 14, 14, 64)        4672      \n",
            "_________________________________________________________________\n",
            "batch_normalization_81 (Batc (None, 14, 14, 64)        256       \n",
            "_________________________________________________________________\n",
            "activation_96 (Activation)   (None, 14, 14, 64)        0         \n",
            "_________________________________________________________________\n",
            "dropout_92 (Dropout)         (None, 14, 14, 64)        0         \n",
            "_________________________________________________________________\n",
            "separable_conv2d_71 (Separab (None, 14, 14, 96)        6720      \n",
            "_________________________________________________________________\n",
            "batch_normalization_82 (Batc (None, 14, 14, 96)        384       \n",
            "_________________________________________________________________\n",
            "activation_97 (Activation)   (None, 14, 14, 96)        0         \n",
            "_________________________________________________________________\n",
            "dropout_93 (Dropout)         (None, 14, 14, 96)        0         \n",
            "_________________________________________________________________\n",
            "separable_conv2d_72 (Separab (None, 14, 14, 192)       19296     \n",
            "_________________________________________________________________\n",
            "batch_normalization_83 (Batc (None, 14, 14, 192)       768       \n",
            "_________________________________________________________________\n",
            "activation_98 (Activation)   (None, 14, 14, 192)       0         \n",
            "_________________________________________________________________\n",
            "dropout_94 (Dropout)         (None, 14, 14, 192)       0         \n",
            "_________________________________________________________________\n",
            "conv2d_25 (Conv2D)           (None, 14, 14, 64)        12288     \n",
            "_________________________________________________________________\n",
            "batch_normalization_84 (Batc (None, 14, 14, 64)        256       \n",
            "_________________________________________________________________\n",
            "activation_99 (Activation)   (None, 14, 14, 64)        0         \n",
            "_________________________________________________________________\n",
            "max_pooling2d_20 (MaxPooling (None, 7, 7, 64)          0         \n",
            "_________________________________________________________________\n",
            "dropout_95 (Dropout)         (None, 7, 7, 64)          0         \n",
            "_________________________________________________________________\n",
            "separable_conv2d_73 (Separab (None, 7, 7, 96)          6720      \n",
            "_________________________________________________________________\n",
            "batch_normalization_85 (Batc (None, 7, 7, 96)          384       \n",
            "_________________________________________________________________\n",
            "activation_100 (Activation)  (None, 7, 7, 96)          0         \n",
            "_________________________________________________________________\n",
            "dropout_96 (Dropout)         (None, 7, 7, 96)          0         \n",
            "_________________________________________________________________\n",
            "separable_conv2d_74 (Separab (None, 5, 5, 192)         19296     \n",
            "_________________________________________________________________\n",
            "batch_normalization_86 (Batc (None, 5, 5, 192)         768       \n",
            "_________________________________________________________________\n",
            "activation_101 (Activation)  (None, 5, 5, 192)         0         \n",
            "_________________________________________________________________\n",
            "conv2d_26 (Conv2D)           (None, 5, 5, 10)          1920      \n",
            "_________________________________________________________________\n",
            "average_pooling2d_6 (Average (None, 1, 1, 10)          0         \n",
            "_________________________________________________________________\n",
            "flatten_9 (Flatten)          (None, 10)                0         \n",
            "_________________________________________________________________\n",
            "activation_102 (Activation)  (None, 10)                0         \n",
            "=================================================================\n",
            "Total params: 98,171\n",
            "Trainable params: 96,123\n",
            "Non-trainable params: 2,048\n",
            "_________________________________________________________________\n"
          ],
          "name": "stdout"
        }
      ]
    },
    {
      "cell_type": "markdown",
      "metadata": {
        "id": "IBNtvJNqZs27",
        "colab_type": "text"
      },
      "source": [
        "Use Adam optimizer with a initial learning rate of 0.02 and then reduce the lr progressively during training with a scheduler"
      ]
    },
    {
      "cell_type": "code",
      "metadata": {
        "colab_type": "code",
        "id": "FLhjv1tVeYim",
        "colab": {}
      },
      "source": [
        "from keras.optimizers import Adam\n",
        "from keras.callbacks import LearningRateScheduler\n",
        "def scheduler(epoch, lr):\n",
        "  return round(0.02 * 1/(1 + 0.319 * epoch), 10)\n",
        "\n",
        "# Compile the model\n",
        "model.compile(loss='categorical_crossentropy', optimizer=Adam(lr=0.02), metrics=['accuracy'])  "
      ],
      "execution_count": 0,
      "outputs": []
    },
    {
      "cell_type": "markdown",
      "metadata": {
        "id": "Q2gWmgrDZ6rv",
        "colab_type": "text"
      },
      "source": [
        "Perform Image Normalization for train and test data  "
      ]
    },
    {
      "cell_type": "code",
      "metadata": {
        "id": "G-FYuiLgDQtc",
        "colab_type": "code",
        "colab": {}
      },
      "source": [
        "train_mean = np.mean(train_features, axis=(0,1,2))\n",
        "train_std = np.std(train_features, axis=(0,1,2))\n",
        "\n",
        "normalize = lambda x: ((x - train_mean) / train_std).astype('float32') \n",
        "\n",
        "train_features = normalize(train_features)\n",
        "test_features = normalize(test_features)"
      ],
      "execution_count": 0,
      "outputs": []
    },
    {
      "cell_type": "markdown",
      "metadata": {
        "id": "BUQSUYeJaGg3",
        "colab_type": "text"
      },
      "source": [
        "Train the model for 50 epochs . \n",
        "\n",
        "We are not using any additional image augmentation since the baseline model also did not use image augmentation "
      ]
    },
    {
      "cell_type": "code",
      "metadata": {
        "colab_type": "code",
        "outputId": "63d00010-9ad6-485b-ed18-2f6627a0f5ef",
        "id": "XxPzVzV2eYio",
        "colab": {
          "base_uri": "https://localhost:8080/",
          "height": 1000
        }
      },
      "source": [
        "from keras.preprocessing.image import ImageDataGenerator\n",
        "\n",
        "datagen = ImageDataGenerator()\n",
        "\n",
        "batch_size=128\n",
        "\n",
        "# train the model\n",
        "start = time.time()\n",
        "# Train the model\n",
        "model_info = model.fit_generator(datagen.flow(train_features, train_labels, batch_size = 128),\n",
        "                                 steps_per_epoch = np.ceil(train_features.shape[0]/batch_size), nb_epoch = 50, \n",
        "                                 validation_data = (test_features, test_labels), \n",
        "                                 validation_steps=np.ceil(test_features.shape[0]/batch_size),\n",
        "                                 callbacks=[LearningRateScheduler(scheduler, verbose=1)],\n",
        "                                 verbose=1)\n",
        "end = time.time()\n",
        "print (\"Model took %0.2f seconds to train\"%(end - start))\n",
        "# plot model history\n",
        "plot_model_history(model_info)\n",
        "# compute test accuracy\n",
        "print (\"Accuracy on test data is: %0.2f\"%accuracy(test_features, test_labels, model))"
      ],
      "execution_count": 43,
      "outputs": [
        {
          "output_type": "stream",
          "text": [
            "/usr/local/lib/python3.6/dist-packages/ipykernel_launcher.py:15: UserWarning: The semantics of the Keras 2 argument `steps_per_epoch` is not the same as the Keras 1 argument `samples_per_epoch`. `steps_per_epoch` is the number of batches to draw from the generator at each epoch. Basically steps_per_epoch = samples_per_epoch/batch_size. Similarly `nb_val_samples`->`validation_steps` and `val_samples`->`steps` arguments have changed. Update your method calls accordingly.\n",
            "  from ipykernel import kernelapp as app\n",
            "/usr/local/lib/python3.6/dist-packages/ipykernel_launcher.py:15: UserWarning: Update your `fit_generator` call to the Keras 2 API: `fit_generator(<keras_pre..., steps_per_epoch=391.0, validation_data=(array([[[..., validation_steps=79.0, callbacks=[<keras.ca..., verbose=1, epochs=50)`\n",
            "  from ipykernel import kernelapp as app\n"
          ],
          "name": "stderr"
        },
        {
          "output_type": "stream",
          "text": [
            "Epoch 1/50\n",
            "\n",
            "Epoch 00001: LearningRateScheduler setting learning rate to 0.02.\n",
            "391/391 [==============================] - 76s 193ms/step - loss: 1.6532 - acc: 0.3822 - val_loss: 4.8997 - val_acc: 0.2260\n",
            "Epoch 2/50\n",
            "\n",
            "Epoch 00002: LearningRateScheduler setting learning rate to 0.0151630023.\n",
            "391/391 [==============================] - 62s 159ms/step - loss: 1.1477 - acc: 0.5864 - val_loss: 1.9773 - val_acc: 0.4981\n",
            "Epoch 3/50\n",
            "\n",
            "Epoch 00003: LearningRateScheduler setting learning rate to 0.0122100122.\n",
            "391/391 [==============================] - 63s 160ms/step - loss: 0.9435 - acc: 0.6632 - val_loss: 1.1069 - val_acc: 0.6409\n",
            "Epoch 4/50\n",
            "\n",
            "Epoch 00004: LearningRateScheduler setting learning rate to 0.0102197241.\n",
            "391/391 [==============================] - 63s 161ms/step - loss: 0.8012 - acc: 0.7177 - val_loss: 0.8471 - val_acc: 0.7145\n",
            "Epoch 5/50\n",
            "\n",
            "Epoch 00005: LearningRateScheduler setting learning rate to 0.0087873462.\n",
            "391/391 [==============================] - 62s 159ms/step - loss: 0.7095 - acc: 0.7511 - val_loss: 0.7303 - val_acc: 0.7502\n",
            "Epoch 6/50\n",
            "\n",
            "Epoch 00006: LearningRateScheduler setting learning rate to 0.0077071291.\n",
            "391/391 [==============================] - 62s 159ms/step - loss: 0.6417 - acc: 0.7757 - val_loss: 0.8689 - val_acc: 0.7166\n",
            "Epoch 7/50\n",
            "\n",
            "Epoch 00007: LearningRateScheduler setting learning rate to 0.006863418.\n",
            "391/391 [==============================] - 62s 159ms/step - loss: 0.5888 - acc: 0.7921 - val_loss: 0.7993 - val_acc: 0.7304\n",
            "Epoch 8/50\n",
            "\n",
            "Epoch 00008: LearningRateScheduler setting learning rate to 0.0061862048.\n",
            "391/391 [==============================] - 62s 159ms/step - loss: 0.5467 - acc: 0.8094 - val_loss: 0.6488 - val_acc: 0.7790\n",
            "Epoch 9/50\n",
            "\n",
            "Epoch 00009: LearningRateScheduler setting learning rate to 0.0056306306.\n",
            "391/391 [==============================] - 62s 159ms/step - loss: 0.5107 - acc: 0.8214 - val_loss: 0.5758 - val_acc: 0.8066\n",
            "Epoch 10/50\n",
            "\n",
            "Epoch 00010: LearningRateScheduler setting learning rate to 0.0051666236.\n",
            "391/391 [==============================] - 62s 159ms/step - loss: 0.4753 - acc: 0.8346 - val_loss: 0.6025 - val_acc: 0.7972\n",
            "Epoch 11/50\n",
            "\n",
            "Epoch 00011: LearningRateScheduler setting learning rate to 0.0047732697.\n",
            "391/391 [==============================] - 62s 159ms/step - loss: 0.4454 - acc: 0.8439 - val_loss: 0.5475 - val_acc: 0.8171\n",
            "Epoch 12/50\n",
            "\n",
            "Epoch 00012: LearningRateScheduler setting learning rate to 0.0044355733.\n",
            "391/391 [==============================] - 62s 159ms/step - loss: 0.4254 - acc: 0.8508 - val_loss: 0.5697 - val_acc: 0.8109\n",
            "Epoch 13/50\n",
            "\n",
            "Epoch 00013: LearningRateScheduler setting learning rate to 0.0041425021.\n",
            "391/391 [==============================] - 62s 159ms/step - loss: 0.4055 - acc: 0.8582 - val_loss: 0.5413 - val_acc: 0.8125\n",
            "Epoch 14/50\n",
            "\n",
            "Epoch 00014: LearningRateScheduler setting learning rate to 0.0038857587.\n",
            "391/391 [==============================] - 62s 159ms/step - loss: 0.3846 - acc: 0.8635 - val_loss: 0.5435 - val_acc: 0.8189\n",
            "Epoch 15/50\n",
            "\n",
            "Epoch 00015: LearningRateScheduler setting learning rate to 0.0036589828.\n",
            "391/391 [==============================] - 62s 159ms/step - loss: 0.3650 - acc: 0.8730 - val_loss: 0.5118 - val_acc: 0.8287\n",
            "Epoch 16/50\n",
            "\n",
            "Epoch 00016: LearningRateScheduler setting learning rate to 0.0034572169.\n",
            "391/391 [==============================] - 62s 159ms/step - loss: 0.3439 - acc: 0.8808 - val_loss: 0.5163 - val_acc: 0.8267\n",
            "Epoch 17/50\n",
            "\n",
            "Epoch 00017: LearningRateScheduler setting learning rate to 0.00327654.\n",
            "391/391 [==============================] - 62s 159ms/step - loss: 0.3339 - acc: 0.8820 - val_loss: 0.5653 - val_acc: 0.8220\n",
            "Epoch 18/50\n",
            "\n",
            "Epoch 00018: LearningRateScheduler setting learning rate to 0.0031138097.\n",
            "391/391 [==============================] - 62s 158ms/step - loss: 0.3201 - acc: 0.8863 - val_loss: 0.5452 - val_acc: 0.8258\n",
            "Epoch 19/50\n",
            "\n",
            "Epoch 00019: LearningRateScheduler setting learning rate to 0.0029664788.\n",
            "391/391 [==============================] - 62s 158ms/step - loss: 0.3073 - acc: 0.8904 - val_loss: 0.5029 - val_acc: 0.8316\n",
            "Epoch 20/50\n",
            "\n",
            "Epoch 00020: LearningRateScheduler setting learning rate to 0.00283246.\n",
            "391/391 [==============================] - 62s 159ms/step - loss: 0.2981 - acc: 0.8944 - val_loss: 0.5093 - val_acc: 0.8355\n",
            "Epoch 21/50\n",
            "\n",
            "Epoch 00021: LearningRateScheduler setting learning rate to 0.0027100271.\n",
            "391/391 [==============================] - 62s 158ms/step - loss: 0.2828 - acc: 0.9009 - val_loss: 0.5172 - val_acc: 0.8335\n",
            "Epoch 22/50\n",
            "\n",
            "Epoch 00022: LearningRateScheduler setting learning rate to 0.00259774.\n",
            "391/391 [==============================] - 63s 160ms/step - loss: 0.2724 - acc: 0.9030 - val_loss: 0.5250 - val_acc: 0.8315\n",
            "Epoch 23/50\n",
            "\n",
            "Epoch 00023: LearningRateScheduler setting learning rate to 0.0024943876.\n",
            "391/391 [==============================] - 63s 160ms/step - loss: 0.2640 - acc: 0.9052 - val_loss: 0.5277 - val_acc: 0.8316\n",
            "Epoch 24/50\n",
            "\n",
            "Epoch 00024: LearningRateScheduler setting learning rate to 0.0023989445.\n",
            "391/391 [==============================] - 63s 161ms/step - loss: 0.2540 - acc: 0.9094 - val_loss: 0.5055 - val_acc: 0.8392\n",
            "Epoch 25/50\n",
            "\n",
            "Epoch 00025: LearningRateScheduler setting learning rate to 0.002310536.\n",
            "391/391 [==============================] - 62s 159ms/step - loss: 0.2472 - acc: 0.9110 - val_loss: 0.5213 - val_acc: 0.8390\n",
            "Epoch 26/50\n",
            "\n",
            "Epoch 00026: LearningRateScheduler setting learning rate to 0.0022284123.\n",
            "391/391 [==============================] - 62s 159ms/step - loss: 0.2404 - acc: 0.9139 - val_loss: 0.5755 - val_acc: 0.8241\n",
            "Epoch 27/50\n",
            "\n",
            "Epoch 00027: LearningRateScheduler setting learning rate to 0.002151926.\n",
            "391/391 [==============================] - 62s 159ms/step - loss: 0.2342 - acc: 0.9155 - val_loss: 0.5016 - val_acc: 0.8397\n",
            "Epoch 28/50\n",
            "\n",
            "Epoch 00028: LearningRateScheduler setting learning rate to 0.002080516.\n",
            "391/391 [==============================] - 62s 159ms/step - loss: 0.2310 - acc: 0.9166 - val_loss: 0.5135 - val_acc: 0.8383\n",
            "Epoch 29/50\n",
            "\n",
            "Epoch 00029: LearningRateScheduler setting learning rate to 0.0020136931.\n",
            "391/391 [==============================] - 62s 159ms/step - loss: 0.2253 - acc: 0.9204 - val_loss: 0.5036 - val_acc: 0.8412\n",
            "Epoch 30/50\n",
            "\n",
            "Epoch 00030: LearningRateScheduler setting learning rate to 0.0019510292.\n",
            "391/391 [==============================] - 62s 159ms/step - loss: 0.2145 - acc: 0.9242 - val_loss: 0.5118 - val_acc: 0.8414\n",
            "Epoch 31/50\n",
            "\n",
            "Epoch 00031: LearningRateScheduler setting learning rate to 0.0018921476.\n",
            "391/391 [==============================] - 62s 159ms/step - loss: 0.2100 - acc: 0.9253 - val_loss: 0.5093 - val_acc: 0.8428\n",
            "Epoch 32/50\n",
            "\n",
            "Epoch 00032: LearningRateScheduler setting learning rate to 0.001836716.\n",
            "391/391 [==============================] - 62s 158ms/step - loss: 0.2056 - acc: 0.9263 - val_loss: 0.5229 - val_acc: 0.8423\n",
            "Epoch 33/50\n",
            "\n",
            "Epoch 00033: LearningRateScheduler setting learning rate to 0.0017844397.\n",
            "391/391 [==============================] - 62s 159ms/step - loss: 0.2005 - acc: 0.9280 - val_loss: 0.5125 - val_acc: 0.8428\n",
            "Epoch 34/50\n",
            "\n",
            "Epoch 00034: LearningRateScheduler setting learning rate to 0.0017350568.\n",
            "391/391 [==============================] - 63s 160ms/step - loss: 0.1958 - acc: 0.9289 - val_loss: 0.5065 - val_acc: 0.8440\n",
            "Epoch 35/50\n",
            "\n",
            "Epoch 00035: LearningRateScheduler setting learning rate to 0.0016883336.\n",
            "391/391 [==============================] - 63s 160ms/step - loss: 0.1898 - acc: 0.9312 - val_loss: 0.5397 - val_acc: 0.8429\n",
            "Epoch 36/50\n",
            "\n",
            "Epoch 00036: LearningRateScheduler setting learning rate to 0.0016440608.\n",
            "391/391 [==============================] - 62s 159ms/step - loss: 0.1851 - acc: 0.9325 - val_loss: 0.5456 - val_acc: 0.8391\n",
            "Epoch 37/50\n",
            "\n",
            "Epoch 00037: LearningRateScheduler setting learning rate to 0.0016020506.\n",
            "391/391 [==============================] - 63s 160ms/step - loss: 0.1832 - acc: 0.9334 - val_loss: 0.5171 - val_acc: 0.8449\n",
            "Epoch 38/50\n",
            "\n",
            "Epoch 00038: LearningRateScheduler setting learning rate to 0.0015621339.\n",
            "391/391 [==============================] - 63s 161ms/step - loss: 0.1775 - acc: 0.9358 - val_loss: 0.5209 - val_acc: 0.8458\n",
            "Epoch 39/50\n",
            "\n",
            "Epoch 00039: LearningRateScheduler setting learning rate to 0.0015241579.\n",
            "391/391 [==============================] - 62s 159ms/step - loss: 0.1732 - acc: 0.9383 - val_loss: 0.5472 - val_acc: 0.8410\n",
            "Epoch 40/50\n",
            "\n",
            "Epoch 00040: LearningRateScheduler setting learning rate to 0.0014879845.\n",
            "391/391 [==============================] - 62s 159ms/step - loss: 0.1746 - acc: 0.9365 - val_loss: 0.5230 - val_acc: 0.8467\n",
            "Epoch 41/50\n",
            "\n",
            "Epoch 00041: LearningRateScheduler setting learning rate to 0.0014534884.\n",
            "391/391 [==============================] - 62s 159ms/step - loss: 0.1659 - acc: 0.9401 - val_loss: 0.5295 - val_acc: 0.8455\n",
            "Epoch 42/50\n",
            "\n",
            "Epoch 00042: LearningRateScheduler setting learning rate to 0.0014205554.\n",
            "391/391 [==============================] - 62s 159ms/step - loss: 0.1628 - acc: 0.9416 - val_loss: 0.5303 - val_acc: 0.8485\n",
            "Epoch 43/50\n",
            "\n",
            "Epoch 00043: LearningRateScheduler setting learning rate to 0.0013890818.\n",
            "391/391 [==============================] - 62s 159ms/step - loss: 0.1582 - acc: 0.9432 - val_loss: 0.5291 - val_acc: 0.8469\n",
            "Epoch 44/50\n",
            "\n",
            "Epoch 00044: LearningRateScheduler setting learning rate to 0.0013589726.\n",
            "391/391 [==============================] - 62s 159ms/step - loss: 0.1577 - acc: 0.9440 - val_loss: 0.5534 - val_acc: 0.8449\n",
            "Epoch 45/50\n",
            "\n",
            "Epoch 00045: LearningRateScheduler setting learning rate to 0.001330141.\n",
            "391/391 [==============================] - 62s 159ms/step - loss: 0.1564 - acc: 0.9439 - val_loss: 0.5219 - val_acc: 0.8539\n",
            "Epoch 46/50\n",
            "\n",
            "Epoch 00046: LearningRateScheduler setting learning rate to 0.0013025073.\n",
            "391/391 [==============================] - 62s 159ms/step - loss: 0.1529 - acc: 0.9451 - val_loss: 0.5444 - val_acc: 0.8456\n",
            "Epoch 47/50\n",
            "\n",
            "Epoch 00047: LearningRateScheduler setting learning rate to 0.0012759985.\n",
            "391/391 [==============================] - 62s 159ms/step - loss: 0.1487 - acc: 0.9464 - val_loss: 0.5542 - val_acc: 0.8428\n",
            "Epoch 48/50\n",
            "\n",
            "Epoch 00048: LearningRateScheduler setting learning rate to 0.0012505471.\n",
            "391/391 [==============================] - 62s 159ms/step - loss: 0.1478 - acc: 0.9469 - val_loss: 0.5386 - val_acc: 0.8464\n",
            "Epoch 49/50\n",
            "\n",
            "Epoch 00049: LearningRateScheduler setting learning rate to 0.0012260912.\n",
            "391/391 [==============================] - 62s 158ms/step - loss: 0.1461 - acc: 0.9466 - val_loss: 0.5372 - val_acc: 0.8483\n",
            "Epoch 50/50\n",
            "\n",
            "Epoch 00050: LearningRateScheduler setting learning rate to 0.0012025735.\n",
            "391/391 [==============================] - 62s 159ms/step - loss: 0.1438 - acc: 0.9475 - val_loss: 0.5470 - val_acc: 0.8477\n",
            "Model took 3128.50 seconds to train\n"
          ],
          "name": "stdout"
        },
        {
          "output_type": "display_data",
          "data": {
            "image/png": "[encoded data removed]",
            "text/plain": [
              "<Figure size 1080x360 with 2 Axes>"
            ]
          },
          "metadata": {
            "tags": []
          }
        },
        {
          "output_type": "stream",
          "text": [
            "Accuracy on test data is: 84.77\n"
          ],
          "name": "stdout"
        }
      ]
    },
    {
      "cell_type": "markdown",
      "metadata": {
        "id": "wdR6u9fqaisD",
        "colab_type": "text"
      },
      "source": [
        "#### Accuracy of model on test data is 84.77 after 50 epochs and max validation accuracy of 85.39 was reached at the 46th epoch. This is more than the baseline model's max validation accuracy\n"
      ]
    },
    {
      "cell_type": "markdown",
      "metadata": {
        "id": "QKYSicxcpftr",
        "colab_type": "text"
      },
      "source": [
        "### model without the 1x1 bottleneck \n",
        "Let us remove the bottleneck layers before each max pooling operation to see how the model fares . \n",
        "\n",
        "The output channel size and effective RF will remain the same in the remaining layers since we are only removing 1x1 bottleneck "
      ]
    },
    {
      "cell_type": "code",
      "metadata": {
        "colab_type": "code",
        "outputId": "1c97f240-1b07-4e73-c99c-20141e83fa57",
        "id": "mCXoOGCopdjC",
        "colab": {
          "base_uri": "https://localhost:8080/",
          "height": 683
        }
      },
      "source": [
        "# Define the model\n",
        "model = Sequential()\n",
        "\n",
        "model.add(SeparableConv2D(64, 3, 3, border_mode='same',use_bias=False,depthwise_initializer=wt_init,pointwise_initializer=wt_init, input_shape=(32, 32, 3)))\n",
        "model.add(BatchNormalization())\n",
        "model.add(Activation('relu'))\n",
        "model.add(Dropout(0.05))\n",
        "\n",
        "# output channel size = 32 x 32 , RF =3\n",
        "\n",
        "model.add(SeparableConv2D(96, 3, 3,use_bias=False,depthwise_initializer=wt_init,pointwise_initializer=wt_init))\n",
        "model.add(BatchNormalization())\n",
        "model.add(Activation('relu'))\n",
        "model.add(Dropout(0.05))\n",
        "\n",
        "#output channel size = 30 x 30 , RF =5 \n",
        "\n",
        "\n",
        "model.add(SeparableConv2D(96, 3, 3,use_bias=False,depthwise_initializer=wt_init,pointwise_initializer=wt_init))\n",
        "model.add(BatchNormalization())\n",
        "model.add(Activation('relu'))\n",
        "model.add(Dropout(0.05))\n",
        "\n",
        "# output channel size = 28 x 28, RF =7\n",
        "\n",
        "\n",
        "model.add(MaxPooling2D(pool_size=(2, 2)))\n",
        "model.add(Dropout(0.05))\n",
        "\n",
        "# output channel size = 14 x 14 , RF = 8\n",
        "\n",
        "model.add(SeparableConv2D(64, 3, 3, use_bias=False,border_mode='same',depthwise_initializer=wt_init,pointwise_initializer=wt_init))\n",
        "model.add(BatchNormalization())\n",
        "model.add(Activation('relu'))\n",
        "model.add(Dropout(0.03))\n",
        "\n",
        "# output channel size = 14 x 14 , RF =12\n",
        "\n",
        "model.add(SeparableConv2D(96, 3, 3,use_bias=False,border_mode='same',depthwise_initializer=wt_init,pointwise_initializer=wt_init))\n",
        "model.add(BatchNormalization())\n",
        "model.add(Activation('relu'))\n",
        "model.add(Dropout(0.03))\n",
        "\n",
        "# output channel size = 14 x 14 , RF = 16\n",
        "\n",
        "model.add(SeparableConv2D(192, 3, 3,use_bias=False,border_mode='same',depthwise_initializer=wt_init,pointwise_initializer=wt_init))\n",
        "model.add(BatchNormalization())\n",
        "model.add(Activation('relu'))\n",
        "model.add(Dropout(0.05))\n",
        "\n",
        "# output channel size = 14 x 14 , RF = 20\n",
        "\n",
        "\n",
        "model.add(MaxPooling2D(pool_size=(2, 2)))\n",
        "model.add(Dropout(0.05))\n",
        "\n",
        "# output channel size = 7 x 7 , RF = 22\n",
        "\n",
        "\n",
        "model.add(SeparableConv2D(96, 3, 3,use_bias=False, border_mode='same',depthwise_initializer=wt_init,pointwise_initializer=wt_init))\n",
        "model.add(BatchNormalization())\n",
        "model.add(Activation('relu'))\n",
        "model.add(Dropout(0.05))\n",
        "\n",
        "# output channel size = 7 x 7 , RF =30 \n",
        "\n",
        "model.add(SeparableConv2D(192, 3, 3,use_bias=False,depthwise_initializer=wt_init,pointwise_initializer=wt_init))\n",
        "model.add(BatchNormalization())\n",
        "model.add(Activation('relu'))\n",
        "\n",
        "# output channel size = 5 x 5 , RF =38 \n",
        "\n",
        "model.add(Convolution2D(10,1,1,use_bias=False,kernel_initializer=wt_init))\n",
        "\n",
        "# output channel size = 5 x 5 , RF = 38\n",
        "\n",
        "model.add(AveragePooling2D(5,5))\n",
        "\n",
        "# output channel size = 1 x 1 , RF = 54 \n",
        "\n",
        "model.add(Flatten())\n",
        "model.add(Activation('softmax'))\n",
        "\n",
        "# Compile the model\n",
        "model.compile(loss='categorical_crossentropy', optimizer=Adam(lr=0.02), metrics=['accuracy'])  \n"
      ],
      "execution_count": 0,
      "outputs": [
        {
          "output_type": "stream",
          "text": [
            "WARNING:tensorflow:From /usr/local/lib/python3.6/dist-packages/keras/backend/tensorflow_backend.py:66: The name tf.get_default_graph is deprecated. Please use tf.compat.v1.get_default_graph instead.\n",
            "\n",
            "WARNING:tensorflow:From /usr/local/lib/python3.6/dist-packages/keras/backend/tensorflow_backend.py:541: The name tf.placeholder is deprecated. Please use tf.compat.v1.placeholder instead.\n",
            "\n",
            "WARNING:tensorflow:From /usr/local/lib/python3.6/dist-packages/keras/backend/tensorflow_backend.py:190: The name tf.get_default_session is deprecated. Please use tf.compat.v1.get_default_session instead.\n",
            "\n",
            "WARNING:tensorflow:From /usr/local/lib/python3.6/dist-packages/keras/backend/tensorflow_backend.py:197: The name tf.ConfigProto is deprecated. Please use tf.compat.v1.ConfigProto instead.\n",
            "\n",
            "WARNING:tensorflow:From /usr/local/lib/python3.6/dist-packages/keras/backend/tensorflow_backend.py:203: The name tf.Session is deprecated. Please use tf.compat.v1.Session instead.\n",
            "\n"
          ],
          "name": "stdout"
        },
        {
          "output_type": "stream",
          "text": [
            "/usr/local/lib/python3.6/dist-packages/ipykernel_launcher.py:3: UserWarning: Update your `SeparableConv2D` call to the Keras 2 API: `SeparableConv2D(64, (3, 3), use_bias=False, depthwise_initializer=<tensorflo..., pointwise_initializer=<tensorflo..., input_shape=(32, 32, 3..., padding=\"same\")`\n",
            "  This is separate from the ipykernel package so we can avoid doing imports until\n"
          ],
          "name": "stderr"
        },
        {
          "output_type": "stream",
          "text": [
            "WARNING:tensorflow:From /usr/local/lib/python3.6/dist-packages/keras/backend/tensorflow_backend.py:207: The name tf.global_variables is deprecated. Please use tf.compat.v1.global_variables instead.\n",
            "\n",
            "WARNING:tensorflow:From /usr/local/lib/python3.6/dist-packages/keras/backend/tensorflow_backend.py:216: The name tf.is_variable_initialized is deprecated. Please use tf.compat.v1.is_variable_initialized instead.\n",
            "\n",
            "WARNING:tensorflow:From /usr/local/lib/python3.6/dist-packages/keras/backend/tensorflow_backend.py:223: The name tf.variables_initializer is deprecated. Please use tf.compat.v1.variables_initializer instead.\n",
            "\n",
            "WARNING:tensorflow:From /usr/local/lib/python3.6/dist-packages/keras/backend/tensorflow_backend.py:2041: The name tf.nn.fused_batch_norm is deprecated. Please use tf.compat.v1.nn.fused_batch_norm instead.\n",
            "\n",
            "WARNING:tensorflow:From /usr/local/lib/python3.6/dist-packages/keras/backend/tensorflow_backend.py:148: The name tf.placeholder_with_default is deprecated. Please use tf.compat.v1.placeholder_with_default instead.\n",
            "\n",
            "WARNING:tensorflow:From /usr/local/lib/python3.6/dist-packages/keras/backend/tensorflow_backend.py:3733: calling dropout (from tensorflow.python.ops.nn_ops) with keep_prob is deprecated and will be removed in a future version.\n",
            "Instructions for updating:\n",
            "Please use `rate` instead of `keep_prob`. Rate should be set to `rate = 1 - keep_prob`.\n"
          ],
          "name": "stdout"
        },
        {
          "output_type": "stream",
          "text": [
            "/usr/local/lib/python3.6/dist-packages/ipykernel_launcher.py:10: UserWarning: Update your `SeparableConv2D` call to the Keras 2 API: `SeparableConv2D(96, (3, 3), use_bias=False, depthwise_initializer=<tensorflo..., pointwise_initializer=<tensorflo...)`\n",
            "  # Remove the CWD from sys.path while we load stuff.\n",
            "/usr/local/lib/python3.6/dist-packages/ipykernel_launcher.py:18: UserWarning: Update your `SeparableConv2D` call to the Keras 2 API: `SeparableConv2D(96, (3, 3), use_bias=False, depthwise_initializer=<tensorflo..., pointwise_initializer=<tensorflo...)`\n"
          ],
          "name": "stderr"
        },
        {
          "output_type": "stream",
          "text": [
            "WARNING:tensorflow:From /usr/local/lib/python3.6/dist-packages/keras/backend/tensorflow_backend.py:4267: The name tf.nn.max_pool is deprecated. Please use tf.nn.max_pool2d instead.\n",
            "\n"
          ],
          "name": "stdout"
        },
        {
          "output_type": "stream",
          "text": [
            "/usr/local/lib/python3.6/dist-packages/ipykernel_launcher.py:37: UserWarning: Update your `SeparableConv2D` call to the Keras 2 API: `SeparableConv2D(64, (3, 3), use_bias=False, depthwise_initializer=<tensorflo..., pointwise_initializer=<tensorflo..., padding=\"same\")`\n",
            "/usr/local/lib/python3.6/dist-packages/ipykernel_launcher.py:44: UserWarning: Update your `SeparableConv2D` call to the Keras 2 API: `SeparableConv2D(96, (3, 3), use_bias=False, depthwise_initializer=<tensorflo..., pointwise_initializer=<tensorflo..., padding=\"same\")`\n",
            "/usr/local/lib/python3.6/dist-packages/ipykernel_launcher.py:51: UserWarning: Update your `SeparableConv2D` call to the Keras 2 API: `SeparableConv2D(192, (3, 3), use_bias=False, depthwise_initializer=<tensorflo..., pointwise_initializer=<tensorflo..., padding=\"same\")`\n",
            "/usr/local/lib/python3.6/dist-packages/ipykernel_launcher.py:71: UserWarning: Update your `SeparableConv2D` call to the Keras 2 API: `SeparableConv2D(96, (3, 3), use_bias=False, depthwise_initializer=<tensorflo..., pointwise_initializer=<tensorflo..., padding=\"same\")`\n"
          ],
          "name": "stderr"
        },
        {
          "output_type": "stream",
          "text": [
            "WARNING:tensorflow:From /usr/local/lib/python3.6/dist-packages/keras/backend/tensorflow_backend.py:4271: The name tf.nn.avg_pool is deprecated. Please use tf.nn.avg_pool2d instead.\n",
            "\n"
          ],
          "name": "stdout"
        },
        {
          "output_type": "stream",
          "text": [
            "/usr/local/lib/python3.6/dist-packages/ipykernel_launcher.py:78: UserWarning: Update your `SeparableConv2D` call to the Keras 2 API: `SeparableConv2D(192, (3, 3), use_bias=False, depthwise_initializer=<tensorflo..., pointwise_initializer=<tensorflo...)`\n",
            "/usr/local/lib/python3.6/dist-packages/ipykernel_launcher.py:84: UserWarning: Update your `Conv2D` call to the Keras 2 API: `Conv2D(10, (1, 1), use_bias=False, kernel_initializer=<tensorflo...)`\n"
          ],
          "name": "stderr"
        }
      ]
    },
    {
      "cell_type": "markdown",
      "metadata": {
        "colab_type": "text",
        "id": "UK5vzNUApdjH"
      },
      "source": [
        "print model summary to check that the number of parameters is below 100000"
      ]
    },
    {
      "cell_type": "code",
      "metadata": {
        "colab_type": "code",
        "outputId": "a758949d-fc3b-46b0-c798-a5217e8531b3",
        "id": "Xuh_mD9zpdjH",
        "colab": {
          "base_uri": "https://localhost:8080/",
          "height": 1000
        }
      },
      "source": [
        "model.summary()"
      ],
      "execution_count": 0,
      "outputs": [
        {
          "output_type": "stream",
          "text": [
            "Model: \"sequential_1\"\n",
            "_________________________________________________________________\n",
            "Layer (type)                 Output Shape              Param #   \n",
            "=================================================================\n",
            "separable_conv2d_1 (Separabl (None, 32, 32, 64)        219       \n",
            "_________________________________________________________________\n",
            "batch_normalization_1 (Batch (None, 32, 32, 64)        256       \n",
            "_________________________________________________________________\n",
            "activation_1 (Activation)    (None, 32, 32, 64)        0         \n",
            "_________________________________________________________________\n",
            "dropout_1 (Dropout)          (None, 32, 32, 64)        0         \n",
            "_________________________________________________________________\n",
            "separable_conv2d_2 (Separabl (None, 30, 30, 96)        6720      \n",
            "_________________________________________________________________\n",
            "batch_normalization_2 (Batch (None, 30, 30, 96)        384       \n",
            "_________________________________________________________________\n",
            "activation_2 (Activation)    (None, 30, 30, 96)        0         \n",
            "_________________________________________________________________\n",
            "dropout_2 (Dropout)          (None, 30, 30, 96)        0         \n",
            "_________________________________________________________________\n",
            "separable_conv2d_3 (Separabl (None, 28, 28, 96)        10080     \n",
            "_________________________________________________________________\n",
            "batch_normalization_3 (Batch (None, 28, 28, 96)        384       \n",
            "_________________________________________________________________\n",
            "activation_3 (Activation)    (None, 28, 28, 96)        0         \n",
            "_________________________________________________________________\n",
            "dropout_3 (Dropout)          (None, 28, 28, 96)        0         \n",
            "_________________________________________________________________\n",
            "max_pooling2d_1 (MaxPooling2 (None, 14, 14, 96)        0         \n",
            "_________________________________________________________________\n",
            "dropout_4 (Dropout)          (None, 14, 14, 96)        0         \n",
            "_________________________________________________________________\n",
            "separable_conv2d_4 (Separabl (None, 14, 14, 64)        7008      \n",
            "_________________________________________________________________\n",
            "batch_normalization_4 (Batch (None, 14, 14, 64)        256       \n",
            "_________________________________________________________________\n",
            "activation_4 (Activation)    (None, 14, 14, 64)        0         \n",
            "_________________________________________________________________\n",
            "dropout_5 (Dropout)          (None, 14, 14, 64)        0         \n",
            "_________________________________________________________________\n",
            "separable_conv2d_5 (Separabl (None, 14, 14, 96)        6720      \n",
            "_________________________________________________________________\n",
            "batch_normalization_5 (Batch (None, 14, 14, 96)        384       \n",
            "_________________________________________________________________\n",
            "activation_5 (Activation)    (None, 14, 14, 96)        0         \n",
            "_________________________________________________________________\n",
            "dropout_6 (Dropout)          (None, 14, 14, 96)        0         \n",
            "_________________________________________________________________\n",
            "separable_conv2d_6 (Separabl (None, 14, 14, 192)       19296     \n",
            "_________________________________________________________________\n",
            "batch_normalization_6 (Batch (None, 14, 14, 192)       768       \n",
            "_________________________________________________________________\n",
            "activation_6 (Activation)    (None, 14, 14, 192)       0         \n",
            "_________________________________________________________________\n",
            "dropout_7 (Dropout)          (None, 14, 14, 192)       0         \n",
            "_________________________________________________________________\n",
            "max_pooling2d_2 (MaxPooling2 (None, 7, 7, 192)         0         \n",
            "_________________________________________________________________\n",
            "dropout_8 (Dropout)          (None, 7, 7, 192)         0         \n",
            "_________________________________________________________________\n",
            "separable_conv2d_7 (Separabl (None, 7, 7, 96)          20160     \n",
            "_________________________________________________________________\n",
            "batch_normalization_7 (Batch (None, 7, 7, 96)          384       \n",
            "_________________________________________________________________\n",
            "activation_7 (Activation)    (None, 7, 7, 96)          0         \n",
            "_________________________________________________________________\n",
            "dropout_9 (Dropout)          (None, 7, 7, 96)          0         \n",
            "_________________________________________________________________\n",
            "separable_conv2d_8 (Separabl (None, 5, 5, 192)         19296     \n",
            "_________________________________________________________________\n",
            "batch_normalization_8 (Batch (None, 5, 5, 192)         768       \n",
            "_________________________________________________________________\n",
            "activation_8 (Activation)    (None, 5, 5, 192)         0         \n",
            "_________________________________________________________________\n",
            "conv2d_1 (Conv2D)            (None, 5, 5, 10)          1920      \n",
            "_________________________________________________________________\n",
            "average_pooling2d_1 (Average (None, 1, 1, 10)          0         \n",
            "_________________________________________________________________\n",
            "flatten_1 (Flatten)          (None, 10)                0         \n",
            "_________________________________________________________________\n",
            "activation_9 (Activation)    (None, 10)                0         \n",
            "=================================================================\n",
            "Total params: 95,003\n",
            "Trainable params: 93,211\n",
            "Non-trainable params: 1,792\n",
            "_________________________________________________________________\n"
          ],
          "name": "stdout"
        }
      ]
    },
    {
      "cell_type": "markdown",
      "metadata": {
        "colab_type": "text",
        "id": "IpMIT1H2pdjO"
      },
      "source": [
        "Train the model for 50 epochs . \n",
        "\n",
        "We are not using any additional image augmentation since the baseline model also did not use image augmentation "
      ]
    },
    {
      "cell_type": "code",
      "metadata": {
        "colab_type": "code",
        "outputId": "9532d566-f611-4068-b976-39dcd0d8185d",
        "id": "lx7LmRfmpdjP",
        "colab": {
          "base_uri": "https://localhost:8080/",
          "height": 1000
        }
      },
      "source": [
        "from keras.preprocessing.image import ImageDataGenerator\n",
        "\n",
        "datagen = ImageDataGenerator()\n",
        "\n",
        "batch_size=128\n",
        "\n",
        "# train the model\n",
        "start = time.time()\n",
        "# Train the model\n",
        "model_info = model.fit_generator(datagen.flow(train_features, train_labels, batch_size = 128),\n",
        "                                 steps_per_epoch = np.ceil(train_features.shape[0]/batch_size), nb_epoch = 50, \n",
        "                                 validation_data = (test_features, test_labels), \n",
        "                                 validation_steps=np.ceil(test_features.shape[0]/batch_size),\n",
        "                                 callbacks=[LearningRateScheduler(scheduler, verbose=1)],\n",
        "                                 verbose=1)\n",
        "end = time.time()\n",
        "print (\"Model took %0.2f seconds to train\"%(end - start))\n",
        "# plot model history\n",
        "plot_model_history(model_info)\n",
        "# compute test accuracy\n",
        "print (\"Accuracy on test data is: %0.2f\"%accuracy(test_features, test_labels, model))"
      ],
      "execution_count": 0,
      "outputs": [
        {
          "output_type": "stream",
          "text": [
            "WARNING:tensorflow:From /usr/local/lib/python3.6/dist-packages/tensorflow_core/python/ops/math_grad.py:1424: where (from tensorflow.python.ops.array_ops) is deprecated and will be removed in a future version.\n",
            "Instructions for updating:\n",
            "Use tf.where in 2.0, which has the same broadcast rule as np.where\n"
          ],
          "name": "stdout"
        },
        {
          "output_type": "stream",
          "text": [
            "/usr/local/lib/python3.6/dist-packages/ipykernel_launcher.py:15: UserWarning: The semantics of the Keras 2 argument `steps_per_epoch` is not the same as the Keras 1 argument `samples_per_epoch`. `steps_per_epoch` is the number of batches to draw from the generator at each epoch. Basically steps_per_epoch = samples_per_epoch/batch_size. Similarly `nb_val_samples`->`validation_steps` and `val_samples`->`steps` arguments have changed. Update your method calls accordingly.\n",
            "  from ipykernel import kernelapp as app\n",
            "/usr/local/lib/python3.6/dist-packages/ipykernel_launcher.py:15: UserWarning: Update your `fit_generator` call to the Keras 2 API: `fit_generator(<keras_pre..., steps_per_epoch=391.0, validation_data=(array([[[..., validation_steps=79.0, callbacks=[<keras.ca..., verbose=1, epochs=50)`\n",
            "  from ipykernel import kernelapp as app\n"
          ],
          "name": "stderr"
        },
        {
          "output_type": "stream",
          "text": [
            "WARNING:tensorflow:From /usr/local/lib/python3.6/dist-packages/keras/backend/tensorflow_backend.py:1033: The name tf.assign_add is deprecated. Please use tf.compat.v1.assign_add instead.\n",
            "\n",
            "WARNING:tensorflow:From /usr/local/lib/python3.6/dist-packages/keras/backend/tensorflow_backend.py:1020: The name tf.assign is deprecated. Please use tf.compat.v1.assign instead.\n",
            "\n",
            "Epoch 1/50\n",
            "\n",
            "Epoch 00001: LearningRateScheduler setting learning rate to 0.02.\n",
            "391/391 [==============================] - 62s 160ms/step - loss: 1.6947 - acc: 0.3668 - val_loss: 4.0713 - val_acc: 0.3050\n",
            "Epoch 2/50\n",
            "\n",
            "Epoch 00002: LearningRateScheduler setting learning rate to 0.0151630023.\n",
            "391/391 [==============================] - 56s 144ms/step - loss: 1.2404 - acc: 0.5520 - val_loss: 1.5805 - val_acc: 0.5233\n",
            "Epoch 3/50\n",
            "\n",
            "Epoch 00003: LearningRateScheduler setting learning rate to 0.0122100122.\n",
            "391/391 [==============================] - 56s 143ms/step - loss: 1.0032 - acc: 0.6431 - val_loss: 1.2527 - val_acc: 0.5775\n",
            "Epoch 4/50\n",
            "\n",
            "Epoch 00004: LearningRateScheduler setting learning rate to 0.0102197241.\n",
            "391/391 [==============================] - 56s 143ms/step - loss: 0.8644 - acc: 0.6939 - val_loss: 0.9582 - val_acc: 0.6627\n",
            "Epoch 5/50\n",
            "\n",
            "Epoch 00005: LearningRateScheduler setting learning rate to 0.0087873462.\n",
            "391/391 [==============================] - 56s 143ms/step - loss: 0.7691 - acc: 0.7281 - val_loss: 1.0298 - val_acc: 0.6555\n",
            "Epoch 6/50\n",
            "\n",
            "Epoch 00006: LearningRateScheduler setting learning rate to 0.0077071291.\n",
            "391/391 [==============================] - 56s 143ms/step - loss: 0.6869 - acc: 0.7575 - val_loss: 0.7676 - val_acc: 0.7315\n",
            "Epoch 7/50\n",
            "\n",
            "Epoch 00007: LearningRateScheduler setting learning rate to 0.006863418.\n",
            "391/391 [==============================] - 56s 143ms/step - loss: 0.6164 - acc: 0.7841 - val_loss: 0.8199 - val_acc: 0.7228\n",
            "Epoch 8/50\n",
            "\n",
            "Epoch 00008: LearningRateScheduler setting learning rate to 0.0061862048.\n",
            "391/391 [==============================] - 56s 143ms/step - loss: 0.5679 - acc: 0.8010 - val_loss: 0.7450 - val_acc: 0.7419\n",
            "Epoch 9/50\n",
            "\n",
            "Epoch 00009: LearningRateScheduler setting learning rate to 0.0056306306.\n",
            "391/391 [==============================] - 56s 144ms/step - loss: 0.5141 - acc: 0.8190 - val_loss: 0.7079 - val_acc: 0.7555\n",
            "Epoch 10/50\n",
            "\n",
            "Epoch 00010: LearningRateScheduler setting learning rate to 0.0051666236.\n",
            "391/391 [==============================] - 56s 143ms/step - loss: 0.4778 - acc: 0.8325 - val_loss: 0.6521 - val_acc: 0.7732\n",
            "Epoch 11/50\n",
            "\n",
            "Epoch 00011: LearningRateScheduler setting learning rate to 0.0047732697.\n",
            "391/391 [==============================] - 56s 143ms/step - loss: 0.4459 - acc: 0.8432 - val_loss: 0.6359 - val_acc: 0.7824\n",
            "Epoch 12/50\n",
            "\n",
            "Epoch 00012: LearningRateScheduler setting learning rate to 0.0044355733.\n",
            "391/391 [==============================] - 56s 143ms/step - loss: 0.4161 - acc: 0.8534 - val_loss: 0.6251 - val_acc: 0.7865\n",
            "Epoch 13/50\n",
            "\n",
            "Epoch 00013: LearningRateScheduler setting learning rate to 0.0041425021.\n",
            "391/391 [==============================] - 56s 143ms/step - loss: 0.3907 - acc: 0.8613 - val_loss: 0.6144 - val_acc: 0.7992\n",
            "Epoch 14/50\n",
            "\n",
            "Epoch 00014: LearningRateScheduler setting learning rate to 0.0038857587.\n",
            "391/391 [==============================] - 56s 143ms/step - loss: 0.3681 - acc: 0.8711 - val_loss: 0.5939 - val_acc: 0.8010\n",
            "Epoch 15/50\n",
            "\n",
            "Epoch 00015: LearningRateScheduler setting learning rate to 0.0036589828.\n",
            "391/391 [==============================] - 56s 142ms/step - loss: 0.3462 - acc: 0.8772 - val_loss: 0.5712 - val_acc: 0.8112\n",
            "Epoch 16/50\n",
            "\n",
            "Epoch 00016: LearningRateScheduler setting learning rate to 0.0034572169.\n",
            "391/391 [==============================] - 56s 143ms/step - loss: 0.3289 - acc: 0.8842 - val_loss: 0.5588 - val_acc: 0.8152\n",
            "Epoch 17/50\n",
            "\n",
            "Epoch 00017: LearningRateScheduler setting learning rate to 0.00327654.\n",
            "391/391 [==============================] - 56s 142ms/step - loss: 0.3084 - acc: 0.8908 - val_loss: 0.5887 - val_acc: 0.8116\n",
            "Epoch 18/50\n",
            "\n",
            "Epoch 00018: LearningRateScheduler setting learning rate to 0.0031138097.\n",
            "391/391 [==============================] - 56s 143ms/step - loss: 0.2951 - acc: 0.8940 - val_loss: 0.5755 - val_acc: 0.8226\n",
            "Epoch 19/50\n",
            "\n",
            "Epoch 00019: LearningRateScheduler setting learning rate to 0.0029664788.\n",
            "391/391 [==============================] - 56s 142ms/step - loss: 0.2796 - acc: 0.9002 - val_loss: 0.5369 - val_acc: 0.8282\n",
            "Epoch 20/50\n",
            "\n",
            "Epoch 00020: LearningRateScheduler setting learning rate to 0.00283246.\n",
            "391/391 [==============================] - 56s 143ms/step - loss: 0.2737 - acc: 0.9013 - val_loss: 0.5447 - val_acc: 0.8274\n",
            "Epoch 21/50\n",
            "\n",
            "Epoch 00021: LearningRateScheduler setting learning rate to 0.0027100271.\n",
            "391/391 [==============================] - 56s 143ms/step - loss: 0.2575 - acc: 0.9082 - val_loss: 0.5837 - val_acc: 0.8166\n",
            "Epoch 22/50\n",
            "\n",
            "Epoch 00022: LearningRateScheduler setting learning rate to 0.00259774.\n",
            "391/391 [==============================] - 56s 143ms/step - loss: 0.2479 - acc: 0.9118 - val_loss: 0.5538 - val_acc: 0.8223\n",
            "Epoch 23/50\n",
            "\n",
            "Epoch 00023: LearningRateScheduler setting learning rate to 0.0024943876.\n",
            "391/391 [==============================] - 56s 142ms/step - loss: 0.2365 - acc: 0.9144 - val_loss: 0.5519 - val_acc: 0.8264\n",
            "Epoch 24/50\n",
            "\n",
            "Epoch 00024: LearningRateScheduler setting learning rate to 0.0023989445.\n",
            "391/391 [==============================] - 56s 142ms/step - loss: 0.2254 - acc: 0.9197 - val_loss: 0.5570 - val_acc: 0.8288\n",
            "Epoch 25/50\n",
            "\n",
            "Epoch 00025: LearningRateScheduler setting learning rate to 0.002310536.\n",
            "391/391 [==============================] - 56s 143ms/step - loss: 0.2186 - acc: 0.9220 - val_loss: 0.5710 - val_acc: 0.8278\n",
            "Epoch 26/50\n",
            "\n",
            "Epoch 00026: LearningRateScheduler setting learning rate to 0.0022284123.\n",
            "391/391 [==============================] - 56s 142ms/step - loss: 0.2109 - acc: 0.9239 - val_loss: 0.5305 - val_acc: 0.8368\n",
            "Epoch 27/50\n",
            "\n",
            "Epoch 00027: LearningRateScheduler setting learning rate to 0.002151926.\n",
            "391/391 [==============================] - 56s 143ms/step - loss: 0.2019 - acc: 0.9278 - val_loss: 0.6023 - val_acc: 0.8217\n",
            "Epoch 28/50\n",
            "\n",
            "Epoch 00028: LearningRateScheduler setting learning rate to 0.002080516.\n",
            "391/391 [==============================] - 55s 142ms/step - loss: 0.1928 - acc: 0.9311 - val_loss: 0.5992 - val_acc: 0.8241\n",
            "Epoch 29/50\n",
            "\n",
            "Epoch 00029: LearningRateScheduler setting learning rate to 0.0020136931.\n",
            "391/391 [==============================] - 56s 142ms/step - loss: 0.1901 - acc: 0.9316 - val_loss: 0.5544 - val_acc: 0.8379\n",
            "Epoch 30/50\n",
            "\n",
            "Epoch 00030: LearningRateScheduler setting learning rate to 0.0019510292.\n",
            "391/391 [==============================] - 56s 143ms/step - loss: 0.1797 - acc: 0.9355 - val_loss: 0.5551 - val_acc: 0.8386\n",
            "Epoch 31/50\n",
            "\n",
            "Epoch 00031: LearningRateScheduler setting learning rate to 0.0018921476.\n",
            "391/391 [==============================] - 57s 146ms/step - loss: 0.1780 - acc: 0.9362 - val_loss: 0.5602 - val_acc: 0.8359\n",
            "Epoch 32/50\n",
            "\n",
            "Epoch 00032: LearningRateScheduler setting learning rate to 0.001836716.\n",
            "391/391 [==============================] - 57s 145ms/step - loss: 0.1708 - acc: 0.9381 - val_loss: 0.5796 - val_acc: 0.8318\n",
            "Epoch 33/50\n",
            "\n",
            "Epoch 00033: LearningRateScheduler setting learning rate to 0.0017844397.\n",
            "391/391 [==============================] - 57s 147ms/step - loss: 0.1647 - acc: 0.9402 - val_loss: 0.5845 - val_acc: 0.8292\n",
            "Epoch 34/50\n",
            "\n",
            "Epoch 00034: LearningRateScheduler setting learning rate to 0.0017350568.\n",
            "391/391 [==============================] - 57s 147ms/step - loss: 0.1622 - acc: 0.9418 - val_loss: 0.5580 - val_acc: 0.8403\n",
            "Epoch 35/50\n",
            "\n",
            "Epoch 00035: LearningRateScheduler setting learning rate to 0.0016883336.\n",
            "391/391 [==============================] - 57s 145ms/step - loss: 0.1573 - acc: 0.9424 - val_loss: 0.5918 - val_acc: 0.8317\n",
            "Epoch 36/50\n",
            "\n",
            "Epoch 00036: LearningRateScheduler setting learning rate to 0.0016440608.\n",
            "391/391 [==============================] - 57s 146ms/step - loss: 0.1509 - acc: 0.9463 - val_loss: 0.5905 - val_acc: 0.8359\n",
            "Epoch 37/50\n",
            "\n",
            "Epoch 00037: LearningRateScheduler setting learning rate to 0.0016020506.\n",
            "391/391 [==============================] - 57s 145ms/step - loss: 0.1491 - acc: 0.9473 - val_loss: 0.5867 - val_acc: 0.8377\n",
            "Epoch 38/50\n",
            "\n",
            "Epoch 00038: LearningRateScheduler setting learning rate to 0.0015621339.\n",
            "391/391 [==============================] - 57s 146ms/step - loss: 0.1438 - acc: 0.9491 - val_loss: 0.5929 - val_acc: 0.8353\n",
            "Epoch 39/50\n",
            "\n",
            "Epoch 00039: LearningRateScheduler setting learning rate to 0.0015241579.\n",
            "391/391 [==============================] - 57s 146ms/step - loss: 0.1408 - acc: 0.9491 - val_loss: 0.5967 - val_acc: 0.8347\n",
            "Epoch 40/50\n",
            "\n",
            "Epoch 00040: LearningRateScheduler setting learning rate to 0.0014879845.\n",
            "391/391 [==============================] - 57s 145ms/step - loss: 0.1380 - acc: 0.9503 - val_loss: 0.5885 - val_acc: 0.8410\n",
            "Epoch 41/50\n",
            "\n",
            "Epoch 00041: LearningRateScheduler setting learning rate to 0.0014534884.\n",
            "391/391 [==============================] - 56s 143ms/step - loss: 0.1338 - acc: 0.9523 - val_loss: 0.5937 - val_acc: 0.8401\n",
            "Epoch 42/50\n",
            "\n",
            "Epoch 00042: LearningRateScheduler setting learning rate to 0.0014205554.\n",
            "391/391 [==============================] - 56s 144ms/step - loss: 0.1302 - acc: 0.9517 - val_loss: 0.6355 - val_acc: 0.8292\n",
            "Epoch 43/50\n",
            "\n",
            "Epoch 00043: LearningRateScheduler setting learning rate to 0.0013890818.\n",
            "391/391 [==============================] - 56s 144ms/step - loss: 0.1254 - acc: 0.9539 - val_loss: 0.5907 - val_acc: 0.8421\n",
            "Epoch 44/50\n",
            "\n",
            "Epoch 00044: LearningRateScheduler setting learning rate to 0.0013589726.\n",
            "391/391 [==============================] - 56s 144ms/step - loss: 0.1271 - acc: 0.9540 - val_loss: 0.6048 - val_acc: 0.8381\n",
            "Epoch 45/50\n",
            "\n",
            "Epoch 00045: LearningRateScheduler setting learning rate to 0.001330141.\n",
            "391/391 [==============================] - 56s 144ms/step - loss: 0.1238 - acc: 0.9552 - val_loss: 0.6072 - val_acc: 0.8386\n",
            "Epoch 46/50\n",
            "\n",
            "Epoch 00046: LearningRateScheduler setting learning rate to 0.0013025073.\n",
            "391/391 [==============================] - 56s 143ms/step - loss: 0.1195 - acc: 0.9560 - val_loss: 0.6235 - val_acc: 0.8357\n",
            "Epoch 47/50\n",
            "\n",
            "Epoch 00047: LearningRateScheduler setting learning rate to 0.0012759985.\n",
            "391/391 [==============================] - 56s 143ms/step - loss: 0.1217 - acc: 0.9563 - val_loss: 0.6209 - val_acc: 0.8390\n",
            "Epoch 48/50\n",
            "\n",
            "Epoch 00048: LearningRateScheduler setting learning rate to 0.0012505471.\n",
            "391/391 [==============================] - 56s 143ms/step - loss: 0.1178 - acc: 0.9575 - val_loss: 0.6142 - val_acc: 0.8401\n",
            "Epoch 49/50\n",
            "\n",
            "Epoch 00049: LearningRateScheduler setting learning rate to 0.0012260912.\n",
            "391/391 [==============================] - 56s 144ms/step - loss: 0.1131 - acc: 0.9592 - val_loss: 0.6375 - val_acc: 0.8305\n",
            "Epoch 50/50\n",
            "\n",
            "Epoch 00050: LearningRateScheduler setting learning rate to 0.0012025735.\n",
            "391/391 [==============================] - 57s 146ms/step - loss: 0.1116 - acc: 0.9602 - val_loss: 0.6382 - val_acc: 0.8394\n",
            "Model took 2814.97 seconds to train\n"
          ],
          "name": "stdout"
        },
        {
          "output_type": "display_data",
          "data": {
            "image/png": "[encoded data removed]",
            "text/plain": [
              "<Figure size 1080x360 with 2 Axes>"
            ]
          },
          "metadata": {
            "tags": []
          }
        },
        {
          "output_type": "stream",
          "text": [
            "Accuracy on test data is: 83.94\n"
          ],
          "name": "stdout"
        }
      ]
    },
    {
      "cell_type": "markdown",
      "metadata": {
        "id": "YT-PTuDvqem7",
        "colab_type": "text"
      },
      "source": [
        "### The model without 1x1 bottleneck layers reached a max val accuracy of 84.21 in the 43rd epoch and val accuracy at the end of 50 epochs is 83.94 . These are also higher than the baseline model accuracy . \n",
        "\n",
        "We can also notice a reduction in time taken per epoch (about 9-10%) and also in overall time for 50 epochs. This is understandable given that we removed 2 1x1 bottlenecks layers. \n",
        "\n",
        "We can also see that the gap between train and test accuracy for the model without bottlnecks is slightly larger than the model with bottlenecks. Perhaps the 1x1 bottlenecks also help in adding some level of regularization in addition to reducing the number of feature maps/parameters."
      ]
    }
  ]
}